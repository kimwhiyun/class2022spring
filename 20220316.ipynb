{
  "nbformat": 4,
  "nbformat_minor": 0,
  "metadata": {
    "colab": {
      "name": "20220316.ipynb",
      "provenance": [],
      "collapsed_sections": [],
      "authorship_tag": "ABX9TyOFInwKLfM9XP9N7yGyKQbY",
      "include_colab_link": true
    },
    "kernelspec": {
      "name": "python3",
      "display_name": "Python 3"
    },
    "language_info": {
      "name": "python"
    }
  },
  "cells": [
    {
      "cell_type": "markdown",
      "metadata": {
        "id": "view-in-github",
        "colab_type": "text"
      },
      "source": [
        "<a href=\"https://colab.research.google.com/github/kimwhiyun/class2022spring/blob/main/20220316.ipynb\" target=\"_parent\"><img src=\"https://colab.research.google.com/assets/colab-badge.svg\" alt=\"Open In Colab\"/></a>"
      ]
    },
    {
      "cell_type": "code",
      "source": [
        ""
      ],
      "metadata": {
        "id": "xa6QLVz0Nh-L"
      },
      "execution_count": null,
      "outputs": []
    },
    {
      "cell_type": "code",
      "source": [
        ""
      ],
      "metadata": {
        "id": "WIXXCSpQNi3V"
      },
      "execution_count": null,
      "outputs": []
    },
    {
      "cell_type": "code",
      "execution_count": null,
      "metadata": {
        "colab": {
          "base_uri": "https://localhost:8080/"
        },
        "id": "SLRmg-LLGOR8",
        "outputId": "d0350d7f-78aa-4c4c-d214-b5bd43cd1bba"
      },
      "outputs": [
        {
          "output_type": "stream",
          "name": "stdout",
          "text": [
            "<class 'int'>\n"
          ]
        }
      ],
      "source": [
        "a = 1 ; print(type(a))"
      ]
    },
    {
      "cell_type": "code",
      "source": [
        "a = 1.1; print(type(a))\n"
      ],
      "metadata": {
        "colab": {
          "base_uri": "https://localhost:8080/"
        },
        "id": "zQZXJXg1HXKI",
        "outputId": "86f11224-bcfc-4921-f49b-2d44fbb1301c"
      },
      "execution_count": null,
      "outputs": [
        {
          "output_type": "stream",
          "name": "stdout",
          "text": [
            "<class 'float'>\n"
          ]
        }
      ]
    },
    {
      "cell_type": "code",
      "source": [
        "b = 2\n"
      ],
      "metadata": {
        "id": "Bs5GU4nBHhvZ"
      },
      "execution_count": null,
      "outputs": []
    },
    {
      "cell_type": "code",
      "source": [
        "print(b)\n"
      ],
      "metadata": {
        "colab": {
          "base_uri": "https://localhost:8080/"
        },
        "id": "tiw5ufykHmBN",
        "outputId": "a2b1c74d-c8b7-4ba3-ee05-039f0d471cb3"
      },
      "execution_count": null,
      "outputs": [
        {
          "output_type": "stream",
          "name": "stdout",
          "text": [
            "2\n"
          ]
        }
      ]
    },
    {
      "cell_type": "code",
      "source": [
        "a = '123'; print(type(a)); print(a[1])"
      ],
      "metadata": {
        "colab": {
          "base_uri": "https://localhost:8080/"
        },
        "id": "4ock4uQkHs8A",
        "outputId": "3143344e-f9ed-437e-bdf7-4c5fcc16ead7"
      },
      "execution_count": null,
      "outputs": [
        {
          "output_type": "stream",
          "name": "stdout",
          "text": [
            "<class 'str'>\n",
            "2\n"
          ]
        }
      ]
    },
    {
      "cell_type": "code",
      "source": [
        "a = [1,'a', [3, '4']]; print(type(a)); print(a[0]); print(a[1]); print(a[2]); print(a[2][1])"
      ],
      "metadata": {
        "colab": {
          "base_uri": "https://localhost:8080/"
        },
        "id": "nCLpAOCqINGB",
        "outputId": "d660c32b-3281-45bf-90ea-739972812aba"
      },
      "execution_count": null,
      "outputs": [
        {
          "output_type": "stream",
          "name": "stdout",
          "text": [
            "<class 'list'>\n",
            "1\n",
            "a\n",
            "[3, '4']\n",
            "4\n"
          ]
        }
      ]
    },
    {
      "cell_type": "code",
      "source": [
        "a = [1,2,3]"
      ],
      "metadata": {
        "id": "gq5wCLzMIy7R"
      },
      "execution_count": null,
      "outputs": []
    },
    {
      "cell_type": "code",
      "source": [
        "print(a[1] + a[2])"
      ],
      "metadata": {
        "colab": {
          "base_uri": "https://localhost:8080/"
        },
        "id": "Kl1abuuZLpvV",
        "outputId": "815d883f-8ee4-44d6-e578-2a867db2cc6a"
      },
      "execution_count": null,
      "outputs": [
        {
          "output_type": "stream",
          "name": "stdout",
          "text": [
            "3\n"
          ]
        }
      ]
    },
    {
      "cell_type": "code",
      "source": [
        "a =\t{\"a\": \"apple\", \"b\": \"orange\", \"c\": 2014}\n",
        "print(type(a))\n",
        "print(a[\"a\"])"
      ],
      "metadata": {
        "colab": {
          "base_uri": "https://localhost:8080/"
        },
        "id": "8xhn8mIaMbGo",
        "outputId": "559dcfb1-6dbc-4304-e922-20b99d9c61bc"
      },
      "execution_count": null,
      "outputs": [
        {
          "output_type": "stream",
          "name": "stdout",
          "text": [
            "<class 'dict'>\n",
            "apple\n"
          ]
        }
      ]
    },
    {
      "cell_type": "code",
      "source": [
        "a[\"a\"]"
      ],
      "metadata": {
        "colab": {
          "base_uri": "https://localhost:8080/",
          "height": 35
        },
        "id": "AR2EDGWrNGoj",
        "outputId": "5ff7375a-4ec3-41da-d19e-33e54f02896e"
      },
      "execution_count": null,
      "outputs": [
        {
          "output_type": "execute_result",
          "data": {
            "text/plain": [
              "'apple'"
            ],
            "application/vnd.google.colaboratory.intrinsic+json": {
              "type": "string"
            }
          },
          "metadata": {},
          "execution_count": 13
        }
      ]
    },
    {
      "cell_type": "code",
      "source": [
        "s = 'abcdef'\n",
        "print(s[0], s[5], s[-1], s[-6])\n",
        "print(s[1:3], s[1:], s[:3], s[:])"
      ],
      "metadata": {
        "colab": {
          "base_uri": "https://localhost:8080/"
        },
        "id": "FBSkVTUyO-oo",
        "outputId": "c861594c-346d-4275-9ce3-4b773000de3f"
      },
      "execution_count": 14,
      "outputs": [
        {
          "output_type": "stream",
          "name": "stdout",
          "text": [
            "a f f a\n",
            "bc bcdef abc abcdef\n"
          ]
        }
      ]
    },
    {
      "cell_type": "code",
      "source": [
        "n = [5, 6, 7]\n",
        "print(n[0], n[2], n[-1], n[-3])\n",
        "print(n[1:2], n[1:], n[:2], n[:])"
      ],
      "metadata": {
        "colab": {
          "base_uri": "https://localhost:8080/"
        },
        "id": "KAKWhr_oPGBd",
        "outputId": "7a2e43eb-278d-4e31-c21a-1be2e881191e"
      },
      "execution_count": 17,
      "outputs": [
        {
          "output_type": "stream",
          "name": "stdout",
          "text": [
            "5 7 7 5\n",
            "[6] [6, 7] [5, 6] [5, 6, 7]\n"
          ]
        }
      ]
    },
    {
      "cell_type": "code",
      "source": [
        "len(s)"
      ],
      "metadata": {
        "colab": {
          "base_uri": "https://localhost:8080/"
        },
        "id": "CV_XqmbFPZ1J",
        "outputId": "0a6d1958-249d-44cd-d5c6-a8d1e36a9d18"
      },
      "execution_count": 16,
      "outputs": [
        {
          "output_type": "execute_result",
          "data": {
            "text/plain": [
              "6"
            ]
          },
          "metadata": {},
          "execution_count": 16
        }
      ]
    },
    {
      "cell_type": "code",
      "source": [
        "s[1]+s[3]+s[4:]*40\n"
      ],
      "metadata": {
        "colab": {
          "base_uri": "https://localhost:8080/",
          "height": 35
        },
        "id": "VCx5ykf-PcKJ",
        "outputId": "36bd6884-d1cf-40c6-c37e-518ee3c30a97"
      },
      "execution_count": 18,
      "outputs": [
        {
          "output_type": "execute_result",
          "data": {
            "text/plain": [
              "'bdefefefefefefefefefefefefefefefefefefefefefefefefefefefefefefefefefefefefefefefef'"
            ],
            "application/vnd.google.colaboratory.intrinsic+json": {
              "type": "string"
            }
          },
          "metadata": {},
          "execution_count": 18
        }
      ]
    },
    {
      "cell_type": "code",
      "source": [
        "s.upper()"
      ],
      "metadata": {
        "colab": {
          "base_uri": "https://localhost:8080/",
          "height": 35
        },
        "id": "EV-415IlPlxh",
        "outputId": "78168723-4782-4db8-9be0-34dc344765b8"
      },
      "execution_count": 19,
      "outputs": [
        {
          "output_type": "execute_result",
          "data": {
            "text/plain": [
              "'ABCDEF'"
            ],
            "application/vnd.google.colaboratory.intrinsic+json": {
              "type": "string"
            }
          },
          "metadata": {},
          "execution_count": 19
        }
      ]
    },
    {
      "cell_type": "code",
      "source": [
        "s = 'this is a.\\n'\n",
        "s"
      ],
      "metadata": {
        "colab": {
          "base_uri": "https://localhost:8080/",
          "height": 35
        },
        "id": "putrkQrSTdEG",
        "outputId": "54bc11ab-e6ef-4d06-c1af-354794308220"
      },
      "execution_count": 26,
      "outputs": [
        {
          "output_type": "execute_result",
          "data": {
            "text/plain": [
              "'this is a.\\n'"
            ],
            "application/vnd.google.colaboratory.intrinsic+json": {
              "type": "string"
            }
          },
          "metadata": {},
          "execution_count": 26
        }
      ]
    },
    {
      "cell_type": "code",
      "source": [
        "result = s.find('this')\n",
        "result"
      ],
      "metadata": {
        "colab": {
          "base_uri": "https://localhost:8080/"
        },
        "id": "1LtEW19ITvq4",
        "outputId": "1c5f82d7-49c5-434e-c1e1-aec17f87cb04"
      },
      "execution_count": 23,
      "outputs": [
        {
          "output_type": "execute_result",
          "data": {
            "text/plain": [
              "0"
            ]
          },
          "metadata": {},
          "execution_count": 23
        }
      ]
    },
    {
      "cell_type": "code",
      "source": [
        "s = s.strip()      \t          \n",
        "s"
      ],
      "metadata": {
        "colab": {
          "base_uri": "https://localhost:8080/",
          "height": 35
        },
        "id": "baoz_Ea-UGZF",
        "outputId": "e9857da0-9fb6-47e4-c862-97ac8ef5e843"
      },
      "execution_count": 28,
      "outputs": [
        {
          "output_type": "execute_result",
          "data": {
            "text/plain": [
              "'this is a.'"
            ],
            "application/vnd.google.colaboratory.intrinsic+json": {
              "type": "string"
            }
          },
          "metadata": {},
          "execution_count": 28
        }
      ]
    },
    {
      "cell_type": "code",
      "source": [
        "tokens = s.split(' ')\t        # split s into a list wherever a t is found (whitespace by default)\n",
        "tokens"
      ],
      "metadata": {
        "colab": {
          "base_uri": "https://localhost:8080/"
        },
        "id": "8NRMr33KUeAU",
        "outputId": "8b634844-3ef5-43f5-e578-8a16f8b64952"
      },
      "execution_count": 29,
      "outputs": [
        {
          "output_type": "execute_result",
          "data": {
            "text/plain": [
              "['this', 'is', 'a.']"
            ]
          },
          "metadata": {},
          "execution_count": 29
        }
      ]
    },
    {
      "cell_type": "markdown",
      "source": [
        "이거 쓰면 기호 없애줌"
      ],
      "metadata": {
        "id": "OXoxMJE7qsHq"
      }
    },
    {
      "cell_type": "code",
      "source": [
        ""
      ],
      "metadata": {
        "id": "Ioxcq2dWs8_N"
      },
      "execution_count": null,
      "outputs": []
    },
    {
      "cell_type": "code",
      "source": [
        "s = ' '.join(tokens)\t        # combine the words of the text into a string using s as the glue\n",
        "s"
      ],
      "metadata": {
        "colab": {
          "base_uri": "https://localhost:8080/",
          "height": 35
        },
        "id": "S-YVgRq8UlNw",
        "outputId": "a427d53e-7ee9-487c-8cce-26af0a598dde"
      },
      "execution_count": 30,
      "outputs": [
        {
          "output_type": "execute_result",
          "data": {
            "text/plain": [
              "'this is a.'"
            ],
            "application/vnd.google.colaboratory.intrinsic+json": {
              "type": "string"
            }
          },
          "metadata": {},
          "execution_count": 30
        }
      ]
    },
    {
      "cell_type": "code",
      "source": [
        "s = s.replace('a', 'b') # replace instances of t with u inside s\n",
        "s"
      ],
      "metadata": {
        "colab": {
          "base_uri": "https://localhost:8080/",
          "height": 35
        },
        "id": "eV9A60UBUmxE",
        "outputId": "f89896bc-4ed8-4884-84e1-8c6cc6a87879"
      },
      "execution_count": 31,
      "outputs": [
        {
          "output_type": "execute_result",
          "data": {
            "text/plain": [
              "'this is b.'"
            ],
            "application/vnd.google.colaboratory.intrinsic+json": {
              "type": "string"
            }
          },
          "metadata": {},
          "execution_count": 31
        }
      ]
    },
    {
      "cell_type": "code",
      "source": [
        "def add(a,b):\n",
        "  return a+b\n",
        "\n",
        "def subtract(a,b):\n",
        "  return a-b\n",
        "\n",
        "def multiply(a,b):\n",
        "  return a*b\n",
        "\n",
        "def divide(a,b):\n",
        "  return a/b"
      ],
      "metadata": {
        "id": "z3TWwXJLVO3l"
      },
      "execution_count": 35,
      "outputs": []
    },
    {
      "cell_type": "code",
      "source": [
        "def add(a,b):\n",
        "  c = a + b\n",
        "  return c\n",
        "  \n"
      ],
      "metadata": {
        "id": "btVWJm5TVjKu"
      },
      "execution_count": 39,
      "outputs": []
    },
    {
      "cell_type": "code",
      "source": [
        "c = add(1,2); print(c)\n",
        "c = subtract(1,2); print(c)\n",
        "c = multiply(1,2); print(c)\n",
        "c = divide(1,2); print(c)"
      ],
      "metadata": {
        "colab": {
          "base_uri": "https://localhost:8080/"
        },
        "id": "X2lkb_yZV7TD",
        "outputId": "36eabd05-ef3b-4a79-d623-c192291a3816"
      },
      "execution_count": 40,
      "outputs": [
        {
          "output_type": "stream",
          "name": "stdout",
          "text": [
            "3\n",
            "-1\n",
            "2\n",
            "0.5\n"
          ]
        }
      ]
    },
    {
      "cell_type": "code",
      "source": [
        "a = [1, 2, 3, 4]\n",
        "for i in a:\n",
        "    print(i)"
      ],
      "metadata": {
        "colab": {
          "base_uri": "https://localhost:8080/"
        },
        "id": "BE7eY8ivYQUP",
        "outputId": "80bc9939-7194-4b7f-872f-c841a7bae4c0"
      },
      "execution_count": 41,
      "outputs": [
        {
          "output_type": "stream",
          "name": "stdout",
          "text": [
            "1\n",
            "2\n",
            "3\n",
            "4\n"
          ]
        }
      ]
    },
    {
      "cell_type": "code",
      "source": [
        "a = [1, 2, 3, 4]\n",
        "for i in range(4):\n",
        "    print(a[i])"
      ],
      "metadata": {
        "colab": {
          "base_uri": "https://localhost:8080/"
        },
        "id": "lMKuB1yJitcq",
        "outputId": "b897da5b-3995-4bed-c3cf-de440a98d17f"
      },
      "execution_count": 43,
      "outputs": [
        {
          "output_type": "stream",
          "name": "stdout",
          "text": [
            "1\n",
            "2\n",
            "3\n",
            "4\n"
          ]
        }
      ]
    },
    {
      "cell_type": "code",
      "source": [
        "a = 0\n",
        "if a == 0:\n",
        "    print(a)\n",
        "else:\n",
        "    print(a+1)"
      ],
      "metadata": {
        "colab": {
          "base_uri": "https://localhost:8080/"
        },
        "id": "TO-KNJrni3KY",
        "outputId": "071b3248-e929-4f32-bf24-4840929b3492"
      },
      "execution_count": 44,
      "outputs": [
        {
          "output_type": "stream",
          "name": "stdout",
          "text": [
            "0\n"
          ]
        }
      ]
    },
    {
      "cell_type": "code",
      "source": [
        "a = 0\n",
        "if a != 0:\n",
        "    print(a)"
      ],
      "metadata": {
        "id": "N78L0BXljR2I"
      },
      "execution_count": 45,
      "outputs": []
    },
    {
      "cell_type": "code",
      "source": [
        "for i in range(1, 3):\n",
        "    for j in range(3, 5):\n",
        "        print(i*j)"
      ],
      "metadata": {
        "colab": {
          "base_uri": "https://localhost:8080/"
        },
        "id": "xvezqS9-jaVJ",
        "outputId": "5688e62d-838e-4982-f5e5-e5dd7aec1246"
      },
      "execution_count": 46,
      "outputs": [
        {
          "output_type": "stream",
          "name": "stdout",
          "text": [
            "3\n",
            "4\n",
            "6\n",
            "8\n"
          ]
        }
      ]
    },
    {
      "cell_type": "code",
      "source": [
        "a = [1, 2, 3, 4]\n",
        "b = [i for i in a if i >=2]\n",
        "b"
      ],
      "metadata": {
        "colab": {
          "base_uri": "https://localhost:8080/"
        },
        "id": "hcYhebNEjrFU",
        "outputId": "1682c6d7-384e-42a5-9e49-6f46eb87ee66"
      },
      "execution_count": 47,
      "outputs": [
        {
          "output_type": "execute_result",
          "data": {
            "text/plain": [
              "[2, 3, 4]"
            ]
          },
          "metadata": {},
          "execution_count": 47
        }
      ]
    },
    {
      "cell_type": "code",
      "source": [
        "a = ['red', 'green', 'blue', 'purple']\n",
        "b = [1, 2, 3, 4]\n",
        "c = {a[i]:b[i] for i in range(4)}\n",
        "c"
      ],
      "metadata": {
        "colab": {
          "base_uri": "https://localhost:8080/"
        },
        "id": "YiAWqJ6ojz_U",
        "outputId": "bde4d945-9880-47df-c4dd-4f7aa79e988b"
      },
      "execution_count": 49,
      "outputs": [
        {
          "output_type": "execute_result",
          "data": {
            "text/plain": [
              "{'blue': 3, 'green': 2, 'purple': 4, 'red': 1}"
            ]
          },
          "metadata": {},
          "execution_count": 49
        }
      ]
    },
    {
      "cell_type": "code",
      "source": [
        "import numpy"
      ],
      "metadata": {
        "id": "MbRurglAk-NM"
      },
      "execution_count": 66,
      "outputs": []
    },
    {
      "cell_type": "code",
      "source": [
        "numpy.random.randn(5)"
      ],
      "metadata": {
        "colab": {
          "base_uri": "https://localhost:8080/"
        },
        "id": "uiEgna43lCWR",
        "outputId": "0a00cd85-fba5-4ab0-a0ff-9a86f20b8ac2"
      },
      "execution_count": 67,
      "outputs": [
        {
          "output_type": "execute_result",
          "data": {
            "text/plain": [
              "array([-0.46115393,  0.22268567,  1.48329262, -1.96933727, -0.41254773])"
            ]
          },
          "metadata": {},
          "execution_count": 67
        }
      ]
    },
    {
      "cell_type": "code",
      "source": [
        "import numpy as np\n",
        "n = np.random.randn(100)"
      ],
      "metadata": {
        "id": "I5JZjLh0kbiZ"
      },
      "execution_count": 68,
      "outputs": []
    },
    {
      "cell_type": "code",
      "source": [
        "import matplotlib\n",
        "matplotlib.pyplot.hist(n)"
      ],
      "metadata": {
        "colab": {
          "base_uri": "https://localhost:8080/",
          "height": 356
        },
        "id": "cNQii-LKkf7-",
        "outputId": "6f47515e-3660-4548-c61f-11112819d0f2"
      },
      "execution_count": 69,
      "outputs": [
        {
          "output_type": "execute_result",
          "data": {
            "text/plain": [
              "(array([ 3.,  6., 12., 10., 18., 14., 17.,  5.,  5., 10.]),\n",
              " array([-2.22940319, -1.80759287, -1.38578254, -0.96397222, -0.5421619 ,\n",
              "        -0.12035158,  0.30145875,  0.72326907,  1.14507939,  1.56688971,\n",
              "         1.98870004]),\n",
              " <a list of 10 Patch objects>)"
            ]
          },
          "metadata": {},
          "execution_count": 69
        },
        {
          "output_type": "display_data",
          "data": {
            "text/plain": [
              "<Figure size 432x288 with 1 Axes>"
            ],
            "image/png": "[encoded data removed]"
          },
          "metadata": {
            "needs_background": "light"
          }
        }
      ]
    },
    {
      "cell_type": "code",
      "source": [
        "import matplotlib.pyplot as plt\n",
        "plt.hist(n)"
      ],
      "metadata": {
        "colab": {
          "base_uri": "https://localhost:8080/",
          "height": 356
        },
        "id": "njLPZ-cLltIB",
        "outputId": "aaf42e95-9f1e-470c-f94b-33c97ad5e616"
      },
      "execution_count": 70,
      "outputs": [
        {
          "output_type": "execute_result",
          "data": {
            "text/plain": [
              "(array([ 3.,  6., 12., 10., 18., 14., 17.,  5.,  5., 10.]),\n",
              " array([-2.22940319, -1.80759287, -1.38578254, -0.96397222, -0.5421619 ,\n",
              "        -0.12035158,  0.30145875,  0.72326907,  1.14507939,  1.56688971,\n",
              "         1.98870004]),\n",
              " <a list of 10 Patch objects>)"
            ]
          },
          "metadata": {},
          "execution_count": 70
        },
        {
          "output_type": "display_data",
          "data": {
            "text/plain": [
              "<Figure size 432x288 with 1 Axes>"
            ],
            "image/png": "[encoded data removed]"
          },
          "metadata": {
            "needs_background": "light"
          }
        }
      ]
    },
    {
      "cell_type": "code",
      "source": [
        "import numpy as np\n"
      ],
      "metadata": {
        "id": "AyBPRdZNmJpn"
      },
      "execution_count": 71,
      "outputs": []
    },
    {
      "cell_type": "code",
      "source": [
        "x = np.array([1,2,3])\n",
        "print(x)\n",
        "print(type(x))\n",
        "print(x.shape)"
      ],
      "metadata": {
        "colab": {
          "base_uri": "https://localhost:8080/"
        },
        "id": "P39TUH7emLgU",
        "outputId": "9c97e040-851f-46c8-acc5-6a2eb27e345b"
      },
      "execution_count": 72,
      "outputs": [
        {
          "output_type": "stream",
          "name": "stdout",
          "text": [
            "[1 2 3]\n",
            "<class 'numpy.ndarray'>\n",
            "(3,)\n"
          ]
        }
      ]
    },
    {
      "cell_type": "code",
      "source": [
        "x = np.arange(0,10,2)\n",
        "print(x)\n",
        "print(type(x))\n",
        "print(x.shape)"
      ],
      "metadata": {
        "colab": {
          "base_uri": "https://localhost:8080/"
        },
        "id": "BFuHGWuBmcmw",
        "outputId": "ca909fa8-87cd-4ae5-bcb7-9cdffcb2d247"
      },
      "execution_count": 73,
      "outputs": [
        {
          "output_type": "stream",
          "name": "stdout",
          "text": [
            "[0 2 4 6 8]\n",
            "<class 'numpy.ndarray'>\n",
            "(5,)\n"
          ]
        }
      ]
    },
    {
      "cell_type": "markdown",
      "source": [
        "arrange 아님 increment"
      ],
      "metadata": {
        "id": "nfGoqVOxqkFU"
      }
    },
    {
      "cell_type": "code",
      "source": [
        "x = np.linspace(0,10,6)\n",
        "print(x)\n",
        "print(type(x))\n",
        "print(x.shape)"
      ],
      "metadata": {
        "colab": {
          "base_uri": "https://localhost:8080/"
        },
        "id": "CCqj3d5cmmiY",
        "outputId": "b4ad6715-f5fc-4660-eeed-8a3c3d654832"
      },
      "execution_count": 74,
      "outputs": [
        {
          "output_type": "stream",
          "name": "stdout",
          "text": [
            "[ 0.  2.  4.  6.  8. 10.]\n",
            "<class 'numpy.ndarray'>\n",
            "(6,)\n"
          ]
        }
      ]
    },
    {
      "cell_type": "markdown",
      "source": [
        ""
      ],
      "metadata": {
        "id": "3reAArXUqjBl"
      }
    },
    {
      "cell_type": "code",
      "source": [
        "x = np.array([[1,2,3], [4,5,6]])\n",
        "print(x)\n",
        "print(type(x))\n",
        "print(x.shape)"
      ],
      "metadata": {
        "colab": {
          "base_uri": "https://localhost:8080/"
        },
        "id": "khmErwWBnMeA",
        "outputId": "ab30ec32-88aa-464c-b3ee-979fcc905151"
      },
      "execution_count": 75,
      "outputs": [
        {
          "output_type": "stream",
          "name": "stdout",
          "text": [
            "[[1 2 3]\n",
            " [4 5 6]]\n",
            "<class 'numpy.ndarray'>\n",
            "(2, 3)\n"
          ]
        }
      ]
    },
    {
      "cell_type": "code",
      "source": [
        "x = np.array([[[1,2,3], [4,5,6]], [[7,8,9], [10,11,12]]])\n",
        "print(x)\n",
        "print(type(x))\n",
        "print(x.shape)"
      ],
      "metadata": {
        "colab": {
          "base_uri": "https://localhost:8080/"
        },
        "id": "YpOzdtf1nTT5",
        "outputId": "f4106620-e87d-4f95-b94f-0b38fc33f9a8"
      },
      "execution_count": 76,
      "outputs": [
        {
          "output_type": "stream",
          "name": "stdout",
          "text": [
            "[[[ 1  2  3]\n",
            "  [ 4  5  6]]\n",
            "\n",
            " [[ 7  8  9]\n",
            "  [10 11 12]]]\n",
            "<class 'numpy.ndarray'>\n",
            "(2, 2, 3)\n"
          ]
        }
      ]
    },
    {
      "cell_type": "code",
      "source": [
        "x = np.ones([2, 2, 3])\n",
        "print(x)\n",
        "print(type(x))\n",
        "print(x.shape)"
      ],
      "metadata": {
        "colab": {
          "base_uri": "https://localhost:8080/"
        },
        "id": "le5GPk3rnuO8",
        "outputId": "fd7759c1-3fc6-475e-a509-d4a049d965ac"
      },
      "execution_count": 80,
      "outputs": [
        {
          "output_type": "stream",
          "name": "stdout",
          "text": [
            "[[[1. 1. 1.]\n",
            "  [1. 1. 1.]]\n",
            "\n",
            " [[1. 1. 1.]\n",
            "  [1. 1. 1.]]]\n",
            "<class 'numpy.ndarray'>\n",
            "(2, 2, 3)\n"
          ]
        }
      ]
    },
    {
      "cell_type": "markdown",
      "source": [
        "[ 갯수 차원"
      ],
      "metadata": {
        "id": "jvoMuCnBqclg"
      }
    },
    {
      "cell_type": "code",
      "source": [
        "x = np.zeros([2, 2, 3])\n",
        "print(x)\n",
        "print(type(x))\n",
        "print(x.shape)\n",
        "x.reshape(3,2,2)"
      ],
      "metadata": {
        "colab": {
          "base_uri": "https://localhost:8080/"
        },
        "id": "JeqEN8hrn3Y7",
        "outputId": "747da2e2-227b-4b60-d3e4-44330d89828a"
      },
      "execution_count": 81,
      "outputs": [
        {
          "output_type": "stream",
          "name": "stdout",
          "text": [
            "[[[0. 0. 0.]\n",
            "  [0. 0. 0.]]\n",
            "\n",
            " [[0. 0. 0.]\n",
            "  [0. 0. 0.]]]\n",
            "<class 'numpy.ndarray'>\n",
            "(2, 2, 3)\n"
          ]
        },
        {
          "output_type": "execute_result",
          "data": {
            "text/plain": [
              "array([[[0., 0.],\n",
              "        [0., 0.]],\n",
              "\n",
              "       [[0., 0.],\n",
              "        [0., 0.]],\n",
              "\n",
              "       [[0., 0.],\n",
              "        [0., 0.]]])"
            ]
          },
          "metadata": {},
          "execution_count": 81
        }
      ]
    },
    {
      "cell_type": "code",
      "source": [
        "np.random.normal(0, 1, [2,3,4])"
      ],
      "metadata": {
        "colab": {
          "base_uri": "https://localhost:8080/"
        },
        "id": "veIQn1tln_1W",
        "outputId": "0f4bc565-a005-487b-fca9-c1dc629c2a33"
      },
      "execution_count": 83,
      "outputs": [
        {
          "output_type": "execute_result",
          "data": {
            "text/plain": [
              "array([[[-0.50806743,  0.63448517, -0.99359651,  0.03874734],\n",
              "        [-1.06384846,  0.29425433, -1.48904684, -1.20548533],\n",
              "        [ 0.24178086,  0.27342182, -1.09791735, -0.97306305]],\n",
              "\n",
              "       [[-0.85486429, -0.49868213,  0.35784891, -1.37082032],\n",
              "        [-0.328864  , -1.13971802,  0.61977004, -0.18431391],\n",
              "        [ 1.62041691,  0.97397432, -0.26514038,  1.60449508]]])"
            ]
          },
          "metadata": {},
          "execution_count": 83
        }
      ]
    },
    {
      "cell_type": "code",
      "source": [
        "import matplotlib.pyplot as plt\n"
      ],
      "metadata": {
        "id": "hOfZMyIuoXAp"
      },
      "execution_count": 84,
      "outputs": []
    },
    {
      "cell_type": "code",
      "source": [
        "x = np.random.normal(0, 1, 100)\n",
        "print(x)\n",
        "plt.hist(x, bins=10)"
      ],
      "metadata": {
        "colab": {
          "base_uri": "https://localhost:8080/",
          "height": 664
        },
        "id": "jHfP0BOsoggq",
        "outputId": "b078d8b3-8a62-4c14-f28a-e5ff5d1eb7d6"
      },
      "execution_count": 85,
      "outputs": [
        {
          "output_type": "stream",
          "name": "stdout",
          "text": [
            "[ 2.72118819 -0.9239919   0.41750345  1.46856682 -1.05795137  0.58792794\n",
            "  1.10749668 -0.83219727 -0.21858574  0.82163956  0.38815807 -1.36476437\n",
            " -0.08726603  0.71750194  0.75030157  2.00253941 -2.08431583  1.26536765\n",
            "  1.00336736  0.9141041  -0.61120795 -0.96046946 -1.14333232  1.41079159\n",
            " -1.45979967 -0.89984586 -0.12165635  0.43484352  1.3586982   1.41042481\n",
            " -0.07313377  0.03641117 -1.43636867 -0.01593985 -0.04411639  1.14673682\n",
            " -0.63588187 -0.94978618  1.9936698  -0.08888794  0.11009095  0.22179761\n",
            "  0.81351382 -1.04341384  0.52689345  1.00188745  0.02405528 -1.36338297\n",
            " -0.83027011 -0.71145095 -0.18754588 -0.13347391 -0.25241309 -0.48336945\n",
            "  0.68664328 -0.84783441  0.41252146 -0.82338255  0.21623973 -0.16401524\n",
            " -0.6094106   0.51512909 -1.74084996 -0.24154245 -0.24804686  0.35636359\n",
            "  0.22665405 -1.32937465  1.90018611 -0.67003901 -1.2963852  -0.48513518\n",
            " -0.8687324  -0.77242215  0.94202433  1.07603425  0.15263024  1.96465541\n",
            "  1.54267628 -0.05152944  0.85101043 -0.91635176 -0.24166654 -0.08415484\n",
            " -1.71668669  0.30611745  0.45426948 -0.62490557  0.41999178 -0.21643294\n",
            "  1.08801989  0.36655181  0.14634085 -0.26474632  0.49805564  0.7800299\n",
            "  0.60189858 -0.32992872  1.2673131  -0.8167005 ]\n"
          ]
        },
        {
          "output_type": "execute_result",
          "data": {
            "text/plain": [
              "(array([ 3.,  7., 16., 16., 18., 17., 13.,  5.,  4.,  1.]),\n",
              " array([-2.08431583, -1.60376542, -1.12321502, -0.64266462, -0.16211422,\n",
              "         0.31843618,  0.79898658,  1.27953698,  1.76008739,  2.24063779,\n",
              "         2.72118819]),\n",
              " <a list of 10 Patch objects>)"
            ]
          },
          "metadata": {},
          "execution_count": 85
        },
        {
          "output_type": "display_data",
          "data": {
            "text/plain": [
              "<Figure size 432x288 with 1 Axes>"
            ],
            "image/png": "[encoded data removed]"
          },
          "metadata": {
            "needs_background": "light"
          }
        }
      ]
    },
    {
      "cell_type": "code",
      "source": [
        "plt.figure()\n",
        "\n",
        "theta1 = np.linspace(0, 2*np.pi, 100)\n",
        "s1 = np.sin(theta1)\n",
        "theta2 = np.linspace(0, 2*np.pi, 100) + np.pi/2\n",
        "s2 = np.sin(theta2)\n",
        "\n",
        "plt.subplot(2, 1, 1) # (rows, columns, panel number)\n",
        "plt.plot(theta1, s1, '.')\n",
        "plt.subplot(2, 1, 2) # (rows, columns, panel number)\n",
        "plt.plot(theta2, s2, '.')"
      ],
      "metadata": {
        "colab": {
          "base_uri": "https://localhost:8080/",
          "height": 283
        },
        "id": "oJtafQOfpGfu",
        "outputId": "ef6ee2d2-8d10-4ba7-adc0-6dcef4004454"
      },
      "execution_count": 86,
      "outputs": [
        {
          "output_type": "execute_result",
          "data": {
            "text/plain": [
              "[<matplotlib.lines.Line2D at 0x7fb42595b310>]"
            ]
          },
          "metadata": {},
          "execution_count": 86
        },
        {
          "output_type": "display_data",
          "data": {
            "text/plain": [
              "<Figure size 432x288 with 2 Axes>"
            ],
            "image/png": "[encoded data removed]"
          },
          "metadata": {
            "needs_background": "light"
          }
        }
      ]
    },
    {
      "cell_type": "code",
      "source": [
        "np.corrcoef(s1,s2)\n"
      ],
      "metadata": {
        "colab": {
          "base_uri": "https://localhost:8080/"
        },
        "id": "EqfVgzVbqB6g",
        "outputId": "e5c69d29-c4ee-4c26-c600-5cb95b2d2ec2"
      },
      "execution_count": 87,
      "outputs": [
        {
          "output_type": "execute_result",
          "data": {
            "text/plain": [
              "array([[1.00000000e+00, 2.41915449e-17],\n",
              "       [2.41915449e-17, 1.00000000e+00]])"
            ]
          },
          "metadata": {},
          "execution_count": 87
        }
      ]
    }
  ]
}