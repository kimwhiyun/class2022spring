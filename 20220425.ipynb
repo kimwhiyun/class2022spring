{
  "nbformat": 4,
  "nbformat_minor": 0,
  "metadata": {
    "colab": {
      "name": "Untitled3.ipynb",
      "provenance": [],
      "authorship_tag": "ABX9TyMbZVdLInexmbgkfIAielIc",
      "include_colab_link": true
    },
    "kernelspec": {
      "name": "python3",
      "display_name": "Python 3"
    },
    "language_info": {
      "name": "python"
    }
  },
  "cells": [
    {
      "cell_type": "markdown",
      "metadata": {
        "id": "view-in-github",
        "colab_type": "text"
      },
      "source": [
        "<a href=\"https://colab.research.google.com/github/kimwhiyun/class2022spring/blob/main/20220425.ipynb\" target=\"_parent\"><img src=\"https://colab.research.google.com/assets/colab-badge.svg\" alt=\"Open In Colab\"/></a>"
      ]
    },
    {
      "cell_type": "code",
      "source": [
        ""
      ],
      "metadata": {
        "id": "p4BtpZE26Mbg"
      },
      "execution_count": null,
      "outputs": []
    },
    {
      "cell_type": "markdown",
      "source": [
        "autocorrelation"
      ],
      "metadata": {
        "id": "lC8bWScq6SIC"
      }
    },
    {
      "cell_type": "code",
      "execution_count": 3,
      "metadata": {
        "colab": {
          "base_uri": "https://localhost:8080/",
          "height": 297
        },
        "id": "msox5bIL5cwS",
        "outputId": "562e792c-6816-4ee0-8249-73379498c3b8"
      },
      "outputs": [
        {
          "output_type": "execute_result",
          "data": {
            "text/plain": [
              "<matplotlib.axes._subplots.AxesSubplot at 0x7fe46fc6ff10>"
            ]
          },
          "metadata": {},
          "execution_count": 3
        },
        {
          "output_type": "display_data",
          "data": {
            "text/plain": [
              "<Figure size 432x288 with 1 Axes>"
            ],
            "image/png": "[encoded data removed]"
          },
          "metadata": {
            "needs_background": "light"
          }
        }
      ],
      "source": [
        "# import modules\n",
        "import pandas as pd\n",
        " \n",
        "# read the data from the csv\n",
        "data = pd.read_csv(\"daily-minimum-temperatures-in-blr.csv\",\n",
        "                   header=0, index_col=0, parse_dates=True,\n",
        "                   squeeze=True)\n",
        " \n",
        "# display top 15 data\n",
        "data.head(15)\n",
        " \n",
        "# lagplot\n",
        "pd.plotting.lag_plot(data, lag=1)"
      ]
    },
    {
      "cell_type": "markdown",
      "source": [
        "root mean square"
      ],
      "metadata": {
        "id": "BK2sHVvn6UQr"
      }
    },
    {
      "cell_type": "code",
      "source": [
        "#Python3 program to calculate Root Mean Square\n",
        " \n",
        "import math\n",
        "#Function that Calculate Root Mean Square\n",
        "def rmsValue(arr, n):\n",
        "    square = 0\n",
        "    mean = 0.0\n",
        "    root = 0.0\n",
        "     \n",
        "    #Calculate square\n",
        "    for i in range(0,n):\n",
        "        square += (arr[i]**2)\n",
        "     \n",
        "    #Calculate Mean\n",
        "    mean = (square / (float)(n))\n",
        "     \n",
        "    #Calculate Root\n",
        "    root = math.sqrt(mean)\n",
        "     \n",
        "    return root\n",
        " \n",
        "#Driver code\n",
        "if __name__=='__main__':\n",
        "    arr = [10, 4, 6, 8]\n",
        "    n = len(arr)\n",
        "    print(rmsValue(arr, n))\n",
        " \n",
        "#This code is contributed by Shashank_Sharma"
      ],
      "metadata": {
        "colab": {
          "base_uri": "https://localhost:8080/"
        },
        "id": "RcbryPXs6CXV",
        "outputId": "879d9c6a-0aad-4366-c1ee-45cdd8946d17"
      },
      "execution_count": 5,
      "outputs": [
        {
          "output_type": "stream",
          "name": "stdout",
          "text": [
            "7.3484692283495345\n"
          ]
        }
      ]
    }
  ]
}