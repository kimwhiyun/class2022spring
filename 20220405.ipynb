{
  "nbformat": 4,
  "nbformat_minor": 0,
  "metadata": {
    "colab": {
      "name": "Untitled1.ipynb",
      "provenance": [],
      "collapsed_sections": [],
      "authorship_tag": "ABX9TyPEyOw8Oy3nTvCBXhJz8+yy",
      "include_colab_link": true
    },
    "kernelspec": {
      "name": "python3",
      "display_name": "Python 3"
    },
    "language_info": {
      "name": "python"
    }
  },
  "cells": [
    {
      "cell_type": "markdown",
      "metadata": {
        "id": "view-in-github",
        "colab_type": "text"
      },
      "source": [
        "<a href=\"https://colab.research.google.com/github/kimwhiyun/class2022spring/blob/main/20220405.ipynb\" target=\"_parent\"><img src=\"https://colab.research.google.com/assets/colab-badge.svg\" alt=\"Open In Colab\"/></a>"
      ]
    },
    {
      "cell_type": "code",
      "execution_count": 1,
      "metadata": {
        "id": "yBuUFX7rxMHJ"
      },
      "outputs": [],
      "source": [
        "import requests"
      ]
    },
    {
      "cell_type": "code",
      "source": [
        "URL = (\t'http://apis.data.go.kr/6480000/gyeongnamwalklikeroad/gyeongnamwalklikeroadlist?numOfRows=4&pageNo=4&resultType=JSON&serviceKey=AO81GUzjo2gtReYyN8KfVO86KyonMF4a7NXwz6n8pEzlRZuQbf84pfK6kazp8B0TPkJUWI%2FqbHND%2F40PbDwUVg%3D%3D')\n",
        "response = requests.get(URL)"
      ],
      "metadata": {
        "id": "0IamUcvGxP-9"
      },
      "execution_count": 5,
      "outputs": []
    },
    {
      "cell_type": "code",
      "source": [
        "response"
      ],
      "metadata": {
        "colab": {
          "base_uri": "https://localhost:8080/"
        },
        "id": "1V5qrWDJ1DaA",
        "outputId": "da3167fc-4865-4436-fc27-cf0e954207b6"
      },
      "execution_count": 6,
      "outputs": [
        {
          "output_type": "execute_result",
          "data": {
            "text/plain": [
              "<Response [200]>"
            ]
          },
          "metadata": {},
          "execution_count": 6
        }
      ]
    },
    {
      "cell_type": "markdown",
      "source": [
        "http://jsonviewer.stack.hu/"
      ],
      "metadata": {
        "id": "UePmrEpN12yc"
      }
    },
    {
      "cell_type": "code",
      "source": [
        "r = response.json()\n",
        "r"
      ],
      "metadata": {
        "colab": {
          "base_uri": "https://localhost:8080/"
        },
        "id": "K_DGgHyM1jSC",
        "outputId": "5f5a1630-c218-41c3-d45d-3ca0e27d5c4b"
      },
      "execution_count": 7,
      "outputs": [
        {
          "output_type": "execute_result",
          "data": {
            "text/plain": [
              "{'gyeongnamwalklikeroadlist': {'header': {'code': '00',\n",
              "   'message': 'NORMAL_CODE'},\n",
              "  'item': [{'category_name1': '합천군',\n",
              "    'courseinfo': '홍류동 계곡의 비경과 자연의 숨소리를 들으며 소리길을 느껴보세요. \\r\\r\\n‘해인사 소리길’은 홍류동 계곡을 따라 만들어진 저지대 수평탐방로로 누구나 쉽게 이용할 수 있으며, 가야산의 자연과역사·문화를 쉽고 재미있게 체험할 수 있도록 자연관찰로가 조성되어 있습니다.',\n",
              "    'data_content': '<!-- 관광지정보 -->\\r\\r\\n\\t\\t\\t<h5>관광지정보</h5>\\r\\r\\n\\t\\t\\t<div class=\"edu_detail_txt\">\\r\\r\\n\\t\\t\\t\\t<table class=\"tstyle_list\">\\r\\r\\n\\t\\t\\t\\t\\t<caption>\\r\\r\\n\\t\\t\\t\\t\\t\\t<strong>합천 해인사 소리길 관광지정보을 안내는 표 입니다.</strong>\\r\\r\\n\\t\\t\\t\\t\\t\\t<details>\\r\\r\\n\\t\\t\\t\\t\\t\\t\\t<summary>합천 해인사 소리길 관광지정보 상세안내 각관광지명에 대한 내용을 안내합니다.</summary>\\r\\r\\n\\t\\t\\t\\t\\t\\t</details>\\r\\r\\n\\t\\t\\t\\t\\t</caption>\\r\\r\\n\\t\\t\\t\\t\\t<colgroup>\\r\\r\\n\\t\\t\\t\\t\\t\\t<col style=\"width:30%\">\\r\\r\\n\\t\\t\\t\\t\\t\\t<col style=\"width:70%\">\\r\\r\\n\\t\\t\\t\\t\\t</colgroup>\\r\\r\\n\\t\\t\\t\\t\\t<thead>\\r\\r\\n\\t\\t\\t\\t\\t\\t<tr>\\r\\r\\n\\t\\t\\t\\t\\t\\t\\t<th scope=\"col\">관광지명</th>\\r\\r\\n\\t\\t\\t\\t\\t\\t\\t<th scope=\"col\">내용</th>\\r\\r\\n\\t\\t\\t\\t\\t\\t</tr>\\r\\r\\n\\t\\t\\t\\t\\t</thead>\\r\\r\\n\\t\\t\\t\\t\\t<tbody>\\r\\r\\n\\t\\t\\t\\t\\t\\t<tr>\\r\\r\\n\\t\\t\\t\\t\\t\\t\\t<th scope=\"row\">홍류동계곡 </th>\\r\\r\\n\\t\\t\\t\\t\\t\\t\\t<td>홍류동 계곡은 합천8경중 제3경으로 주요문화재 자료인 농산정과 낙화담, 분옥폭포 등 가야산 19명소가 있으며, 특히 농산정 맞은편에는 암각된 최치원선생의 친필을 복 수 있어 더욱유명하다. </td>\\r\\r\\n\\t\\t\\t\\t\\t\\t</tr>\\r\\r\\n\\t\\t\\t\\t\\t\\t<tr>\\r\\r\\n\\t\\t\\t\\t\\t\\t\\t<th scope=\"row\">가야산</th>\\r\\r\\n\\t\\t\\t\\t\\t\\t\\t<td>조선8경의 하나로 주봉인 상왕봉(1,430m)을 중심으로 톱날 같은 암봉인 두리봉, 남산, 비계산,북두산 등 해발 1,000m가 넘는 고봉들이 마치병풍을 친듯 이어져 있으며 남북으로 경상남도합천군과 경상북도 성주군의 경계를 이룬다. </td>\\r\\r\\n\\t\\t\\t\\t\\t\\t</tr>\\r\\r\\n\\t\\t\\t\\t\\t</tbody>\\r\\r\\n\\t\\t\\t\\t</table>\\r\\r\\n\\t\\t\\t</div>\\r\\r\\n\\t\\t\\t<!-- 관광지정보 -->\\r\\r\\n\\r\\r\\n\\t\\t\\t<!-- 주변맛집 -->\\r\\r\\n\\t\\t\\t<h5>주변맛집</h5>\\r\\r\\n\\t\\t\\t<div class=\"edu_detail_txt\">\\r\\r\\n\\t\\t\\t\\t<table class=\"tstyle_list\">\\r\\r\\n\\t\\t\\t\\t\\t<caption>\\r\\r\\n\\t\\t\\t\\t\\t\\t<strong>합천 해인사 소리길 주변맛집을 안내는 표 입니다.</strong>\\r\\r\\n\\t\\t\\t\\t\\t\\t<details>\\r\\r\\n\\t\\t\\t\\t\\t\\t\\t<summary>합천 해인사 소리길 주변맛집 상세안내 각상호명에 대한 전화번호, 주소를 안내합니다.</summary>\\r\\r\\n\\t\\t\\t\\t\\t\\t</details>\\r\\r\\n\\t\\t\\t\\t\\t</caption>\\r\\r\\n\\t\\t\\t\\t\\t<colgroup>\\r\\r\\n\\t\\t\\t\\t\\t\\t<col style=\"width:20%\">\\r\\r\\n\\t\\t\\t\\t\\t\\t<col style=\"width:20%\">\\r\\r\\n\\t\\t\\t\\t\\t\\t<col>\\r\\r\\n\\t\\t\\t\\t\\t</colgroup>\\r\\r\\n\\t\\t\\t\\t\\t<thead>\\r\\r\\n\\t\\t\\t\\t\\t\\t<tr>\\r\\r\\n\\t\\t\\t\\t\\t\\t\\t<th scope=\"col\">상호명</th>\\r\\r\\n\\t\\t\\t\\t\\t\\t\\t<th scope=\"col\">전화번호</th>\\r\\r\\n\\t\\t\\t\\t\\t\\t\\t<th scope=\"col\">주소</th>\\r\\r\\n\\t\\t\\t\\t\\t\\t</tr>\\r\\r\\n\\t\\t\\t\\t\\t</thead>\\r\\r\\n\\t\\t\\t\\t\\t<tbody>\\r\\r\\n\\t\\t\\t\\t\\t\\t<tr>\\r\\r\\n\\t\\t\\t\\t\\t\\t\\t<th scope=\"row\">삼일식당(송이정식)</th>\\r\\r\\n\\t\\t\\t\\t\\t\\t\\t<td>055-932-7254</td>\\r\\r\\n\\t\\t\\t\\t\\t\\t\\t<td>가야면 치인리 10</td>\\r\\r\\n\\t\\t\\t\\t\\t\\t</tr>\\r\\r\\n\\t\\t\\t\\t\\t\\t<tr>\\r\\r\\n\\t\\t\\t\\t\\t\\t\\t<th scope=\"row\">고바우식당(산채한정식)</th>\\r\\r\\n\\t\\t\\t\\t\\t\\t\\t<td>055-931-7311</td>\\r\\r\\n\\t\\t\\t\\t\\t\\t\\t<td>가야면 치인리 1230</td>\\r\\r\\n\\t\\t\\t\\t\\t\\t</tr>\\r\\r\\n\\t\\t\\t\\t\\t\\t<tr>\\r\\r\\n\\t\\t\\t\\t\\t\\t\\t<th scope=\"row\">합천명품토종흑돼지</th>\\r\\r\\n\\t\\t\\t\\t\\t\\t\\t<td>055-932-6055</td>\\r\\r\\n\\t\\t\\t\\t\\t\\t\\t<td>가야면 야천리 465-4</td>\\r\\r\\n\\t\\t\\t\\t\\t\\t</tr>\\r\\r\\n\\t\\t\\t\\t\\t\\t<tr>\\r\\r\\n\\t\\t\\t\\t\\t\\t\\t<th scope=\"row\">백운식당(대장경밥상)</th>\\r\\r\\n\\t\\t\\t\\t\\t\\t\\t<td>055-932-7393</td>\\r\\r\\n\\t\\t\\t\\t\\t\\t\\t<td>가야면 치인리 1230</td>\\r\\r\\n\\t\\t\\t\\t\\t\\t</tr>\\r\\r\\n\\t\\t\\t\\t\\t\\t<tr>\\r\\r\\n\\t\\t\\t\\t\\t\\t\\t<th scope=\"row\">해인식당(대장경밥상)</th>\\r\\r\\n\\t\\t\\t\\t\\t\\t\\t<td>055-933-1117</td>\\r\\r\\n\\t\\t\\t\\t\\t\\t\\t<td>가야면 구원리 104-1</td>\\r\\r\\n\\t\\t\\t\\t\\t\\t</tr>\\r\\r\\n\\t\\t\\t\\t\\t</tbody>\\r\\r\\n\\t\\t\\t\\t</table>\\r\\r\\n\\t\\t\\t</div>\\r\\r\\n\\t\\t\\t<!-- 주변맛집 -->\\r\\r\\n\\r\\r\\n\\t\\t\\t<!-- 주변숙박 -->\\r\\r\\n\\t\\t\\t<h5>주변숙박</h5>\\r\\r\\n\\t\\t\\t<div class=\"edu_detail_txt\">\\r\\r\\n\\t\\t\\t\\t<table class=\"tstyle_list\">\\r\\r\\n\\t\\t\\t\\t\\t<caption>\\r\\r\\n\\t\\t\\t\\t\\t\\t<strong>합천 해인사 소리길 주변숙박을 안내는 표 입니다.</strong>\\r\\r\\n\\t\\t\\t\\t\\t\\t<details>\\r\\r\\n\\t\\t\\t\\t\\t\\t\\t<summary>합천 해인사 소리길 주변숙박 상세안내 각상호명에 대한 전화번호, 주소를 안내합니다.</summary>\\r\\r\\n\\t\\t\\t\\t\\t\\t</details>\\r\\r\\n\\t\\t\\t\\t\\t</caption>\\r\\r\\n\\t\\t\\t\\t\\t<colgroup>\\r\\r\\n\\t\\t\\t\\t\\t\\t<col style=\"width:20%\">\\r\\r\\n\\t\\t\\t\\t\\t\\t<col style=\"width:20%\">\\r\\r\\n\\t\\t\\t\\t\\t\\t<col>\\r\\r\\n\\t\\t\\t\\t\\t</colgroup>\\r\\r\\n\\t\\t\\t\\t\\t<thead>\\r\\r\\n\\t\\t\\t\\t\\t\\t<tr>\\r\\r\\n\\t\\t\\t\\t\\t\\t\\t<th scope=\"col\">상호명</th>\\r\\r\\n\\t\\t\\t\\t\\t\\t\\t<th scope=\"col\">전화번호</th>\\r\\r\\n\\t\\t\\t\\t\\t\\t\\t<th scope=\"col\">주소</th>\\r\\r\\n\\t\\t\\t\\t\\t\\t</tr>\\r\\r\\n\\t\\t\\t\\t\\t</thead>\\r\\r\\n\\t\\t\\t\\t\\t<tbody>\\r\\r\\n\\t\\t\\t\\t\\t\\t<tr>\\r\\r\\n\\t\\t\\t\\t\\t\\t\\t<th scope=\"row\">해인관광호텔</th>\\r\\r\\n\\t\\t\\t\\t\\t\\t\\t<td>055-933-2000</td>\\r\\r\\n\\t\\t\\t\\t\\t\\t\\t<td>가야면 치인리 1230-112</td>\\r\\r\\n\\t\\t\\t\\t\\t\\t</tr>\\r\\r\\n\\t\\t\\t\\t\\t\\t<tr>\\r\\r\\n\\t\\t\\t\\t\\t\\t\\t<th scope=\"row\">산장별장여관</th>\\r\\r\\n\\t\\t\\t\\t\\t\\t\\t<td>055-932-7245</td>\\r\\r\\n\\t\\t\\t\\t\\t\\t\\t<td>가야면 치인리 1230-87</td>\\r\\r\\n\\t\\t\\t\\t\\t\\t</tr>\\r\\r\\n\\t\\t\\t\\t\\t\\t\\r\\r\\n\\t\\t\\t\\t\\t</tbody>\\r\\r\\n\\t\\t\\t\\t</table>\\r\\r\\n\\t\\t\\t</div>\\r\\r\\n\\t\\t\\t<!-- 주변숙박 -->\\r\\r\\n\\r\\r\\n\\t\\t\\t<!-- 특산품 -->\\r\\r\\n\\t\\t\\t<h5>특산품</h5>\\r\\r\\n\\t\\t\\t<div class=\"edu_detail_txt\">\\r\\r\\n\\t\\t\\t\\t<table class=\"tstyle_list\">\\r\\r\\n\\t\\t\\t\\t\\t<caption>\\r\\r\\n\\t\\t\\t\\t\\t\\t<strong>합천 해인사 소리길 특산품을 안내는 표 입니다.</strong>\\r\\r\\n\\t\\t\\t\\t\\t\\t<details>\\r\\r\\n\\t\\t\\t\\t\\t\\t\\t<summary>합천 해인사 소리길 특산품 상세안내 각품명에 대한 전화번호, 판매점을 안내합니다.</summary>\\r\\r\\n\\t\\t\\t\\t\\t\\t</details>\\r\\r\\n\\t\\t\\t\\t\\t</caption>\\r\\r\\n\\t\\t\\t\\t\\t<colgroup>\\r\\r\\n\\t\\t\\t\\t\\t\\t<col style=\"width:20%\">\\r\\r\\n\\t\\t\\t\\t\\t\\t<col style=\"width:20%\">\\r\\r\\n\\t\\t\\t\\t\\t\\t<col>\\r\\r\\n\\t\\t\\t\\t\\t</colgroup>\\r\\r\\n\\t\\t\\t\\t\\t<thead>\\r\\r\\n\\t\\t\\t\\t\\t\\t<tr>\\r\\r\\n\\t\\t\\t\\t\\t\\t\\t<th scope=\"col\">품명</th>\\r\\r\\n\\t\\t\\t\\t\\t\\t\\t<th scope=\"col\">전화번호</th>\\r\\r\\n\\t\\t\\t\\t\\t\\t\\t<th scope=\"col\">판매점</th>\\r\\r\\n\\t\\t\\t\\t\\t\\t</tr>\\r\\r\\n\\t\\t\\t\\t\\t</thead>\\r\\r\\n\\t\\t\\t\\t\\t<tbody>\\r\\r\\n\\t\\t\\t\\t\\t\\t<tr>\\r\\r\\n\\t\\t\\t\\t\\t\\t\\t<th scope=\"row\">합천파프리카 </th>\\r\\r\\n\\t\\t\\t\\t\\t\\t\\t<td>011-550-1663</td>\\r\\r\\n\\t\\t\\t\\t\\t\\t\\t<td>가야산제일청정농장  </td>\\r\\r\\n\\t\\t\\t\\t\\t\\t</tr>\\r\\r\\n\\t\\t\\t\\t\\t\\t<tr>\\r\\r\\n\\t\\t\\t\\t\\t\\t\\t<th scope=\"row\">왕우렁이쌀    </th>\\r\\r\\n\\t\\t\\t\\t\\t\\t\\t<td>011-550-8798</td>\\r\\r\\n\\t\\t\\t\\t\\t\\t\\t<td>가야농협    </td>\\r\\r\\n\\t\\t\\t\\t\\t\\t</tr>\\r\\r\\n\\t\\t\\t\\t\\t\\t<tr>\\r\\r\\n\\t\\t\\t\\t\\t\\t\\t<th scope=\"row\">전통누비</th>\\r\\r\\n\\t\\t\\t\\t\\t\\t\\t<td>017-585-0460</td>\\r\\r\\n\\t\\t\\t\\t\\t\\t\\t<td>합천전통누비</td>\\r\\r\\n\\t\\t\\t\\t\\t\\t</tr>\\r\\r\\n\\t\\t\\t\\t\\t\\t<tr>\\r\\r\\n\\t\\t\\t\\t\\t\\t\\t<th scope=\"row\">세척안심딸기 </th>\\r\\r\\n\\t\\t\\t\\t\\t\\t\\t<td>055-933-2195</td>\\r\\r\\n\\t\\t\\t\\t\\t\\t\\t<td>농업협동조합합천군지부 </td>\\r\\r\\n\\t\\t\\t\\t\\t\\t</tr>\\r\\r\\n\\t\\t\\t\\t\\t\\t<tr>\\r\\r\\n\\t\\t\\t\\t\\t\\t\\t<th scope=\"row\">사포닌매실 </th>\\r\\r\\n\\t\\t\\t\\t\\t\\t\\t<td>055-930-3674</td>\\r\\r\\n\\t\\t\\t\\t\\t\\t\\t<td>류진농원 </td>\\r\\r\\n\\t\\t\\t\\t\\t\\t</tr>\\r\\r\\n\\t\\t\\t\\t\\t\\t<tr>\\r\\r\\n\\t\\t\\t\\t\\t\\t\\t<th scope=\"row\">왕골돗자리 </th>\\r\\r\\n\\t\\t\\t\\t\\t\\t\\t<td>011-813-0044 </td>\\r\\r\\n\\t\\t\\t\\t\\t\\t\\t<td>합천쌍책돗자리 </td>\\r\\r\\n\\t\\t\\t\\t\\t\\t</tr>\\r\\r\\n\\t\\t\\t\\t\\t\\t<tr>\\r\\r\\n\\t\\t\\t\\t\\t\\t\\t<th scope=\"row\">가야산뽕잎차 </th>\\r\\r\\n\\t\\t\\t\\t\\t\\t\\t<td>055-932-7387</td>\\r\\r\\n\\t\\t\\t\\t\\t\\t\\t<td>해인특산물농장  </td>\\r\\r\\n\\t\\t\\t\\t\\t\\t</tr>\\r\\r\\n\\t\\t\\t\\t\\t\\t<tr>\\r\\r\\n\\t\\t\\t\\t\\t\\t\\t<th scope=\"row\">지리산영지버섯 </th>\\r\\r\\n\\t\\t\\t\\t\\t\\t\\t<td>055-932-7387</td>\\r\\r\\n\\t\\t\\t\\t\\t\\t\\t<td>해인특산물농장 </td>\\r\\r\\n\\t\\t\\t\\t\\t\\t</tr>\\r\\r\\n\\t\\t\\t\\t\\t\\t<tr>\\r\\r\\n\\t\\t\\t\\t\\t\\t\\t<th scope=\"row\">합천황토한우   </th>\\r\\r\\n\\t\\t\\t\\t\\t\\t\\t<td>055-930-0056</td>\\r\\r\\n\\t\\t\\t\\t\\t\\t\\t<td>합천축협 </td>\\r\\r\\n\\t\\t\\t\\t\\t\\t</tr>\\r\\r\\n\\t\\t\\t\\t\\t\\t\\r\\r\\n\\t\\t\\t\\t\\t</tbody>\\r\\r\\n\\t\\t\\t\\t</table>\\r\\r\\n\\t\\t\\t</div>\\r\\r\\n\\t\\t\\t<!-- 특산품 -->\\r\\r\\n\\r\\r\\n\\t\\t\\t<!-- 재래시장 -->\\r\\r\\n\\t\\t\\t<h5>재래시장</h5>\\r\\r\\n\\t\\t\\t<div class=\"edu_detail_txt\">\\r\\r\\n\\t\\t\\t\\t<table class=\"tstyle_list\">\\r\\r\\n\\t\\t\\t\\t\\t<caption>\\r\\r\\n\\t\\t\\t\\t\\t\\t<strong>합천 해인사 소리길 재래시장을 안내는 표 입니다.</strong>\\r\\r\\n\\t\\t\\t\\t\\t\\t<details>\\r\\r\\n\\t\\t\\t\\t\\t\\t\\t<summary>합천 해인사 소리길 재래시장 상세안내 각시장에 대한 전화번호, 주소, 설명을 안내합니다.</summary>\\r\\r\\n\\t\\t\\t\\t\\t\\t</details>\\r\\r\\n\\t\\t\\t\\t\\t</caption>\\r\\r\\n\\t\\t\\t\\t\\t<colgroup>\\r\\r\\n\\t\\t\\t\\t\\t\\t<col style=\"width:20%\">\\r\\r\\n\\t\\t\\t\\t\\t\\t<col style=\"width:20%\">\\r\\r\\n\\t\\t\\t\\t\\t\\t<col>\\r\\r\\n\\t\\t\\t\\t\\t\\t<col>\\r\\r\\n\\t\\t\\t\\t\\t</colgroup>\\r\\r\\n\\t\\t\\t\\t\\t<thead>\\r\\r\\n\\t\\t\\t\\t\\t\\t<tr>\\r\\r\\n\\t\\t\\t\\t\\t\\t\\t<th scope=\"col\">시장명</th>\\r\\r\\n\\t\\t\\t\\t\\t\\t\\t<th scope=\"col\">전화번호</th>\\r\\r\\n\\t\\t\\t\\t\\t\\t\\t<th scope=\"col\">주소</th>\\r\\r\\n\\t\\t\\t\\t\\t\\t\\t<th scope=\"col\">설명</th>\\r\\r\\n\\t\\t\\t\\t\\t\\t</tr>\\r\\r\\n\\t\\t\\t\\t\\t</thead>\\r\\r\\n\\t\\t\\t\\t\\t<tbody>\\r\\r\\n\\t\\t\\t\\t\\t\\t<tr>\\r\\r\\n\\t\\t\\t\\t\\t\\t\\t<th scope=\"row\">합천시장</th>\\r\\r\\n\\t\\t\\t\\t\\t\\t\\t<td>055-932-0063</td>\\r\\r\\n\\t\\t\\t\\t\\t\\t\\t<td>경상남도 합천군 합천읍 합천리 473-1</td>\\r\\r\\n\\t\\t\\t\\t\\t\\t\\t<td>1985년 개설된 상가건물형의 중형시장으로 장날은 매월 3일, 8일 </td>\\r\\r\\n\\t\\t\\t\\t\\t\\t</tr>\\r\\r\\n\\t\\t\\t\\t\\t\\r\\r\\n\\t\\t\\t\\t\\t</tbody>\\r\\r\\n\\t\\t\\t\\t</table>\\r\\r\\n\\t\\t\\t</div>\\r\\r\\n\\t\\t\\t<!-- 재래시장 -->\\r\\r\\n\\r\\r\\n\\t\\t\\t<!-- 축제/행사 -->\\r\\r\\n\\t\\t\\t<h5>축제/행사</h5>\\r\\r\\n\\t\\t\\t<div class=\"edu_detail_txt\">\\r\\r\\n\\t\\t\\t\\t<table class=\"tstyle_list\">\\r\\r\\n\\t\\t\\t\\t\\t<caption>\\r\\r\\n\\t\\t\\t\\t\\t\\t<strong>합천 해인사 소리길  축제/행사을 안내는 표 입니다.</strong>\\r\\r\\n\\t\\t\\t\\t\\t\\t<details>\\r\\r\\n\\t\\t\\t\\t\\t\\t\\t<summary>합천 해인사 소리길  축제/행사 상세안내 각 축제명에 대한 축제기간, 장소, 홈페이지 링크를 안내 하고 있습니다.</summary>\\r\\r\\n\\t\\t\\t\\t\\t\\t</details>\\r\\r\\n\\t\\t\\t\\t\\t</caption>\\r\\r\\n\\t\\t\\t\\t\\t<colgroup>\\r\\r\\n\\t\\t\\t\\t\\t\\t<col style=\"width:20%\">\\r\\r\\n\\t\\t\\t\\t\\t\\t<col style=\"width:20%\">\\r\\r\\n\\t\\t\\t\\t\\t\\t<col>\\r\\r\\n\\t\\t\\t\\t\\t\\t<col>\\r\\r\\n\\t\\t\\t\\t\\t</colgroup>\\r\\r\\n\\t\\t\\t\\t\\t<thead>\\r\\r\\n\\t\\t\\t\\t\\t\\t<tr>\\r\\r\\n\\t\\t\\t\\t\\t\\t\\t<th scope=\"col\">축제명</th>\\r\\r\\n\\t\\t\\t\\t\\t\\t\\t<th scope=\"col\">축제기간</th>\\r\\r\\n\\t\\t\\t\\t\\t\\t\\t<th scope=\"col\">장소</th>\\r\\r\\n\\t\\t\\t\\t\\t\\t\\t<th scope=\"col\">홈페이지</th>\\r\\r\\n\\t\\t\\t\\t\\t\\t</tr>\\r\\r\\n\\t\\t\\t\\t\\t</thead>\\r\\r\\n\\t\\t\\t\\t\\t<tbody>\\r\\r\\n\\t\\t\\t\\t\\t\\t<tr>\\r\\r\\n\\t\\t\\t\\t\\t\\t\\t<th scope=\"row\">대장경 천년 세계문화축전</th>\\r\\r\\n\\t\\t\\t\\t\\t\\t\\t<td>9월~11월중 </td>\\r\\r\\n\\t\\t\\t\\t\\t\\t\\t<td>경남 합천군 해인사 등</td>\\r\\r\\n\\t\\t\\t\\t\\t\\t\\t<td><a href=\"http://culture.hc.go.kr/sub/04_01.jsp\" target=\"_blank\" title=\"대장경 천년 세계문화축전 새창열림\"> 홈페이지 바로가기</a></td>\\r\\r\\n\\t\\t\\t\\t\\t\\t</tr>\\r\\r\\n\\t\\t\\t\\t\\t\\t<tr>\\r\\r\\n\\t\\t\\t\\t\\t\\t\\t<th scope=\"row\">합천 군민의날 및 대야문화제</th>\\r\\r\\n\\t\\t\\t\\t\\t\\t\\t<td>10월중 </td>\\r\\r\\n\\t\\t\\t\\t\\t\\t\\t<td>경남 합천군 합천군민운동장 등</td>\\r\\r\\n\\t\\t\\t\\t\\t\\t\\t<td><a href=\"http://culture.hc.go.kr/sub/04_05.jsp\" target=\"_blank\" title=\"합천 군민의날 및 대야문화제 새창열림\"> 홈페이지 바로가기</a></td>\\r\\r\\n\\t\\t\\t\\t\\t\\t</tr>\\r\\r\\n\\t\\t\\t\\t\\t\\t<tr>\\r\\r\\n\\t\\t\\t\\t\\t\\t\\t<th scope=\"row\">황강레포츠축제</th>\\r\\r\\n\\t\\t\\t\\t\\t\\t\\t<td>7월말~8월초</td>\\r\\r\\n\\t\\t\\t\\t\\t\\t\\t<td>경남 합천군 황강레포츠공원 일원</td>\\r\\r\\n\\t\\t\\t\\t\\t\\t\\t<td><a href=\"http://www.합천마라톤.kr/\" target=\"_blank\" title=\"황강레포츠축제 새창열림\"> 홈페이지 바로가기</a></td>\\r\\r\\n\\t\\t\\t\\t\\t\\t</tr>\\r\\r\\n\\t\\t\\t\\t\\t</tbody>\\r\\r\\n\\t\\t\\t\\t</table>\\r\\r\\n\\t\\t\\t</div>\\r\\r\\n\\t\\t\\t<!-- 축제/행사 -->',\n",
              "    'data_title': '합천 해인사 소리길',\n",
              "    'fileurl1': 'https://www.gyeongnam.go.kr/upload_data/board_data/BBS_0002006/c54_01.jpg',\n",
              "    'fileurl2': 'https://www.gyeongnam.go.kr/upload_data/board_data/BBS_0002006/c54_02.jpg',\n",
              "    'fileurl3': 'https://www.gyeongnam.go.kr/upload_data/board_data/BBS_0002006/c54_03.jpg',\n",
              "    'fileurl4': 'https://www.gyeongnam.go.kr/upload_data/board_data/BBS_0002006/c54_04.jpg',\n",
              "    'fileurl5': 'https://www.gyeongnam.go.kr/upload_data/board_data/BBS_0002006/c54_05.jpg',\n",
              "    'insttnm': '해인사 관광안내소 : 합천군 가야면 10 T. 055-934-3000\\r\\r\\n합천군 대장경천년세계문화축전기획단 : 합천읍 동서로 109 055-930-4783',\n",
              "    'roadlength': '약 6km',\n",
              "    'roadroute': '대장경문화축전주차장 -> 대장경천년문화축전주차장',\n",
              "    'roadtime': '약 2시간',\n",
              "    'traffic': '대중교통 \\r\\r\\n- 서울(고속버스터미널) -> 대구 -> 서부시외버스터미널 -> 해인사행 버스 \\r\\r\\n- 진주(시외버스정류소) -> 해인사행 버스\\r\\r\\n자동차 \\r\\r\\n- 서울 -> 해인사IC : 중부내륙고속도로 -> 김천 -> 88고속도로(4시간 소요) \\r\\r\\n- 부산 -> 해인사IC : 남해고속도로 ？ 칠원JC -> 동고령JC -> 88고속도로(2시간 10분 소요) \\r\\r\\n- 광주 -> 해인사IC : 88고속도로 -> 거창(3시간 소요) \\r\\r\\n- 창원 -> 해인사IC : 중부내륙고속도로 -> 동고령JC -> 88고속도로(1시간 30분 소요) \\r\\r\\n* 주차가능대수 500대 이상',\n",
              "    'videoinfo': '합천의 8경 중의 하나인 홍류동 계곡을 따라 무릉교, 농산정, 낙회담 등 가야산 19경 중 16경을 볼 수 있는 테마로드를 소개합니다. \\r\\r\\n‘최치원선생이 노년을 지나다 갓과 신발만 남겨 둔채 홀연히 신선이 되어 사라졌다’는 이야기가 전해지는 홍류동 계곡에 새로운 길이 생겼습니다. \\r\\r\\n가야산 소리길은 계곡길을 걷다 귀를 기울이면 물소리. 새소리, 바람소리, 세월 가는 소리를 들을 수 있다 하여 소리길이라는 이름으로 명명하게 되었는데요.\\r\\r\\n 대장경천년관 앞을 지나 무릉교,칠성대, 홍류동계곡, 농산정, 길상암, 낙화담을 거처 해인사 성보박물관까지. \\r\\r\\n수백년된 송림 숲 속에서 뿜어나오는 신선한 공기와 웅장한 바위를 휘감아도는 청아한 물길과 폭포, 산새소리와 해인사의 풍경소리로 지친마음을 씻어내고 깊은 사색을 하기 더없이 좋은 길입니다.\\r\\r\\n 자연과 소통하며 걷는 건강한 산책. \\r\\r\\n홍류동 계곡의 비경과 자연의 숨소리를 들으며 소리길을 느껴보세요. \\r\\r\\n소중한 나를 위해, 소중한 사람에게 들려주고 싶은 소리를 찾아 합천 가야산 소리길로 떠나보세요~',\n",
              "    'videourl': 'https://www.youtube.com/embed/76ArHL8DPvg',\n",
              "    'view_count': 1352},\n",
              "   {'category_name1': '의령군',\n",
              "    'courseinfo': '다양한 수목 군락지를 만날 수 있는 골골이 많은 전설을 지닌 자굴산 \\r\\r\\n둘레길은 보는 이로 하여금 찬탄을 자아내게 한다. \\r\\r\\n둘레길은 5개소의 산속 쉼터를 조성하여 바쁘게 살아가는 현대인에게 치유와 휴식을 취할 수 있도록 배려하였으며, 자굴산 둘레길에서는 다양한 수목 군락지를 만날 수가 있는데 능선부에는 자태를 뽐내고 있는 천년다지송과 희귀목인 노각나무, 사람주나무, 비목나무 등이 있다.',\n",
              "    'data_content': '<!-- 관광지정보 -->\\r\\r\\n\\t\\t\\t<h5>관광지정보</h5>\\r\\r\\n\\t\\t\\t<div class=\"edu_detail_txt\">\\r\\r\\n\\t\\t\\t\\t<table class=\"tstyle_list\">\\r\\r\\n\\t\\t\\t\\t\\t<caption>\\r\\r\\n\\t\\t\\t\\t\\t\\t<strong>의령 자굴산 둘레길 관광지정보을 안내는 표 입니다.</strong>\\r\\r\\n\\t\\t\\t\\t\\t\\t<details>\\r\\r\\n\\t\\t\\t\\t\\t\\t\\t<summary>의령 자굴산 둘레길 관광지정보 상세안내 각 관광지명에 따른 내용을 안내합니다.</summary>\\r\\r\\n\\t\\t\\t\\t\\t\\t</details>\\r\\r\\n\\t\\t\\t\\t\\t</caption>\\r\\r\\n\\t\\t\\t\\t\\t<colgroup>\\r\\r\\n\\t\\t\\t\\t\\t\\t<col style=\"width:30%\">\\r\\r\\n\\t\\t\\t\\t\\t\\t<col style=\"width:70%\">\\r\\r\\n\\t\\t\\t\\t\\t</colgroup>\\r\\r\\n\\t\\t\\t\\t\\t<thead>\\r\\r\\n\\t\\t\\t\\t\\t\\t<tr>\\r\\r\\n\\t\\t\\t\\t\\t\\t\\t<th scope=\"col\">관광지명</th>\\r\\r\\n\\t\\t\\t\\t\\t\\t\\t<th scope=\"col\">내용</th>\\r\\r\\n\\t\\t\\t\\t\\t\\t</tr>\\r\\r\\n\\t\\t\\t\\t\\t</thead>\\r\\r\\n\\t\\t\\t\\t\\t<tbody>\\r\\r\\n\\t\\t\\t\\t\\t\\t<tr>\\r\\r\\n\\t\\t\\t\\t\\t\\t\\t<th scope=\"row\">한우산 </th>\\r\\r\\n\\t\\t\\t\\t\\t\\t\\t<td>봄이면 진달래와 철쭉이 무리지어 피어나니 꽃 축제를 열어 잔치 한마당이 벌어진다.</td>\\r\\r\\n\\t\\t\\t\\t\\t\\t</tr>\\r\\r\\n\\t\\t\\t\\t\\t\\t<tr>\\r\\r\\n\\t\\t\\t\\t\\t\\t\\t<th scope=\"row\">왜가리 서식지</th>\\r\\r\\n\\t\\t\\t\\t\\t\\t\\t<td>가례마을 뒷산 일대는 왜가리 서식지로 유명한 곳이다. </td>\\r\\r\\n\\t\\t\\t\\t\\t\\t</tr>\\r\\r\\n\\t\\t\\t\\t\\t</tbody>\\r\\r\\n\\t\\t\\t\\t</table>\\r\\r\\n\\t\\t\\t</div>\\r\\r\\n\\t\\t\\t<!-- 관광지정보 -->\\r\\r\\n\\r\\r\\n\\t\\t\\t<!-- 주변맛집 -->\\r\\r\\n\\t\\t\\t<h5>주변맛집</h5>\\r\\r\\n\\t\\t\\t<div class=\"edu_detail_txt\">\\r\\r\\n\\t\\t\\t\\t<table class=\"tstyle_list\">\\r\\r\\n\\t\\t\\t\\t\\t<caption>\\r\\r\\n\\t\\t\\t\\t\\t\\t<strong>의령 자굴산 둘레길 주변맛집을 안내는 표 입니다.</strong>\\r\\r\\n\\t\\t\\t\\t\\t\\t<details>\\r\\r\\n\\t\\t\\t\\t\\t\\t\\t<summary>의령 자굴산 둘레길 주변맛집 상세안내 각상호명에 대한 전화번호를 안내합니다.</summary>\\r\\r\\n\\t\\t\\t\\t\\t\\t</details>\\r\\r\\n\\t\\t\\t\\t\\t</caption>\\r\\r\\n\\t\\t\\t\\t\\t<colgroup>\\r\\r\\n\\t\\t\\t\\t\\t\\t<col style=\"width:30%\">\\r\\r\\n\\t\\t\\t\\t\\t\\t<col style=\"width:70%\">\\r\\r\\n\\t\\t\\t\\t\\t</colgroup>\\r\\r\\n\\t\\t\\t\\t\\t<thead>\\r\\r\\n\\t\\t\\t\\t\\t\\t<tr>\\r\\r\\n\\t\\t\\t\\t\\t\\t\\t<th scope=\"col\">상호명</th>\\r\\r\\n\\t\\t\\t\\t\\t\\t\\t<th scope=\"col\">전화번호</th>\\r\\r\\n\\t\\t\\t\\t\\t\\t\\t\\t\\t\\t\\t\\t\\t</tr>\\r\\r\\n\\t\\t\\t\\t\\t</thead>\\r\\r\\n\\t\\t\\t\\t\\t<tbody>\\r\\r\\n\\t\\t\\t\\t\\t\\t<tr>\\r\\r\\n\\t\\t\\t\\t\\t\\t\\t<th scope=\"row\">초가산장 (쇠고기)</th>\\r\\r\\n\\t\\t\\t\\t\\t\\t\\t<td>055-573-4200</td>\\r\\r\\n\\t\\t\\t\\t\\t\\t</tr>\\r\\r\\n\\t\\t\\t\\t\\t\\t<tr>\\r\\r\\n\\t\\t\\t\\t\\t\\t\\t<th scope=\"row\">토종마을 (옻닭, 백숙)</th>\\r\\r\\n\\t\\t\\t\\t\\t\\t\\t<td>055-573-2341</td>\\r\\r\\n\\t\\t\\t\\t\\t\\t</tr>\\r\\r\\n\\t\\t\\t\\t\\t\\t<tr>\\r\\r\\n\\t\\t\\t\\t\\t\\t\\t<th scope=\"row\">풀내음 (메밀국수)</th>\\r\\r\\n\\t\\t\\t\\t\\t\\t\\t<td>055-572-3267</td>\\r\\r\\n\\t\\t\\t\\t\\t\\t</tr>\\r\\r\\n\\t\\t\\t\\t\\t\\t<tr>\\r\\r\\n\\t\\t\\t\\t\\t\\t\\t<th scope=\"row\">양산박식당 (장어구이, 보리밥)</th>\\r\\r\\n\\t\\t\\t\\t\\t\\t\\t<td>055-572-1323</td>\\r\\r\\n\\t\\t\\t\\t\\t\\t</tr>\\r\\r\\n\\t\\t\\t\\t\\t</tbody>\\r\\r\\n\\t\\t\\t\\t</table>\\r\\r\\n\\t\\t\\t</div>\\r\\r\\n\\t\\t\\t<!-- 주변맛집 -->\\r\\r\\n\\r\\r\\n\\t\\t\\t<!-- 주변숙박 -->\\r\\r\\n\\t\\t\\t<h5>주변숙박</h5>\\r\\r\\n\\t\\t\\t<div class=\"edu_detail_txt\">\\r\\r\\n\\t\\t\\t\\t<table class=\"tstyle_list\">\\r\\r\\n\\t\\t\\t\\t\\t<caption>\\r\\r\\n\\t\\t\\t\\t\\t\\t<strong>의령 자굴산 둘레길 주변숙박을 안내는 표 입니다.</strong>\\r\\r\\n\\t\\t\\t\\t\\t\\t<details>\\r\\r\\n\\t\\t\\t\\t\\t\\t\\t<summary>의령 자굴산 둘레길 주변숙박 상세안내 각 상호명에 따른 전화번호를 안내합니다.</summary>\\r\\r\\n\\t\\t\\t\\t\\t\\t</details>\\r\\r\\n\\t\\t\\t\\t\\t</caption>\\r\\r\\n\\t\\t\\t\\t\\t<colgroup>\\r\\r\\n\\t\\t\\t\\t\\t\\t<col style=\"width:30%\">\\r\\r\\n\\t\\t\\t\\t\\t\\t<col style=\"width:70%\">\\r\\r\\n\\t\\t\\t\\t\\t</colgroup>\\r\\r\\n\\t\\t\\t\\t\\t<thead>\\r\\r\\n\\t\\t\\t\\t\\t\\t<tr>\\r\\r\\n\\t\\t\\t\\t\\t\\t\\t<th scope=\"col\">상호명</th>\\r\\r\\n\\t\\t\\t\\t\\t\\t\\t<th scope=\"col\">전화번호</th>\\r\\r\\n\\t\\t\\t\\t\\t\\t</tr>\\r\\r\\n\\t\\t\\t\\t\\t</thead>\\r\\r\\n\\t\\t\\t\\t\\t<tbody>\\r\\r\\n\\t\\t\\t\\t\\t\\t<tr>\\r\\r\\n\\t\\t\\t\\t\\t\\t\\t<th scope=\"row\">아자촌마을</th>\\r\\r\\n\\t\\t\\t\\t\\t\\t\\t<td>055-573-4343</td>\\r\\r\\n\\t\\t\\t\\t\\t\\t</tr>\\r\\r\\n\\t\\t\\t\\t\\t\\t<tr>\\r\\r\\n\\t\\t\\t\\t\\t\\t\\t<th scope=\"row\">민들레농장</th>\\r\\r\\n\\t\\t\\t\\t\\t\\t\\t<td>055-573-0278</td>\\r\\r\\n\\t\\t\\t\\t\\t\\t</tr>\\r\\r\\n\\t\\t\\t\\t\\t\\t<tr>\\r\\r\\n\\t\\t\\t\\t\\t\\t\\t<th scope=\"row\">들찬마을</th>\\r\\r\\n\\t\\t\\t\\t\\t\\t\\t<td>055-574-1199</td>\\r\\r\\n\\t\\t\\t\\t\\t\\t</tr>\\r\\r\\n\\t\\t\\t\\t\\t\\t\\r\\r\\n\\t\\t\\t\\t\\t</tbody>\\r\\r\\n\\t\\t\\t\\t</table>\\r\\r\\n\\t\\t\\t</div>\\r\\r\\n\\t\\t\\t<!-- 주변숙박 -->\\r\\r\\n\\r\\r\\n\\t\\t\\t\\r\\r\\n\\t\\t\\t<!-- 축제/행사 -->\\r\\r\\n\\t\\t\\t<h5>축제/행사</h5>\\r\\r\\n\\t\\t\\t<div class=\"edu_detail_txt\">\\r\\r\\n\\t\\t\\t\\t<table class=\"tstyle_list\">\\r\\r\\n\\t\\t\\t\\t\\t<caption>\\r\\r\\n\\t\\t\\t\\t\\t\\t<strong>의령 자굴산 둘레길 축제/행사을 안내는 표 입니다.</strong>\\r\\r\\n\\t\\t\\t\\t\\t\\t<details>\\r\\r\\n\\t\\t\\t\\t\\t\\t\\t<summary>의령 자굴산 둘레길 축제/행사 상세안내 각 축제명에 따른 축제기간, 장소, 홈페이지링크를 제공하고 있습니다.</summary>\\r\\r\\n\\t\\t\\t\\t\\t\\t</details>\\r\\r\\n\\t\\t\\t\\t\\t</caption>\\r\\r\\n\\t\\t\\t\\t\\t<colgroup>\\r\\r\\n\\t\\t\\t\\t\\t\\t<col style=\"width:20%\">\\r\\r\\n\\t\\t\\t\\t\\t\\t<col style=\"width:20%\">\\r\\r\\n\\t\\t\\t\\t\\t\\t<col>\\r\\r\\n\\t\\t\\t\\t\\t\\t<col>\\r\\r\\n\\t\\t\\t\\t\\t</colgroup>\\r\\r\\n\\t\\t\\t\\t\\t<thead>\\r\\r\\n\\t\\t\\t\\t\\t\\t<tr>\\r\\r\\n\\t\\t\\t\\t\\t\\t\\t<th scope=\"col\">축제명</th>\\r\\r\\n\\t\\t\\t\\t\\t\\t\\t<th scope=\"col\">축제기간</th>\\r\\r\\n\\t\\t\\t\\t\\t\\t\\t<th scope=\"col\">장소</th>\\r\\r\\n\\t\\t\\t\\t\\t\\t\\t<th scope=\"col\">홈페이지</th>\\r\\r\\n\\t\\t\\t\\t\\t\\t</tr>\\r\\r\\n\\t\\t\\t\\t\\t</thead>\\r\\r\\n\\t\\t\\t\\t\\t<tbody>\\r\\r\\n\\t\\t\\t\\t\\t\\t<tr>\\r\\r\\n\\t\\t\\t\\t\\t\\t\\t<th scope=\"row\">의병제전</th>\\r\\r\\n\\t\\t\\t\\t\\t\\t\\t<td>4월중 </td>\\r\\r\\n\\t\\t\\t\\t\\t\\t\\t<td>경남 의령군 의병교, 의령군청 등</td>\\r\\r\\n\\t\\t\\t\\t\\t\\t\\t<td><a href=\"http://tour.uiryeong.go.kr/003/05/main.asp\" target=\"_blank\" title=\"의병제전 새창열림\"> 홈페이지 바로가기</a></td>\\r\\r\\n\\t\\t\\t\\t\\t\\t</tr>\\r\\r\\n\\t\\t\\t\\t\\t\\t<tr>\\r\\r\\n\\t\\t\\t\\t\\t\\t\\t<th scope=\"row\">추석맞이 의령 소싸움대회</th>\\r\\r\\n\\t\\t\\t\\t\\t\\t\\t<td>9월중 </td>\\r\\r\\n\\t\\t\\t\\t\\t\\t\\t<td>경남 의령군 전통농경문화테마파크 민속경기장</td>\\r\\r\\n\\t\\t\\t\\t\\t\\t\\t<td><a href=\"http://bull.uiryeong.go.kr/main/\" target=\"_blank\" title=\"추석맞이 의령 소싸움대회 새창열림\"> 홈페이지 바로가기</a></td>\\r\\r\\n\\t\\t\\t\\t\\t\\t</tr>\\r\\r\\n\\t\\t\\t\\t\\t\\t<tr>\\r\\r\\n\\t\\t\\t\\t\\t\\t\\t<th scope=\"row\">의령 한지 장판 병풍 축제/th>\\r\\r\\n\\t\\t\\t\\t\\t\\t\\t<td>10월중</td>\\r\\r\\n\\t\\t\\t\\t\\t\\t\\t<td>경남 의령군 신반시장 주차장</td>\\r\\r\\n\\t\\t\\t\\t\\t\\t\\t<td><a href=\"http://tour.uiryeong.go.kr/003/01/sub_07_01.asp\" target=\"_blank\" title=\"의령 한지 장판 병풍 축제 새창열림\"> 홈페이지 바로가기</a></td>\\r\\r\\n\\t\\t\\t\\t\\t\\t</tr>\\r\\r\\n\\t\\t\\t\\t\\t\\r\\r\\n\\t\\t\\t\\t\\t</tbody>\\r\\r\\n\\t\\t\\t\\t</table>\\r\\r\\n\\t\\t\\t</div>\\r\\r\\n\\t\\t\\t<!-- 축제/행사 -->',\n",
              "    'data_title': '의령 자굴산 둘레길',\n",
              "    'fileurl1': 'https://www.gyeongnam.go.kr/upload_data/board_data/BBS_0002006/53_01.jpg',\n",
              "    'fileurl2': 'https://www.gyeongnam.go.kr/upload_data/board_data/BBS_0002006/53_02.jpg',\n",
              "    'fileurl3': 'https://www.gyeongnam.go.kr/upload_data/board_data/BBS_0002006/53_03.jpg',\n",
              "    'fileurl4': 'https://www.gyeongnam.go.kr/upload_data/board_data/BBS_0002006/53_04.jpg',\n",
              "    'fileurl5': 'https://www.gyeongnam.go.kr/upload_data/board_data/BBS_0002006/53_05.jpg',\n",
              "    'insttnm': '의령군 문화체육과 : 의령군 의령읍 충익로 63 T. 055-570-2403\\r\\r\\n산림녹지과 : 의령군 의령읍 충익로 63 T. 055-570-2660',\n",
              "    'roadlength': '약 3.7km',\n",
              "    'roadroute': '쇠목재-->절터샘-->전망대--> 달분재--> 베틀바위-->자굴산 정상-->쇠목재(대중교통 불가)',\n",
              "    'roadtime': '약 3시간20분',\n",
              "    'traffic': '대중교통 : 의령시외버스터미널에서 가례면 갑을리, 칠곡면 내조리 방면농어촌마을버스 이용\\r\\r\\n자동차 : 군북IC-->의령방면 79번 국도-->의령읍--> 20번 국도--> 의령여중고 우회전-->가례면 갑을마을 또는 쇠목재(주차장 협소)',\n",
              "    'videoinfo': '해발 600m 이상 고도의 산중에 있어서 삼림욕을 즐길 수 있고 자연속의 둘레길로 건강 둘레길 의령 자굴산 둘레길을 만나 보실까요? \\r\\r\\n쇠목재에서 시작해 바람덤~절터샘~전망대~절터 구간을 거처 달분재까지 누구나 쉽게 접근하여 이용할 수 있도록 수평 개념의 등산로를 조성하여 자굴산만의 생태와 진면목을 있는 그대로 느끼며 편안하게 심신을 단련 할 수 있습니다.\\r\\r\\n 특히 자굴산 둘레길의 압권은 내려보고 올려보는 풍광 그자체 인데요. \\r\\r\\n절터 전망대에 올라서면 그림처럼 펼쳐진 칠곡면 내조리를 한눈에 담을 수 있습니다. \\r\\r\\n다양한 수목군락지를 만날 수가 있는데 능선부에는 자태를 뽐내고 있는 천년다지송과 노각나무, 사람주나무, 비목나무 등. 또한 골골이 많은 전설을 지닌 기암괴석과 풍광을 접할 수 있어 보는 이로 하여금 찬탄을 자아내는데요.\\r\\r\\n 재미있는 전설 속 이야기가 가득한 자굴산 둘레길 , 쉬엄쉬엄 산 위를 거닐어 보세요~',\n",
              "    'videourl': 'https://www.youtube.com/embed/iZs0SrPEtf4',\n",
              "    'view_count': 2163},\n",
              "   {'category_name1': '합천군',\n",
              "    'courseinfo': '암자들을 하나하나 둘러보며 천년의 역사를 느낄 수 있는 곳! 가야산 남쪽 자락에 자리잡은 해인사는 불교의 불, 법, 승 ３보 가운데 법보사찰이다. 부처님의 말씀(法)인 팔만대장경을 간직하고 있는 법보(法寶) 사찰인 해인사로 가는 길은 주위에 마애불, 영지, 성철스님부도탑, 비석거리, 학사대, 외나무다리, 사명대사비등 볼거리가 풍부하며 천년의 역사를 느낄 수 있는 곳이다. 또한 해인사 주위에 자리잡고 있는 암자들을 하나하나 둘러보는 것도 여행의 재미를 배가시키는 좋은 방법이다.',\n",
              "    'data_content': '<!-- 관광지정보 -->\\r\\r\\n\\t\\t\\t<h5>관광지정보</h5>\\r\\r\\n\\t\\t\\t<div class=\"edu_detail_txt\">\\r\\r\\n\\t\\t\\t\\t<table class=\"tstyle_list\">\\r\\r\\n\\t\\t\\t\\t\\t<caption>\\r\\r\\n\\t\\t\\t\\t\\t\\t<strong>합천 해인사 천년역사길 관광지정보을 안내는 표 입니다.</strong>\\r\\r\\n\\t\\t\\t\\t\\t\\t<details>\\r\\r\\n\\t\\t\\t\\t\\t\\t\\t<summary>합천 해인사 천년역사길 관광지정보 상세안내 관광지명에 따른 내용을 안내합니다</summary>\\r\\r\\n\\t\\t\\t\\t\\t\\t</details>\\r\\r\\n\\t\\t\\t\\t\\t</caption>\\r\\r\\n\\t\\t\\t\\t\\t<colgroup>\\r\\r\\n\\t\\t\\t\\t\\t\\t<col style=\"width:30%\">\\r\\r\\n\\t\\t\\t\\t\\t\\t<col style=\"width:70%\">\\r\\r\\n\\t\\t\\t\\t\\t</colgroup>\\r\\r\\n\\t\\t\\t\\t\\t<thead>\\r\\r\\n\\t\\t\\t\\t\\t\\t<tr>\\r\\r\\n\\t\\t\\t\\t\\t\\t\\t<th scope=\"col\">관광지명</th>\\r\\r\\n\\t\\t\\t\\t\\t\\t\\t<th scope=\"col\">내용</th>\\r\\r\\n\\t\\t\\t\\t\\t\\t</tr>\\r\\r\\n\\t\\t\\t\\t\\t</thead>\\r\\r\\n\\t\\t\\t\\t\\t<tbody>\\r\\r\\n\\t\\t\\t\\t\\t\\t<tr>\\r\\r\\n\\t\\t\\t\\t\\t\\t\\t<th scope=\"row\">영지 </th>\\r\\r\\n\\t\\t\\t\\t\\t\\t\\t<td>김수로왕의 왕비가 출가한 일곱왕자를 그림자라도 보게해달라고 부처님께 기도하자 왕자들의 모습이 연못에 비쳤다고 한다. </td>\\r\\r\\n\\t\\t\\t\\t\\t\\t</tr>\\r\\r\\n\\t\\t\\t\\t\\t\\t<tr>\\r\\r\\n\\t\\t\\t\\t\\t\\t\\t<th scope=\"row\">학사대</th>\\r\\r\\n\\t\\t\\t\\t\\t\\t\\t<td>고운 최치원이 만년에 가야산에 은거하여 고운 최치원이 만년에 가야산에 은거하여 할 때 수많은 학이 날아와 경청했다고 한다.  </td>\\r\\r\\n\\t\\t\\t\\t\\t\\t</tr>\\r\\r\\n\\t\\t\\t\\t\\t</tbody>\\r\\r\\n\\t\\t\\t\\t</table>\\r\\r\\n\\t\\t\\t</div>\\r\\r\\n\\t\\t\\t<!-- 관광지정보 -->\\r\\r\\n\\r\\r\\n\\t\\t\\t<!-- 주변맛집 -->\\r\\r\\n\\t\\t\\t<h5>주변맛집</h5>\\r\\r\\n\\t\\t\\t<div class=\"edu_detail_txt\">\\r\\r\\n\\t\\t\\t\\t<table class=\"tstyle_list\">\\r\\r\\n\\t\\t\\t\\t\\t<caption>\\r\\r\\n\\t\\t\\t\\t\\t\\t<strong>합천 해인사 천년역사길 주변맛집을 안내는 표 입니다.</strong>\\r\\r\\n\\t\\t\\t\\t\\t\\t<details>\\r\\r\\n\\t\\t\\t\\t\\t\\t\\t<summary>합천 해인사 천년역사길 주변맛집 상세안내 각상호명에 따른 전화번호와 주소를 안내합니다.</summary>\\r\\r\\n\\t\\t\\t\\t\\t\\t</details>\\r\\r\\n\\t\\t\\t\\t\\t</caption>\\r\\r\\n\\t\\t\\t\\t\\t<colgroup>\\r\\r\\n\\t\\t\\t\\t\\t\\t<col style=\"width:20%\">\\r\\r\\n\\t\\t\\t\\t\\t\\t<col style=\"width:20%\">\\r\\r\\n\\t\\t\\t\\t\\t\\t<col>\\r\\r\\n\\t\\t\\t\\t\\t</colgroup>\\r\\r\\n\\t\\t\\t\\t\\t<thead>\\r\\r\\n\\t\\t\\t\\t\\t\\t<tr>\\r\\r\\n\\t\\t\\t\\t\\t\\t\\t<th scope=\"col\">상호명</th>\\r\\r\\n\\t\\t\\t\\t\\t\\t\\t<th scope=\"col\">전화번호</th>\\r\\r\\n\\t\\t\\t\\t\\t\\t\\t<th scope=\"col\">주소</th>\\r\\r\\n\\t\\t\\t\\t\\t\\t</tr>\\r\\r\\n\\t\\t\\t\\t\\t</thead>\\r\\r\\n\\t\\t\\t\\t\\t<tbody>\\r\\r\\n\\t\\t\\t\\t\\t\\t<tr>\\r\\r\\n\\t\\t\\t\\t\\t\\t\\t<th scope=\"row\">삼일식당(송이정식)</th>\\r\\r\\n\\t\\t\\t\\t\\t\\t\\t<td>055-932-7254</td>\\r\\r\\n\\t\\t\\t\\t\\t\\t\\t<td>가야면 치인리 10</td>\\r\\r\\n\\t\\t\\t\\t\\t\\t</tr>\\r\\r\\n\\t\\t\\t\\t\\t\\t<tr>\\r\\r\\n\\t\\t\\t\\t\\t\\t\\t<th scope=\"row\">고바우식당(산채한정식)</th>\\r\\r\\n\\t\\t\\t\\t\\t\\t\\t<td>055-931-7311</td>\\r\\r\\n\\t\\t\\t\\t\\t\\t\\t<td>가야면 치인리 1230</td>\\r\\r\\n\\t\\t\\t\\t\\t\\t</tr>\\r\\r\\n\\t\\t\\t\\t\\t\\t<tr>\\r\\r\\n\\t\\t\\t\\t\\t\\t\\t<th scope=\"row\">금호관(산채비빔밥)</th>\\r\\r\\n\\t\\t\\t\\t\\t\\t\\t<td>055-933-3292</td>\\r\\r\\n\\t\\t\\t\\t\\t\\t\\t<td>가야면 야천리 919-6</td>\\r\\r\\n\\t\\t\\t\\t\\t\\t</tr>\\r\\r\\n\\t\\t\\t\\t\\t\\t<tr>\\r\\r\\n\\t\\t\\t\\t\\t\\t\\t<th scope=\"row\">솔밭쉼터식당(보리밥,순두부)</th>\\r\\r\\n\\t\\t\\t\\t\\t\\t\\t<td>055-931-6606</td>\\r\\r\\n\\t\\t\\t\\t\\t\\t\\t<td>가야면 야천리 476</td>\\r\\r\\n\\t\\t\\t\\t\\t\\t</tr>\\r\\r\\n\\t\\t\\t\\t\\t\\t<tr>\\r\\r\\n\\t\\t\\t\\t\\t\\t\\t<th scope=\"row\">합천명품토종흑돼지</th>\\r\\r\\n\\t\\t\\t\\t\\t\\t\\t<td>055-932-6055</td>\\r\\r\\n\\t\\t\\t\\t\\t\\t\\t<td>가야면 야천리 465-4</td>\\r\\r\\n\\t\\t\\t\\t\\t\\t</tr>\\r\\r\\n\\r\\r\\n\\t\\t\\t\\t\\t</tbody>\\r\\r\\n\\t\\t\\t\\t</table>\\r\\r\\n\\t\\t\\t</div>\\r\\r\\n\\t\\t\\t<!-- 주변맛집 -->\\r\\r\\n\\r\\r\\n\\t\\t\\t<!-- 주변숙박 -->\\r\\r\\n\\t\\t\\t<h5>주변숙박</h5>\\r\\r\\n\\t\\t\\t<div class=\"edu_detail_txt\">\\r\\r\\n\\t\\t\\t\\t<table class=\"tstyle_list\">\\r\\r\\n\\t\\t\\t\\t\\t<caption>\\r\\r\\n\\t\\t\\t\\t\\t\\t<strong>합천 해인사 천년역사길 주변숙박을 안내는 표 입니다.</strong>\\r\\r\\n\\t\\t\\t\\t\\t\\t<details>\\r\\r\\n\\t\\t\\t\\t\\t\\t\\t<summary>합천 해인사 천년역사길 주변숙박 상세안내 각상호명에 대한 전화번호와 주소를 안내합니다.</summary>\\r\\r\\n\\t\\t\\t\\t\\t\\t</details>\\r\\r\\n\\t\\t\\t\\t\\t</caption>\\r\\r\\n\\t\\t\\t\\t\\t<colgroup>\\r\\r\\n\\t\\t\\t\\t\\t\\t<col style=\"width:20%\">\\r\\r\\n\\t\\t\\t\\t\\t\\t<col style=\"width:20%\">\\r\\r\\n\\t\\t\\t\\t\\t\\t<col>\\r\\r\\n\\t\\t\\t\\t\\t\\t<col>\\r\\r\\n\\t\\t\\t\\t\\t</colgroup>\\r\\r\\n\\t\\t\\t\\t\\t<thead>\\r\\r\\n\\t\\t\\t\\t\\t\\t<tr>\\r\\r\\n\\t\\t\\t\\t\\t\\t\\t<th scope=\"col\">상호명</th>\\r\\r\\n\\t\\t\\t\\t\\t\\t\\t<th scope=\"col\">전화번호</th>\\r\\r\\n\\t\\t\\t\\t\\t\\t\\t<th scope=\"col\">주소</th>\\r\\r\\n\\t\\t\\t\\t\\t\\t</tr>\\r\\r\\n\\t\\t\\t\\t\\t</thead>\\r\\r\\n\\t\\t\\t\\t\\t<tbody>\\r\\r\\n\\t\\t\\t\\t\\t\\t<tr>\\r\\r\\n\\t\\t\\t\\t\\t\\t\\t<th scope=\"row\">해인사관광호텔</th>\\r\\r\\n\\t\\t\\t\\t\\t\\t\\t<td>055-933-2000</td>\\r\\r\\n\\t\\t\\t\\t\\t\\t\\t<td>가야면 치인리</td>\\r\\r\\n\\t\\t\\t\\t\\t\\t</tr>\\r\\r\\n\\t\\t\\t\\t\\t\\t<tr>\\r\\r\\n\\t\\t\\t\\t\\t\\t\\t<th scope=\"row\">산장별장여관 </th>\\r\\r\\n\\t\\t\\t\\t\\t\\t\\t<td>055-930-7245</td>\\r\\r\\n\\t\\t\\t\\t\\t\\t\\t<td>가야면 치인리</td>\\r\\r\\n\\t\\t\\t\\t\\t\\t</tr>\\r\\r\\n\\t\\t\\t\\t\\t\\t<tr>\\r\\r\\n\\t\\t\\t\\t\\t\\t\\t<th scope=\"row\">남산장모텔</th>\\r\\r\\n\\t\\t\\t\\t\\t\\t\\t<td>055-932-5813</td>\\r\\r\\n\\t\\t\\t\\t\\t\\t\\t<td>가야면 야천리 477-24</td>\\r\\r\\n\\t\\t\\t\\t\\t\\t</tr>\\r\\r\\n\\t\\t\\t\\t\\t\\t<tr>\\r\\r\\n\\t\\t\\t\\t\\t\\t\\t<th scope=\"row\">국일장모텔</th>\\r\\r\\n\\t\\t\\t\\t\\t\\t\\t<td>055-931-9000</td>\\r\\r\\n\\t\\t\\t\\t\\t\\t\\t<td>가야면 야천리 888-7 </td>\\r\\r\\n\\t\\t\\t\\t\\t\\t</tr>\\r\\r\\n\\t\\t\\t\\t\\t\\r\\r\\n\\t\\t\\t\\t\\t</tbody>\\r\\r\\n\\t\\t\\t\\t</table>\\r\\r\\n\\t\\t\\t</div>\\r\\r\\n\\t\\t\\t<!-- 주변숙박 -->\\r\\r\\n\\r\\r\\n\\t\\t\\t<!-- 특산품 -->\\r\\r\\n\\t\\t\\t<h5>특산품</h5>\\r\\r\\n\\t\\t\\t<div class=\"edu_detail_txt\">\\r\\r\\n\\t\\t\\t\\t<table class=\"tstyle_list\">\\r\\r\\n\\t\\t\\t\\t\\t<caption>\\r\\r\\n\\t\\t\\t\\t\\t\\t<strong>합천 해인사 천년역사길 특산품을 안내는 표 입니다.</strong>\\r\\r\\n\\t\\t\\t\\t\\t\\t<details>\\r\\r\\n\\t\\t\\t\\t\\t\\t\\t<summary>합천 해인사 천년역사길 특산품 상세안내 각품명에 따른 전화번호와 판매점을 안내합니다.</summary>\\r\\r\\n\\t\\t\\t\\t\\t\\t</details>\\r\\r\\n\\t\\t\\t\\t\\t</caption>\\r\\r\\n\\t\\t\\t\\t\\t<colgroup>\\r\\r\\n\\t\\t\\t\\t\\t\\t<col style=\"width:20%\">\\r\\r\\n\\t\\t\\t\\t\\t\\t<col style=\"width:20%\">\\r\\r\\n\\t\\t\\t\\t\\t\\t<col>\\r\\r\\n\\t\\t\\t\\t\\t</colgroup>\\r\\r\\n\\t\\t\\t\\t\\t<thead>\\r\\r\\n\\t\\t\\t\\t\\t\\t<tr>\\r\\r\\n\\t\\t\\t\\t\\t\\t\\t<th scope=\"col\">품명</th>\\r\\r\\n\\t\\t\\t\\t\\t\\t\\t<th scope=\"col\">전화번호</th>\\r\\r\\n\\t\\t\\t\\t\\t\\t\\t<th scope=\"col\">판매점</th>\\r\\r\\n\\t\\t\\t\\t\\t\\t</tr>\\r\\r\\n\\t\\t\\t\\t\\t</thead>\\r\\r\\n\\t\\t\\t\\t\\t<tbody>\\r\\r\\n\\t\\t\\t\\t\\t\\t<tr>\\r\\r\\n\\t\\t\\t\\t\\t\\t\\t<th scope=\"row\">합천파프리카</th>\\r\\r\\n\\t\\t\\t\\t\\t\\t\\t<td>011-550-1663</td>\\r\\r\\n\\t\\t\\t\\t\\t\\t\\t<td>가야산제일청정농장</td>\\r\\r\\n\\t\\t\\t\\t\\t\\t</tr>\\r\\r\\n\\t\\t\\t\\t\\t\\t<tr>\\r\\r\\n\\t\\t\\t\\t\\t\\t\\t<th scope=\"row\">왕우렁이쌀  </th>\\r\\r\\n\\t\\t\\t\\t\\t\\t\\t<td>011-550-8798</td>\\r\\r\\n\\t\\t\\t\\t\\t\\t\\t<td>가야농협  </td>\\r\\r\\n\\t\\t\\t\\t\\t\\t</tr>\\r\\r\\n\\t\\t\\t\\t\\t\\t<tr>\\r\\r\\n\\t\\t\\t\\t\\t\\t\\t<th scope=\"row\">전통누비  </th>\\r\\r\\n\\t\\t\\t\\t\\t\\t\\t<td>017-585-0460</td>\\r\\r\\n\\t\\t\\t\\t\\t\\t\\t<td>합천전통누비 </td>\\r\\r\\n\\t\\t\\t\\t\\t\\t</tr>\\r\\r\\n\\t\\t\\t\\t\\t\\t<tr>\\r\\r\\n\\t\\t\\t\\t\\t\\t\\t<th scope=\"row\">세척안심딸기 </th>\\r\\r\\n\\t\\t\\t\\t\\t\\t\\t<td>055-933-2195</td>\\r\\r\\n\\t\\t\\t\\t\\t\\t\\t<td>농업협동조합합천군지부   </td>\\r\\r\\n\\t\\t\\t\\t\\t\\t</tr>\\r\\r\\n\\t\\t\\t\\t\\t\\t<tr>\\r\\r\\n\\t\\t\\t\\t\\t\\t\\t<th scope=\"row\">사포닌매실  </th>\\r\\r\\n\\t\\t\\t\\t\\t\\t\\t<td>055-930-3674</td>\\r\\r\\n\\t\\t\\t\\t\\t\\t\\t<td>류진농원  </td>\\r\\r\\n\\t\\t\\t\\t\\t\\t</tr>\\r\\r\\n\\t\\t\\t\\t\\t\\t<tr>\\r\\r\\n\\t\\t\\t\\t\\t\\t\\t<th scope=\"row\">왕골돗자리 </th>\\r\\r\\n\\t\\t\\t\\t\\t\\t\\t<td>011-813-0044</td>\\r\\r\\n\\t\\t\\t\\t\\t\\t\\t<td>합천쌍책돗자리 </td>\\r\\r\\n\\t\\t\\t\\t\\t\\t</tr>\\r\\r\\n\\t\\t\\t\\t\\t\\t<tr>\\r\\r\\n\\t\\t\\t\\t\\t\\t\\t<th scope=\"row\">가야산뽕잎차</th>\\r\\r\\n\\t\\t\\t\\t\\t\\t\\t<td>055-932-7387</td>\\r\\r\\n\\t\\t\\t\\t\\t\\t\\t<td>해인특산물농장 </td>\\r\\r\\n\\t\\t\\t\\t\\t\\t</tr>\\r\\r\\n\\t\\t\\t\\t\\t\\t<tr>\\r\\r\\n\\t\\t\\t\\t\\t\\t\\t<th scope=\"row\">지리산영지버섯  </th>\\r\\r\\n\\t\\t\\t\\t\\t\\t\\t<td>055-932-7387</td>\\r\\r\\n\\t\\t\\t\\t\\t\\t\\t<td>해인특산물농장  </td>\\r\\r\\n\\t\\t\\t\\t\\t\\t</tr>\\r\\r\\n\\t\\t\\t\\t\\t\\t<tr>\\r\\r\\n\\t\\t\\t\\t\\t\\t\\t<th scope=\"row\">합천황토한우  </th>\\r\\r\\n\\t\\t\\t\\t\\t\\t\\t<td>055-930-0056</td>\\r\\r\\n\\t\\t\\t\\t\\t\\t\\t<td>합천축협</td>\\r\\r\\n\\t\\t\\t\\t\\t\\t</tr>\\r\\r\\n\\t\\t\\t\\t\\r\\r\\n\\t\\t\\t\\t\\r\\r\\n\\t\\t\\t\\t\\t</tbody>\\r\\r\\n\\t\\t\\t\\t</table>\\r\\r\\n\\t\\t\\t</div>\\r\\r\\n\\t\\t\\t<!-- 특산품 -->\\r\\r\\n\\r\\r\\n\\t\\t\\t<!-- 재래시장 -->\\r\\r\\n\\t\\t\\t<h5>재래시장</h5>\\r\\r\\n\\t\\t\\t<div class=\"edu_detail_txt\">\\r\\r\\n\\t\\t\\t\\t<table class=\"tstyle_list\">\\r\\r\\n\\t\\t\\t\\t\\t<caption>\\r\\r\\n\\t\\t\\t\\t\\t\\t<strong>합천 해인사 천년역사길 재래시장을 안내는 표 입니다.</strong>\\r\\r\\n\\t\\t\\t\\t\\t\\t<details>\\r\\r\\n\\t\\t\\t\\t\\t\\t\\t<summary>합천 해인사 천년역사길 재래시장 상세안내 합천시장에 대한 전화번호, 주소, 설명을 안내합니다.</summary>\\r\\r\\n\\t\\t\\t\\t\\t\\t</details>\\r\\r\\n\\t\\t\\t\\t\\t</caption>\\r\\r\\n\\t\\t\\t\\t\\t<colgroup>\\r\\r\\n\\t\\t\\t\\t\\t\\t<col style=\"width:20%\">\\r\\r\\n\\t\\t\\t\\t\\t\\t<col style=\"width:20%\">\\r\\r\\n\\t\\t\\t\\t\\t\\t<col>\\r\\r\\n\\t\\t\\t\\t\\t\\t<col>\\r\\r\\n\\t\\t\\t\\t\\t</colgroup>\\r\\r\\n\\t\\t\\t\\t\\t<thead>\\r\\r\\n\\t\\t\\t\\t\\t\\t<tr>\\r\\r\\n\\t\\t\\t\\t\\t\\t\\t<th scope=\"col\">시장명</th>\\r\\r\\n\\t\\t\\t\\t\\t\\t\\t<th scope=\"col\">전화번호</th>\\r\\r\\n\\t\\t\\t\\t\\t\\t\\t<th scope=\"col\">주소</th>\\r\\r\\n\\t\\t\\t\\t\\t\\t\\t<th scope=\"col\">설명</th>\\r\\r\\n\\t\\t\\t\\t\\t\\t</tr>\\r\\r\\n\\t\\t\\t\\t\\t</thead>\\r\\r\\n\\t\\t\\t\\t\\t<tbody>\\r\\r\\n\\t\\t\\t\\t\\t\\t<tr>\\r\\r\\n\\t\\t\\t\\t\\t\\t\\t<th scope=\"row\">합천시장</th>\\r\\r\\n\\t\\t\\t\\t\\t\\t\\t<td>055-932-0063</td>\\r\\r\\n\\t\\t\\t\\t\\t\\t\\t<td>경상남도 합천군 합천읍 합천리 473-1</td>\\r\\r\\n\\t\\t\\t\\t\\t\\t\\t<td>1985년 개설된 상가건물형의 중형시장으로 장날은 매월 3일, 8일 </td>\\r\\r\\n\\t\\t\\t\\t\\t\\t</tr>\\r\\r\\n\\t\\t\\t\\t\\t\\r\\r\\n\\t\\t\\t\\t\\t</tbody>\\r\\r\\n\\t\\t\\t\\t</table>\\r\\r\\n\\t\\t\\t</div>\\r\\r\\n\\t\\t\\t<!-- 재래시장 -->\\r\\r\\n\\r\\r\\n\\t\\t\\t<!-- 축제/행사 -->\\r\\r\\n\\t\\t\\t<h5>축제/행사</h5>\\r\\r\\n\\t\\t\\t<div class=\"edu_detail_txt\">\\r\\r\\n\\t\\t\\t\\t<table class=\"tstyle_list\">\\r\\r\\n\\t\\t\\t\\t\\t<caption>\\r\\r\\n\\t\\t\\t\\t\\t\\t<strong>합천 해인사 천년역사길 축제/행사을 안내는 표 입니다.</strong>\\r\\r\\n\\t\\t\\t\\t\\t\\t<details>\\r\\r\\n\\t\\t\\t\\t\\t\\t\\t<summary>합천 해인사 천년역사길 축제/행사 상세안내 각 축제명에 따른 축제기간, 장소, 홈페이지링크를 안내합니다.</summary>\\r\\r\\n\\t\\t\\t\\t\\t\\t</details>\\r\\r\\n\\t\\t\\t\\t\\t</caption>\\r\\r\\n\\t\\t\\t\\t\\t<colgroup>\\r\\r\\n\\t\\t\\t\\t\\t\\t<col style=\"width:20%\">\\r\\r\\n\\t\\t\\t\\t\\t\\t<col style=\"width:20%\">\\r\\r\\n\\t\\t\\t\\t\\t\\t<col>\\r\\r\\n\\t\\t\\t\\t\\t\\t<col>\\r\\r\\n\\t\\t\\t\\t\\t</colgroup>\\r\\r\\n\\t\\t\\t\\t\\t<thead>\\r\\r\\n\\t\\t\\t\\t\\t\\t<tr>\\r\\r\\n\\t\\t\\t\\t\\t\\t\\t<th scope=\"col\">축제명</th>\\r\\r\\n\\t\\t\\t\\t\\t\\t\\t<th scope=\"col\">축제기간</th>\\r\\r\\n\\t\\t\\t\\t\\t\\t\\t<th scope=\"col\">장소</th>\\r\\r\\n\\t\\t\\t\\t\\t\\t\\t<th scope=\"col\">홈페이지</th>\\r\\r\\n\\t\\t\\t\\t\\t\\t</tr>\\r\\r\\n\\t\\t\\t\\t\\t</thead>\\r\\r\\n\\t\\t\\t\\t\\t<tbody>\\r\\r\\n\\t\\t\\t\\t\\t\\t<tr>\\r\\r\\n\\t\\t\\t\\t\\t\\t\\t<th scope=\"row\">대장경 천년 세계문화축전</th>\\r\\r\\n\\t\\t\\t\\t\\t\\t\\t<td>9월~11월중 </td>\\r\\r\\n\\t\\t\\t\\t\\t\\t\\t<td>경남 합천군 해인사 등</td>\\r\\r\\n\\t\\t\\t\\t\\t\\t\\t<td><a href=\"http://culture.hc.go.kr/sub/04_01.jsp\" target=\"_blank\" title=\"대장경 천년 세계문화축전 새창열림\"> 홈페이지 바로가기</a></td>\\r\\r\\n\\t\\t\\t\\t\\t\\t</tr>\\r\\r\\n\\t\\t\\t\\t\\t\\t<tr>\\r\\r\\n\\t\\t\\t\\t\\t\\t\\t<th scope=\"row\">합천 군민의날 및 대야문화제</th>\\r\\r\\n\\t\\t\\t\\t\\t\\t\\t<td>10월중 </td>\\r\\r\\n\\t\\t\\t\\t\\t\\t\\t<td>경남 합천군 합천군민운동장 등</td>\\r\\r\\n\\t\\t\\t\\t\\t\\t\\t<td><a href=\"http://culture.hc.go.kr/main/\" target=\"_blank\" title=\"합천 군민의날 및 대야문화제 새창열림\"> 홈페이지 바로가기</a></td>\\r\\r\\n\\t\\t\\t\\t\\t\\t</tr>\\r\\r\\n\\t\\t\\t\\t\\t\\t<tr>\\r\\r\\n\\t\\t\\t\\t\\t\\t\\t<th scope=\"row\">황강레포츠축제</th>\\r\\r\\n\\t\\t\\t\\t\\t\\t\\t<td>7월말~8월초</td>\\r\\r\\n\\t\\t\\t\\t\\t\\t\\t<td>경남 합천군 황강레포츠공원 일원</td>\\r\\r\\n\\t\\t\\t\\t\\t\\t\\t<td><a href=\"http://www.합천마라톤.kr/\" target=\"_blank\" title=\"황강레포츠축제 새창열림\"> 홈페이지 바로가기</a></td>\\r\\r\\n\\t\\t\\t\\t\\t\\t</tr>\\r\\r\\n\\t\\t\\t\\t\\t\\t<tr>\\r\\r\\n\\t\\t\\t\\t\\t\\t\\t<th scope=\"row\">황매산 철쭉제</th>\\r\\r\\n\\t\\t\\t\\t\\t\\t\\t<td>5월중</td>\\r\\r\\n\\t\\t\\t\\t\\t\\t\\t<td>경남 산청군 황매산 일원</td>\\r\\r\\n\\t\\t\\t\\t\\t\\t\\t<td><a href=\"http://culture.hc.go.kr/sub/04_02.jsp\" target=\"_blank\" title=\"황매산 철쭉제 새창열림\"> 홈페이지 바로가기</a></td>\\r\\r\\n\\t\\t\\t\\t\\t\\t</tr>\\r\\r\\n\\t\\t\\t\\t\\t</tbody>\\r\\r\\n\\t\\t\\t\\t</table>\\r\\r\\n\\t\\t\\t</div>\\r\\r\\n\\t\\t\\t<!-- 축제/행사 -->',\n",
              "    'data_title': '합천 해인사 천년역사길',\n",
              "    'fileurl1': 'https://www.gyeongnam.go.kr/upload_data/board_data/BBS_0002006/25_01.jpg',\n",
              "    'fileurl2': 'https://www.gyeongnam.go.kr/upload_data/board_data/BBS_0002006/25_02.jpg',\n",
              "    'fileurl3': 'https://www.gyeongnam.go.kr/upload_data/board_data/BBS_0002006/25_03.jpg',\n",
              "    'fileurl4': 'https://www.gyeongnam.go.kr/upload_data/board_data/BBS_0002006/25_04.jpg',\n",
              "    'fileurl5': 'https://www.gyeongnam.go.kr/upload_data/board_data/BBS_0002006/25_05.jpg',\n",
              "    'insttnm': '가야산 국립공원 관리사무소 : 합천군 가야면 10 T. 055-932-7538\\r\\r\\n\\r\\r\\n 합천군 관광개발사업단 : 합천읍 합천리 T. 055-930-3757\\r\\r\\n 가야면사무소 : 가야면 야천리 465-6 T. 055-930-4041',\n",
              "    'roadlength': '약 16km',\n",
              "    'roadroute': '대장경천년문화축전주행사장 (주차장) -> 홍제암 -> 가야산대피소 -> 학사대 -> 일주문 -> 영지 -> 성철스님사리함 -> 백련암 -> 대장경천년문화축전주행사장 (주차장)',\n",
              "    'roadtime': '약 5시간 20분',\n",
              "    'traffic': '대중교통\\r\\r\\n서울 (고속버스터미널)(수시) → 대구 → 서부시외버스터미널에서 해인사행 승차 \\r\\r\\n서울 (남부시외버스터미널) → 고령 → 해인사행 승차 \\r\\r\\n대전 (시외버스터미널) → 해인사 하루 세 번 (07:10 12:05 17:45) \\r\\r\\n부산 (고속/시외버스)(수시) → 대구 → 서부시외버스터미널에서 해인사행 승차 \\r\\r\\n광주 (시외버스터미널)(수시) → 거창/대구 → 거창/대구에서 해인사행 버스승차 \\r\\r\\n마산(고속/시외버스)(수시) → 고령/대구 → 고령/대구에서 해인사행 버스승차 \\r\\r\\n진주(시외버스정류소) → 해인사 하루 세 번 (09:30 13:10 17:40)',\n",
              "    'videoinfo': '천년이 흘러도 닳지 않는 자부심을 간직하고 있는 곳,합천 해인사가 품은 천년역사길로여러분을 안내합니다. 해인사는 창건된 지 1200년이 넘은 법보사찰로, 그 유구한역사만큼이나 발길을 멈추게 하는 곳도 많은데요. 부처님의 말씀인 팔만대장경 앞에서는 굳이 국보 제32호란 이름을 떠올리지 않더라도, 그 유구함과 찬란함 앞에 절로 고개가 숙여집니다. 해인사는 장구한 역사만큼, 이곳에서 정진하고 또 인연을 맺은 선승이 많기로도 명망이 높은데요. 길 따라 만날 수 있는 16곳의 암자 곳곳에 고승들의 숨결과 발자취가 고스란히 배어 있습니다. 홍제문에는 매섭고 엄혹했던 임진왜란, 불심으로 나라를 구한 사명대사의 흔적이. 백련암에는, 무소유의 청빈한 삶을 몸소 실천한 성철스님의 자취가 그대로 남아있는데요. 성철스님이 남긴 ‘산은 산이요, 물은 물이다’를 외며 나긋나긋 걷는 길이, 마치 열반에 오르는 듯 편안합니다. 걸을수록 몸과 마음이 정갈해지는 곳, 합천 천년역사길 위에서 청아한 기운, 마음 깊이 담뿍 담고 가세요.',\n",
              "    'videourl': 'https://www.youtube.com/embed/Kott3cR05-I',\n",
              "    'view_count': 653},\n",
              "   {'category_name1': '거창군',\n",
              "    'courseinfo': '남덕유산 삿갓골샘 아랫마을, 황점마을에서 이어지는 이 길은 월성계곡의 아름다운 풍광이 펼쳐지는 곳. 달빛이 곱고 별빛이 곱다는 월성계곡은 거창의 소금강으로 신선들이 바둑을 두었다는 전설을 품고 있는 사선대, 각종 체험프로그램과 민박 등 농촌체험마을로 운영되는 월성마을,신라와 백제의 전투가 벌어졌던 장군바위, 청정함을 뽐내며 시원한 물줄기를 자랑하는 분설담,명경지수에 빠지고 싶은 강선대 등 재미있는 이야기와 절경을 즐길 수 있는 코스이다.',\n",
              "    'data_content': '<!-- 관광지정보 -->\\r\\r\\n\\t\\t\\t<h5>관광지정보</h5>\\r\\r\\n\\t\\t\\t<div class=\"edu_detail_txt\">\\r\\r\\n\\t\\t\\t\\t<table class=\"tstyle_list\">\\r\\r\\n\\t\\t\\t\\t\\t<caption>\\r\\r\\n\\t\\t\\t\\t\\t\\t<strong>거창 서출동류의 물줄기와 함께 가는길 관광지정보을 안내는 표 입니다.</strong>\\r\\r\\n\\t\\t\\t\\t\\t\\t<details>\\r\\r\\n\\t\\t\\t\\t\\t\\t\\t<summary>거창 서출동류의 물줄기와 함께 가는길 관광지정보 상세안내 각 관광지명에 따른 내용을 안내합니다</summary>\\r\\r\\n\\t\\t\\t\\t\\t\\t</details>\\r\\r\\n\\t\\t\\t\\t\\t</caption>\\r\\r\\n\\t\\t\\t\\t\\t<colgroup>\\r\\r\\n\\t\\t\\t\\t\\t\\t<col style=\"width:30%\">\\r\\r\\n\\t\\t\\t\\t\\t\\t<col style=\"width:70%\">\\r\\r\\n\\t\\t\\t\\t\\t</colgroup>\\r\\r\\n\\t\\t\\t\\t\\t<thead>\\r\\r\\n\\t\\t\\t\\t\\t\\t<tr>\\r\\r\\n\\t\\t\\t\\t\\t\\t\\t<th scope=\"col\">관광지명</th>\\r\\r\\n\\t\\t\\t\\t\\t\\t\\t<th scope=\"col\">내용</th>\\r\\r\\n\\t\\t\\t\\t\\t\\t</tr>\\r\\r\\n\\t\\t\\t\\t\\t</thead>\\r\\r\\n\\t\\t\\t\\t\\t<tbody>\\r\\r\\n\\t\\t\\t\\t\\t\\t<tr>\\r\\r\\n\\t\\t\\t\\t\\t\\t\\t<th scope=\"row\">월성계곡</th>\\r\\r\\n\\t\\t\\t\\t\\t\\t\\t<td>주변 산세가 워낙 거대해 수량이 풍부한 편이다. 계곡 물놀이와 더불어 젖은 옷과몸을 말리기에도 좋은 바위들이 있다. </td>\\r\\r\\n\\t\\t\\t\\t\\t\\t</tr>\\r\\r\\n\\t\\t\\t\\t\\t\\t<tr>\\r\\r\\n\\t\\t\\t\\t\\t\\t\\t<th scope=\"row\">강선대</th>\\r\\r\\n\\t\\t\\t\\t\\t\\t\\t<td>병곡천과 성천이 만나는 두물머리 아래 운청폭포, 덕산정 등이 월성계곡의 관문으로서 백미를 이룬다.  </td>\\r\\r\\n\\t\\t\\t\\t\\t\\t</tr>\\r\\r\\n\\t\\t\\t\\t\\t</tbody>\\r\\r\\n\\t\\t\\t\\t</table>\\r\\r\\n\\t\\t\\t</div>\\r\\r\\n\\t\\t\\t<!-- 관광지정보 -->\\r\\r\\n\\r\\r\\n\\t\\t\\t<!-- 주변맛집 -->\\r\\r\\n\\t\\t\\t<h5>주변맛집</h5>\\r\\r\\n\\t\\t\\t<div class=\"edu_detail_txt\">\\r\\r\\n\\t\\t\\t\\t<table class=\"tstyle_list\">\\r\\r\\n\\t\\t\\t\\t\\t<caption>\\r\\r\\n\\t\\t\\t\\t\\t\\t<strong>거창 서출동류의 물줄기와 함께 가는길 주변맛집을 안내는 표 입니다.</strong>\\r\\r\\n\\t\\t\\t\\t\\t\\t<details>\\r\\r\\n\\t\\t\\t\\t\\t\\t\\t<summary>거창 서출동류의 물줄기와 함께 가는길 주변맛집 상세안내 각상호명에 따른 전화번호와 주소를 안내합니다.</summary>\\r\\r\\n\\t\\t\\t\\t\\t\\t</details>\\r\\r\\n\\t\\t\\t\\t\\t</caption>\\r\\r\\n\\t\\t\\t\\t\\t<colgroup>\\r\\r\\n\\t\\t\\t\\t\\t\\t<col style=\"width:20%\">\\r\\r\\n\\t\\t\\t\\t\\t\\t<col style=\"width:20%\">\\r\\r\\n\\t\\t\\t\\t\\t\\t<col>\\r\\r\\n\\t\\t\\t\\t\\t</colgroup>\\r\\r\\n\\t\\t\\t\\t\\t<thead>\\r\\r\\n\\t\\t\\t\\t\\t\\t<tr>\\r\\r\\n\\t\\t\\t\\t\\t\\t\\t<th scope=\"col\">상호명</th>\\r\\r\\n\\t\\t\\t\\t\\t\\t\\t<th scope=\"col\">전화번호</th>\\r\\r\\n\\t\\t\\t\\t\\t\\t\\t<th scope=\"col\">주소</th>\\r\\r\\n\\t\\t\\t\\t\\t\\t</tr>\\r\\r\\n\\t\\t\\t\\t\\t</thead>\\r\\r\\n\\t\\t\\t\\t\\t<tbody>\\r\\r\\n\\t\\t\\t\\t\\t\\t<tr>\\r\\r\\n\\t\\t\\t\\t\\t\\t\\t<th scope=\"row\">민들레울</th>\\r\\r\\n\\t\\t\\t\\t\\t\\t\\t<td>011-509-1225</td>\\r\\r\\n\\t\\t\\t\\t\\t\\t\\t<td>북상면 농산리586</td>\\r\\r\\n\\t\\t\\t\\t\\t\\t</tr>\\r\\r\\n\\t\\t\\t\\t\\t\\t<tr>\\r\\r\\n\\t\\t\\t\\t\\t\\t\\t<th scope=\"row\">옥계촌</th>\\r\\r\\n\\t\\t\\t\\t\\t\\t\\t<td>055-942-5197</td>\\r\\r\\n\\t\\t\\t\\t\\t\\t\\t<td>북상면 창선리30</td>\\r\\r\\n\\t\\t\\t\\t\\t\\t</tr>\\r\\r\\n\\t\\t\\t\\t\\t\\t<tr>\\r\\r\\n\\t\\t\\t\\t\\t\\t\\t<th scope=\"row\">남덕유산대표산나물집</th>\\r\\r\\n\\t\\t\\t\\t\\t\\t\\t<td>055-944-5351</td>\\r\\r\\n\\t\\t\\t\\t\\t\\t\\t<td>북상면 월성리1710-2</td>\\r\\r\\n\\t\\t\\t\\t\\t\\t</tr>\\r\\r\\n\\t\\t\\t\\t\\t\\t<tr>\\r\\r\\n\\t\\t\\t\\t\\t\\t\\t<th scope=\"row\">아우라지가든</th>\\r\\r\\n\\t\\t\\t\\t\\t\\t\\t<td>055-942-0080</td>\\r\\r\\n\\t\\t\\t\\t\\t\\t\\t<td>북산면 농산리98-3</td>\\r\\r\\n\\t\\t\\t\\t\\t\\t</tr>\\r\\r\\n\\t\\t\\t\\t\\t\\t<tr>\\r\\r\\n\\t\\t\\t\\t\\t\\t\\t<th scope=\"row\">용회네가든</th>\\r\\r\\n\\t\\t\\t\\t\\t\\t\\t<td>055-945-0072</td>\\r\\r\\n\\t\\t\\t\\t\\t\\t\\t<td>북상면 월성리1631</td>\\r\\r\\n\\t\\t\\t\\t\\t\\t</tr>\\r\\r\\n\\r\\r\\n\\t\\t\\t\\t\\t</tbody>\\r\\r\\n\\t\\t\\t\\t</table>\\r\\r\\n\\t\\t\\t</div>\\r\\r\\n\\t\\t\\t<!-- 주변맛집 -->\\r\\r\\n\\r\\r\\n\\t\\t\\t<!-- 주변숙박 -->\\r\\r\\n\\t\\t\\t<h5>주변숙박</h5>\\r\\r\\n\\t\\t\\t<div class=\"edu_detail_txt\">\\r\\r\\n\\t\\t\\t\\t<table class=\"tstyle_list\">\\r\\r\\n\\t\\t\\t\\t\\t<caption>\\r\\r\\n\\t\\t\\t\\t\\t\\t<strong>거창 서출동류의 물줄기와 함께 가는길 주변숙박을 안내는 표 입니다.</strong>\\r\\r\\n\\t\\t\\t\\t\\t\\t<details>\\r\\r\\n\\t\\t\\t\\t\\t\\t\\t<summary>거창 서출동류의 물줄기와 함께 가는길 주변숙박 상세안내 각상호명에 따른 전화번호와 주소를 안내합니다.</summary>\\r\\r\\n\\t\\t\\t\\t\\t\\t</details>\\r\\r\\n\\t\\t\\t\\t\\t</caption>\\r\\r\\n\\t\\t\\t\\t\\t<colgroup>\\r\\r\\n\\t\\t\\t\\t\\t\\t<col style=\"width:20%\">\\r\\r\\n\\t\\t\\t\\t\\t\\t<col style=\"width:20%\">\\r\\r\\n\\t\\t\\t\\t\\t\\t<col>\\r\\r\\n\\t\\t\\t\\t\\t</colgroup>\\r\\r\\n\\t\\t\\t\\t\\t<thead>\\r\\r\\n\\t\\t\\t\\t\\t\\t<tr>\\r\\r\\n\\t\\t\\t\\t\\t\\t\\t<th scope=\"col\">상호명</th>\\r\\r\\n\\t\\t\\t\\t\\t\\t\\t<th scope=\"col\">전화번호</th>\\r\\r\\n\\t\\t\\t\\t\\t\\t\\t<th scope=\"col\">주소</th>\\r\\r\\n\\t\\t\\t\\t\\t\\t</tr>\\r\\r\\n\\t\\t\\t\\t\\t</thead>\\r\\r\\n\\t\\t\\t\\t\\t<tbody>\\r\\r\\n\\t\\t\\t\\t\\t\\t<tr>\\r\\r\\n\\t\\t\\t\\t\\t\\t\\t<th scope=\"row\">민들레울</th>\\r\\r\\n\\t\\t\\t\\t\\t\\t\\t<td>055-942-5006</td>\\r\\r\\n\\t\\t\\t\\t\\t\\t\\t<td>북상면 농산리586-1 </td>\\r\\r\\n\\t\\t\\t\\t\\t\\t</tr>\\r\\r\\n\\t\\t\\t\\t\\t\\t<tr>\\r\\r\\n\\t\\t\\t\\t\\t\\t\\t<th scope=\"row\">정편선 </th>\\r\\r\\n\\t\\t\\t\\t\\t\\t\\t<td>010-2855-0806</td>\\r\\r\\n\\t\\t\\t\\t\\t\\t\\t<td>북상면 농산리685-5</td>\\r\\r\\n\\t\\t\\t\\t\\t\\t</tr>\\r\\r\\n\\t\\t\\t\\t\\t\\t<tr>\\r\\r\\n\\t\\t\\t\\t\\t\\t\\t<th scope=\"row\">사선대향토펜션</th>\\r\\r\\n\\t\\t\\t\\t\\t\\t\\t<td>010-3568-4811</td>\\r\\r\\n\\t\\t\\t\\t\\t\\t\\t<td>북상면 월성리1643-6</td>\\r\\r\\n\\t\\t\\t\\t\\t\\t</tr>\\r\\r\\n\\t\\t\\t\\t\\t\\t<tr>\\r\\r\\n\\t\\t\\t\\t\\t\\t\\t<th scope=\"row\">주은자연휴양림</th>\\r\\r\\n\\t\\t\\t\\t\\t\\t\\t<td>055-944-5141</td>\\r\\r\\n\\t\\t\\t\\t\\t\\t\\t<td>북상면 월성리산96-1</td>\\r\\r\\n\\t\\t\\t\\t\\t\\t</tr>\\r\\r\\n\\t\\t\\t\\t\\t\\t<tr>\\r\\r\\n\\t\\t\\t\\t\\t\\t\\t<th scope=\"row\">하늘정원</th>\\r\\r\\n\\t\\t\\t\\t\\t\\t\\t<td>016-523-5267</td>\\r\\r\\n\\t\\t\\t\\t\\t\\t\\t<td>북상면 월성리1602</td>\\r\\r\\n\\t\\t\\t\\t\\t\\t</tr>\\r\\r\\n\\t\\t\\t\\t\\t</tbody>\\r\\r\\n\\t\\t\\t\\t</table>\\r\\r\\n\\t\\t\\t</div>\\r\\r\\n\\t\\t\\t<!-- 주변숙박 -->\\r\\r\\n\\r\\r\\n\\t\\t\\t<!-- 특산품 -->\\r\\r\\n\\t\\t\\t<h5>특산품</h5>\\r\\r\\n\\t\\t\\t<div class=\"edu_detail_txt\">\\r\\r\\n\\t\\t\\t\\t<table class=\"tstyle_list\">\\r\\r\\n\\t\\t\\t\\t\\t<caption>\\r\\r\\n\\t\\t\\t\\t\\t\\t<strong>거창 서출동류의 물줄기와 함께 가는길 특산품을 안내는 표 입니다.</strong>\\r\\r\\n\\t\\t\\t\\t\\t\\t<details>\\r\\r\\n\\t\\t\\t\\t\\t\\t\\t<summary>거창 서출동류의 물줄기와 함께 가는길 특산품 상세안내 각 품명에 따른 전화번호와 판매점을 안내합니다.</summary>\\r\\r\\n\\t\\t\\t\\t\\t\\t</details>\\r\\r\\n\\t\\t\\t\\t\\t</caption>\\r\\r\\n\\t\\t\\t\\t\\t<colgroup>\\r\\r\\n\\t\\t\\t\\t\\t\\t<col style=\"width:20%\">\\r\\r\\n\\t\\t\\t\\t\\t\\t<col style=\"width:20%\">\\r\\r\\n\\t\\t\\t\\t\\t\\t<col>\\r\\r\\n\\t\\t\\t\\t\\t</colgroup>\\r\\r\\n\\t\\t\\t\\t\\t<thead>\\r\\r\\n\\t\\t\\t\\t\\t\\t<tr>\\r\\r\\n\\t\\t\\t\\t\\t\\t\\t<th scope=\"col\">품명</th>\\r\\r\\n\\t\\t\\t\\t\\t\\t\\t<th scope=\"col\">전화번호</th>\\r\\r\\n\\t\\t\\t\\t\\t\\t\\t<th scope=\"col\">판매점</th>\\r\\r\\n\\t\\t\\t\\t\\t\\t</tr>\\r\\r\\n\\t\\t\\t\\t\\t</thead>\\r\\r\\n\\t\\t\\t\\t\\t<tbody>\\r\\r\\n\\t\\t\\t\\t\\t\\t<tr>\\r\\r\\n\\t\\t\\t\\t\\t\\t\\t<th scope=\"row\">못난사과</th>\\r\\r\\n\\t\\t\\t\\t\\t\\t\\t<td>055-942-0668</td>\\r\\r\\n\\t\\t\\t\\t\\t\\t\\t<td>가남운영위원회</td>\\r\\r\\n\\t\\t\\t\\t\\t\\t</tr>\\r\\r\\n\\t\\t\\t\\t\\t\\t<tr>\\r\\r\\n\\t\\t\\t\\t\\t\\t\\t<th scope=\"row\">가조미부인쌀 </th>\\r\\r\\n\\t\\t\\t\\t\\t\\t\\t<td>055-942-9884</td>\\r\\r\\n\\t\\t\\t\\t\\t\\t\\t<td>가조 가북농업협동조합 </td>\\r\\r\\n\\t\\t\\t\\t\\t\\t</tr>\\r\\r\\n\\t\\t\\t\\t\\t\\t<tr>\\r\\r\\n\\t\\t\\t\\t\\t\\t\\t<th scope=\"row\">딸기 </th>\\r\\r\\n\\t\\t\\t\\t\\t\\t\\t<td>055-940-3467</td>\\r\\r\\n\\t\\t\\t\\t\\t\\t\\t<td>거창군청 농정과  </td>\\r\\r\\n\\t\\t\\t\\t\\t\\t</tr>\\r\\r\\n\\t\\t\\t\\t\\t\\t<tr>\\r\\r\\n\\t\\t\\t\\t\\t\\t\\t<th scope=\"row\">녹용  </th>\\r\\r\\n\\t\\t\\t\\t\\t\\t\\t<td>055-940-3840</td>\\r\\r\\n\\t\\t\\t\\t\\t\\t\\t<td>가남작목반  </td>\\r\\r\\n\\t\\t\\t\\t\\t\\t</tr>\\r\\r\\n\\t\\t\\t\\t\\t\\t<tr>\\r\\r\\n\\t\\t\\t\\t\\t\\t\\t<th scope=\"row\">거창화훼 </th>\\r\\r\\n\\t\\t\\t\\t\\t\\t\\t<td>055-942-0446</td>\\r\\r\\n\\t\\t\\t\\t\\t\\t\\t<td>가조원우회영농조합 </td>\\r\\r\\n\\t\\t\\t\\t\\t\\t</tr>\\r\\r\\n\\t\\t\\t\\t\\t\\t<tr>\\r\\r\\n\\t\\t\\t\\t\\t\\t\\t<th scope=\"row\">애우(한우) </th>\\r\\r\\n\\t\\t\\t\\t\\t\\t\\t<td>055-943-9598</td>\\r\\r\\n\\t\\t\\t\\t\\t\\t\\t<td>거창축협   </td>\\r\\r\\n\\t\\t\\t\\t\\t\\t</tr>\\r\\r\\n\\t\\t\\t\\t\\t\\t<tr>\\r\\r\\n\\t\\t\\t\\t\\t\\t\\t<th scope=\"row\">황토삼백초  </th>\\r\\r\\n\\t\\t\\t\\t\\t\\t\\t<td>055-945-0075</td>\\r\\r\\n\\t\\t\\t\\t\\t\\t\\t<td>삼부농산   </td>\\r\\r\\n\\t\\t\\t\\t\\t\\t</tr>\\r\\r\\n\\t\\t\\t\\t\\t\\t<tr>\\r\\r\\n\\t\\t\\t\\t\\t\\t\\t<th scope=\"row\">명주이불솜 </th>\\r\\r\\n\\t\\t\\t\\t\\t\\t\\t<td>055-945-1333</td>\\r\\r\\n\\t\\t\\t\\t\\t\\t\\t<td>효성물산 </td>\\r\\r\\n\\t\\t\\t\\t\\t\\t</tr>\\r\\r\\n\\t\\t\\t\\t\\r\\r\\n\\t\\t\\t\\t\\t</tbody>\\r\\r\\n\\t\\t\\t\\t</table>\\r\\r\\n\\t\\t\\t</div>\\r\\r\\n\\t\\t\\t<!-- 특산품 -->\\r\\r\\n\\r\\r\\n\\t\\t\\t<!-- 재래시장 -->\\r\\r\\n\\t\\t\\t<h5>재래시장</h5>\\r\\r\\n\\t\\t\\t<div class=\"edu_detail_txt\">\\r\\r\\n\\t\\t\\t\\t<table class=\"tstyle_list\">\\r\\r\\n\\t\\t\\t\\t\\t<caption>\\r\\r\\n\\t\\t\\t\\t\\t\\t<strong>거창 서출동류의 물줄기와 함께 가는길 재래시장을 안내는 표 입니다.</strong>\\r\\r\\n\\t\\t\\t\\t\\t\\t<details>\\r\\r\\n\\t\\t\\t\\t\\t\\t\\t<summary>거창 서출동류의 물줄기와 함께 가는길 재래시장 상세안내 거창시장에 따른 전화번호, 주소, 설명을 안내합니다.</summary>\\r\\r\\n\\t\\t\\t\\t\\t\\t</details>\\r\\r\\n\\t\\t\\t\\t\\t</caption>\\r\\r\\n\\t\\t\\t\\t\\t<colgroup>\\r\\r\\n\\t\\t\\t\\t\\t\\t<col style=\"width:20%\">\\r\\r\\n\\t\\t\\t\\t\\t\\t<col style=\"width:20%\">\\r\\r\\n\\t\\t\\t\\t\\t\\t<col>\\r\\r\\n\\t\\t\\t\\t\\t\\t<col>\\r\\r\\n\\t\\t\\t\\t\\t</colgroup>\\r\\r\\n\\t\\t\\t\\t\\t<thead>\\r\\r\\n\\t\\t\\t\\t\\t\\t<tr>\\r\\r\\n\\t\\t\\t\\t\\t\\t\\t<th scope=\"col\">시장명</th>\\r\\r\\n\\t\\t\\t\\t\\t\\t\\t<th scope=\"col\">전화번호</th>\\r\\r\\n\\t\\t\\t\\t\\t\\t\\t<th scope=\"col\">주소</th>\\r\\r\\n\\t\\t\\t\\t\\t\\t\\t<th scope=\"col\">설명</th>\\r\\r\\n\\t\\t\\t\\t\\t\\t</tr>\\r\\r\\n\\t\\t\\t\\t\\t</thead>\\r\\r\\n\\t\\t\\t\\t\\t<tbody>\\r\\r\\n\\t\\t\\t\\t\\t\\t<tr>\\r\\r\\n\\t\\t\\t\\t\\t\\t\\t<th scope=\"row\">거창시장</th>\\r\\r\\n\\t\\t\\t\\t\\t\\t\\t<td>055-934-2581</td>\\r\\r\\n\\t\\t\\t\\t\\t\\t\\t<td>경상남도 거창군 거창읍 중앙리 122-1 </td>\\r\\r\\n\\t\\t\\t\\t\\t\\t\\t<td>1982년 개설된 상가건물형의 중형시장으로 장날은 매월 1일, 6일.</td>\\r\\r\\n\\t\\t\\t\\t\\t\\t</tr>\\r\\r\\n\\t\\t\\t\\t\\t\\r\\r\\n\\t\\t\\t\\t\\t</tbody>\\r\\r\\n\\t\\t\\t\\t</table>\\r\\r\\n\\t\\t\\t</div>\\r\\r\\n\\t\\t\\t<!-- 재래시장 -->\\r\\r\\n\\r\\r\\n\\t\\t\\t<!-- 축제/행사 -->\\r\\r\\n\\t\\t\\t<h5>축제/행사</h5>\\r\\r\\n\\t\\t\\t<div class=\"edu_detail_txt\">\\r\\r\\n\\t\\t\\t\\t<table class=\"tstyle_list\">\\r\\r\\n\\t\\t\\t\\t\\t<caption>\\r\\r\\n\\t\\t\\t\\t\\t\\t<strong>거창 서출동류의 물줄기와 함께 가는길 축제/행사을 안내는 표 입니다.</strong>\\r\\r\\n\\t\\t\\t\\t\\t\\t<details>\\r\\r\\n\\t\\t\\t\\t\\t\\t\\t<summary>거창 서출동류의 물줄기와 함께 가는길 축제/행사 상세안내 각 축제명에 따른 축제기간, 장소, 홈페이지링크를 안내합니다.</summary>\\r\\r\\n\\t\\t\\t\\t\\t\\t</details>\\r\\r\\n\\t\\t\\t\\t\\t</caption>\\r\\r\\n\\t\\t\\t\\t\\t<colgroup>\\r\\r\\n\\t\\t\\t\\t\\t\\t<col style=\"width:20%\">\\r\\r\\n\\t\\t\\t\\t\\t\\t<col style=\"width:20%\">\\r\\r\\n\\t\\t\\t\\t\\t\\t<col>\\r\\r\\n\\t\\t\\t\\t\\t\\t<col>\\r\\r\\n\\t\\t\\t\\t\\t</colgroup>\\r\\r\\n\\t\\t\\t\\t\\t<thead>\\r\\r\\n\\t\\t\\t\\t\\t\\t<tr>\\r\\r\\n\\t\\t\\t\\t\\t\\t\\t<th scope=\"col\">축제명</th>\\r\\r\\n\\t\\t\\t\\t\\t\\t\\t<th scope=\"col\">축제기간</th>\\r\\r\\n\\t\\t\\t\\t\\t\\t\\t<th scope=\"col\">장소</th>\\r\\r\\n\\t\\t\\t\\t\\t\\t\\t<th scope=\"col\">홈페이지</th>\\r\\r\\n\\t\\t\\t\\t\\t\\t</tr>\\r\\r\\n\\t\\t\\t\\t\\t</thead>\\r\\r\\n\\t\\t\\t\\t\\t<tbody>\\r\\r\\n\\t\\t\\t\\t\\t\\t<tr>\\r\\r\\n\\t\\t\\t\\t\\t\\t\\t<th scope=\"row\">거창사과마라톤대회</th>\\r\\r\\n\\t\\t\\t\\t\\t\\t\\t<td>10월중 </td>\\r\\r\\n\\t\\t\\t\\t\\t\\t\\t<td>경남 거창군 거창스포츠파크 주경기장</td>\\r\\r\\n\\t\\t\\t\\t\\t\\t\\t<td><a href=\"http://www.gafmarathon.com/\" target=\"_blank\" title=\"거창사과마라톤대회 새창열림\"> 홈페이지 바로가기</a></td>\\r\\r\\n\\t\\t\\t\\t\\t\\t</tr>\\r\\r\\n\\t\\t\\t\\t\\t\\t<tr>\\r\\r\\n\\t\\t\\t\\t\\t\\t\\t<th scope=\"row\">거창국제연극제</th>\\r\\r\\n\\t\\t\\t\\t\\t\\t\\t<td>7월~8월중 </td>\\r\\r\\n\\t\\t\\t\\t\\t\\t\\t<td>경남 거창군 수승대 일원 야외극장 등</td>\\r\\r\\n\\t\\t\\t\\t\\t\\t\\t<td><a href=\"http://www.kift.or.kr/\" target=\"_blank\" title=\"거창국제연극제 새창열림\"> 홈페이지 바로가기</a></td>\\r\\r\\n\\t\\t\\t\\t\\t\\t</tr>\\r\\r\\n\\t\\t\\t\\t\\t\\t<tr>\\r\\r\\n\\t\\t\\t\\t\\t\\t\\t<th scope=\"row\">거창덕유산하늘마을고로쇠축제</th>\\r\\r\\n\\t\\t\\t\\t\\t\\t\\t<td>3월중</td>\\r\\r\\n\\t\\t\\t\\t\\t\\t\\t<td>경남 거창군 북상초등학교</td>\\r\\r\\n\\t\\t\\t\\t\\t\\t\\t<td><a href=\"http://www.gorosoe.or.kr/\" target=\"_blank\" title=\"거창덕유산하늘마을고로쇠축제 새창열림\"> 홈페이지 바로가기</a></td>\\r\\r\\n\\t\\t\\t\\t\\t\\t</tr>\\r\\r\\n\\t\\t\\t\\t\\t\\t<tr>\\r\\r\\n\\t\\t\\t\\t\\t\\t\\t<th scope=\"row\">금원산고로쇠축제</th>\\r\\r\\n\\t\\t\\t\\t\\t\\t\\t<td>3월중</td>\\r\\r\\n\\t\\t\\t\\t\\t\\t\\t<td>경남 거창군 금원산자연휴양림</td>\\r\\r\\n\\t\\t\\t\\t\\t\\t\\t<td><a href=\"http://www.greencamp.go.kr/Board/BoardRead.asp?bid=Board_Notice&amp;no=47\" target=\"_blank\" title=\"금원산고로쇠축제 새창열림\"> 홈페이지 바로가기</a></td>\\r\\r\\n\\t\\t\\t\\t\\t\\t</tr>\\r\\r\\n\\t\\t\\t\\t\\t</tbody>\\r\\r\\n\\t\\t\\t\\t</table>\\r\\r\\n\\t\\t\\t</div>\\r\\r\\n\\t\\t\\t<!-- 축제/행사 -->',\n",
              "    'data_title': '거창 서출동류의 물줄기와 함께 가는길',\n",
              "    'fileurl1': 'https://www.gyeongnam.go.kr/upload_data/board_data/BBS_0002006/24_01.jpg',\n",
              "    'fileurl2': 'https://www.gyeongnam.go.kr/upload_data/board_data/BBS_0002006/24_02.jpg',\n",
              "    'fileurl3': 'https://www.gyeongnam.go.kr/upload_data/board_data/BBS_0002006/24_03.jpg',\n",
              "    'fileurl4': 'https://www.gyeongnam.go.kr/upload_data/board_data/BBS_0002006/24_04.jpg',\n",
              "    'fileurl5': 'https://www.gyeongnam.go.kr/upload_data/board_data/BBS_0002006/24_06.jpg',\n",
              "    'insttnm': '거창 관광안내소 : 거창읍 대평리 1298-1 T. 055-944-5599 \\r\\r\\n거창군 문화관광과 : 거창읍 중앙로 103 T. 055-940-3420',\n",
              "    'roadlength': '약 11km',\n",
              "    'roadroute': '북상면사무소 -> 숲옛마을 -> 민들레올 -> 분설담 -> 주은자연휴양림 -> 사선대 -> 북상면 황점마을',\n",
              "    'roadtime': '약 3~4시간',\n",
              "    'traffic': '대중교통 : 거창시내버스터미널 위천. 북상방면 버스이용\\r\\r\\n자동차 : 88고속도로 --> 거창IC --> 3번국도 마리방향 --> 위천(수승대) --> 북상면 사무소',\n",
              "    'videoinfo': '덕유산 삿갓골 샘에서 발원한 물줄기가 이색적이게도 서쪽에서 동쪽으로 굽이치는 곳, 거창 서출동류 물줄기와 함께하는 길로 떠나볼까요? 길의 중심에는 해발 600미터, 달빛과 별빛마저 마을로 내려온다는 월성마을이 자리하고 있는데요. 마을 품 안으로는 거창의 소금강이라고 불리는 월성계곡이 관통하고 있어, 자연 속으로 더욱 깊이 다가갈 수 있습니다. 그 옛날, 화가들의 걸음을 멈추게 했던 절경은 지금도 변함없이 방문객들의 시선을 붙드는데요. 계곡 마디마디마다 신선이 노닐다 갔다는 전설이 풍성하게 흘러 넘칠 만큼, 빼어난 풍광을 자랑합니다. 특히, 너럭바위가 인상적인 사선대는 신선이 바둑을 두었다고 할 만큼 신비함과 호젓함을 동시에 품고 있는 최고의 명소인데요. (물 흐르는 모양이 마치 눈이 흩날리는 모습 같다 해서 이름 붙여진 분설담, 그 위쪽으로 당당한 위풍의 장군바위도 방문객들을 반깁니다.) 자연이 빚고, 신선이 노닐었던, 이제는 사람의 발길을 기다리는 곳. 거창 서출동류의 물줄기와 함께 하는 길에서, 깊고 진한 휴식을 맛보세요.',\n",
              "    'videourl': 'https://www.youtube.com/embed/sgWqB2K9H1c',\n",
              "    'view_count': 607}],\n",
              "  'numOfRows': 4,\n",
              "  'pageNo': 4,\n",
              "  'totalCount': 28}}"
            ]
          },
          "metadata": {},
          "execution_count": 7
        }
      ]
    },
    {
      "cell_type": "code",
      "source": [
        "print(type(r))"
      ],
      "metadata": {
        "colab": {
          "base_uri": "https://localhost:8080/"
        },
        "id": "te-JCrRo2HZ4",
        "outputId": "d8b45d07-32fa-4a9f-b897-c623105a01b0"
      },
      "execution_count": 9,
      "outputs": [
        {
          "output_type": "stream",
          "name": "stdout",
          "text": [
            "<class 'dict'>\n"
          ]
        }
      ]
    },
    {
      "cell_type": "code",
      "source": [
        "items = r['gyeongnamwalklikeroadlist']['item']\n",
        "items"
      ],
      "metadata": {
        "colab": {
          "base_uri": "https://localhost:8080/"
        },
        "id": "mGBj8fdA2Oaq",
        "outputId": "b36fe57c-c06b-42b8-e24c-03b63d9fa1cd"
      },
      "execution_count": 13,
      "outputs": [
        {
          "output_type": "execute_result",
          "data": {
            "text/plain": [
              "[{'category_name1': '합천군',\n",
              "  'courseinfo': '홍류동 계곡의 비경과 자연의 숨소리를 들으며 소리길을 느껴보세요. \\r\\r\\n‘해인사 소리길’은 홍류동 계곡을 따라 만들어진 저지대 수평탐방로로 누구나 쉽게 이용할 수 있으며, 가야산의 자연과역사·문화를 쉽고 재미있게 체험할 수 있도록 자연관찰로가 조성되어 있습니다.',\n",
              "  'data_content': '<!-- 관광지정보 -->\\r\\r\\n\\t\\t\\t<h5>관광지정보</h5>\\r\\r\\n\\t\\t\\t<div class=\"edu_detail_txt\">\\r\\r\\n\\t\\t\\t\\t<table class=\"tstyle_list\">\\r\\r\\n\\t\\t\\t\\t\\t<caption>\\r\\r\\n\\t\\t\\t\\t\\t\\t<strong>합천 해인사 소리길 관광지정보을 안내는 표 입니다.</strong>\\r\\r\\n\\t\\t\\t\\t\\t\\t<details>\\r\\r\\n\\t\\t\\t\\t\\t\\t\\t<summary>합천 해인사 소리길 관광지정보 상세안내 각관광지명에 대한 내용을 안내합니다.</summary>\\r\\r\\n\\t\\t\\t\\t\\t\\t</details>\\r\\r\\n\\t\\t\\t\\t\\t</caption>\\r\\r\\n\\t\\t\\t\\t\\t<colgroup>\\r\\r\\n\\t\\t\\t\\t\\t\\t<col style=\"width:30%\">\\r\\r\\n\\t\\t\\t\\t\\t\\t<col style=\"width:70%\">\\r\\r\\n\\t\\t\\t\\t\\t</colgroup>\\r\\r\\n\\t\\t\\t\\t\\t<thead>\\r\\r\\n\\t\\t\\t\\t\\t\\t<tr>\\r\\r\\n\\t\\t\\t\\t\\t\\t\\t<th scope=\"col\">관광지명</th>\\r\\r\\n\\t\\t\\t\\t\\t\\t\\t<th scope=\"col\">내용</th>\\r\\r\\n\\t\\t\\t\\t\\t\\t</tr>\\r\\r\\n\\t\\t\\t\\t\\t</thead>\\r\\r\\n\\t\\t\\t\\t\\t<tbody>\\r\\r\\n\\t\\t\\t\\t\\t\\t<tr>\\r\\r\\n\\t\\t\\t\\t\\t\\t\\t<th scope=\"row\">홍류동계곡 </th>\\r\\r\\n\\t\\t\\t\\t\\t\\t\\t<td>홍류동 계곡은 합천8경중 제3경으로 주요문화재 자료인 농산정과 낙화담, 분옥폭포 등 가야산 19명소가 있으며, 특히 농산정 맞은편에는 암각된 최치원선생의 친필을 복 수 있어 더욱유명하다. </td>\\r\\r\\n\\t\\t\\t\\t\\t\\t</tr>\\r\\r\\n\\t\\t\\t\\t\\t\\t<tr>\\r\\r\\n\\t\\t\\t\\t\\t\\t\\t<th scope=\"row\">가야산</th>\\r\\r\\n\\t\\t\\t\\t\\t\\t\\t<td>조선8경의 하나로 주봉인 상왕봉(1,430m)을 중심으로 톱날 같은 암봉인 두리봉, 남산, 비계산,북두산 등 해발 1,000m가 넘는 고봉들이 마치병풍을 친듯 이어져 있으며 남북으로 경상남도합천군과 경상북도 성주군의 경계를 이룬다. </td>\\r\\r\\n\\t\\t\\t\\t\\t\\t</tr>\\r\\r\\n\\t\\t\\t\\t\\t</tbody>\\r\\r\\n\\t\\t\\t\\t</table>\\r\\r\\n\\t\\t\\t</div>\\r\\r\\n\\t\\t\\t<!-- 관광지정보 -->\\r\\r\\n\\r\\r\\n\\t\\t\\t<!-- 주변맛집 -->\\r\\r\\n\\t\\t\\t<h5>주변맛집</h5>\\r\\r\\n\\t\\t\\t<div class=\"edu_detail_txt\">\\r\\r\\n\\t\\t\\t\\t<table class=\"tstyle_list\">\\r\\r\\n\\t\\t\\t\\t\\t<caption>\\r\\r\\n\\t\\t\\t\\t\\t\\t<strong>합천 해인사 소리길 주변맛집을 안내는 표 입니다.</strong>\\r\\r\\n\\t\\t\\t\\t\\t\\t<details>\\r\\r\\n\\t\\t\\t\\t\\t\\t\\t<summary>합천 해인사 소리길 주변맛집 상세안내 각상호명에 대한 전화번호, 주소를 안내합니다.</summary>\\r\\r\\n\\t\\t\\t\\t\\t\\t</details>\\r\\r\\n\\t\\t\\t\\t\\t</caption>\\r\\r\\n\\t\\t\\t\\t\\t<colgroup>\\r\\r\\n\\t\\t\\t\\t\\t\\t<col style=\"width:20%\">\\r\\r\\n\\t\\t\\t\\t\\t\\t<col style=\"width:20%\">\\r\\r\\n\\t\\t\\t\\t\\t\\t<col>\\r\\r\\n\\t\\t\\t\\t\\t</colgroup>\\r\\r\\n\\t\\t\\t\\t\\t<thead>\\r\\r\\n\\t\\t\\t\\t\\t\\t<tr>\\r\\r\\n\\t\\t\\t\\t\\t\\t\\t<th scope=\"col\">상호명</th>\\r\\r\\n\\t\\t\\t\\t\\t\\t\\t<th scope=\"col\">전화번호</th>\\r\\r\\n\\t\\t\\t\\t\\t\\t\\t<th scope=\"col\">주소</th>\\r\\r\\n\\t\\t\\t\\t\\t\\t</tr>\\r\\r\\n\\t\\t\\t\\t\\t</thead>\\r\\r\\n\\t\\t\\t\\t\\t<tbody>\\r\\r\\n\\t\\t\\t\\t\\t\\t<tr>\\r\\r\\n\\t\\t\\t\\t\\t\\t\\t<th scope=\"row\">삼일식당(송이정식)</th>\\r\\r\\n\\t\\t\\t\\t\\t\\t\\t<td>055-932-7254</td>\\r\\r\\n\\t\\t\\t\\t\\t\\t\\t<td>가야면 치인리 10</td>\\r\\r\\n\\t\\t\\t\\t\\t\\t</tr>\\r\\r\\n\\t\\t\\t\\t\\t\\t<tr>\\r\\r\\n\\t\\t\\t\\t\\t\\t\\t<th scope=\"row\">고바우식당(산채한정식)</th>\\r\\r\\n\\t\\t\\t\\t\\t\\t\\t<td>055-931-7311</td>\\r\\r\\n\\t\\t\\t\\t\\t\\t\\t<td>가야면 치인리 1230</td>\\r\\r\\n\\t\\t\\t\\t\\t\\t</tr>\\r\\r\\n\\t\\t\\t\\t\\t\\t<tr>\\r\\r\\n\\t\\t\\t\\t\\t\\t\\t<th scope=\"row\">합천명품토종흑돼지</th>\\r\\r\\n\\t\\t\\t\\t\\t\\t\\t<td>055-932-6055</td>\\r\\r\\n\\t\\t\\t\\t\\t\\t\\t<td>가야면 야천리 465-4</td>\\r\\r\\n\\t\\t\\t\\t\\t\\t</tr>\\r\\r\\n\\t\\t\\t\\t\\t\\t<tr>\\r\\r\\n\\t\\t\\t\\t\\t\\t\\t<th scope=\"row\">백운식당(대장경밥상)</th>\\r\\r\\n\\t\\t\\t\\t\\t\\t\\t<td>055-932-7393</td>\\r\\r\\n\\t\\t\\t\\t\\t\\t\\t<td>가야면 치인리 1230</td>\\r\\r\\n\\t\\t\\t\\t\\t\\t</tr>\\r\\r\\n\\t\\t\\t\\t\\t\\t<tr>\\r\\r\\n\\t\\t\\t\\t\\t\\t\\t<th scope=\"row\">해인식당(대장경밥상)</th>\\r\\r\\n\\t\\t\\t\\t\\t\\t\\t<td>055-933-1117</td>\\r\\r\\n\\t\\t\\t\\t\\t\\t\\t<td>가야면 구원리 104-1</td>\\r\\r\\n\\t\\t\\t\\t\\t\\t</tr>\\r\\r\\n\\t\\t\\t\\t\\t</tbody>\\r\\r\\n\\t\\t\\t\\t</table>\\r\\r\\n\\t\\t\\t</div>\\r\\r\\n\\t\\t\\t<!-- 주변맛집 -->\\r\\r\\n\\r\\r\\n\\t\\t\\t<!-- 주변숙박 -->\\r\\r\\n\\t\\t\\t<h5>주변숙박</h5>\\r\\r\\n\\t\\t\\t<div class=\"edu_detail_txt\">\\r\\r\\n\\t\\t\\t\\t<table class=\"tstyle_list\">\\r\\r\\n\\t\\t\\t\\t\\t<caption>\\r\\r\\n\\t\\t\\t\\t\\t\\t<strong>합천 해인사 소리길 주변숙박을 안내는 표 입니다.</strong>\\r\\r\\n\\t\\t\\t\\t\\t\\t<details>\\r\\r\\n\\t\\t\\t\\t\\t\\t\\t<summary>합천 해인사 소리길 주변숙박 상세안내 각상호명에 대한 전화번호, 주소를 안내합니다.</summary>\\r\\r\\n\\t\\t\\t\\t\\t\\t</details>\\r\\r\\n\\t\\t\\t\\t\\t</caption>\\r\\r\\n\\t\\t\\t\\t\\t<colgroup>\\r\\r\\n\\t\\t\\t\\t\\t\\t<col style=\"width:20%\">\\r\\r\\n\\t\\t\\t\\t\\t\\t<col style=\"width:20%\">\\r\\r\\n\\t\\t\\t\\t\\t\\t<col>\\r\\r\\n\\t\\t\\t\\t\\t</colgroup>\\r\\r\\n\\t\\t\\t\\t\\t<thead>\\r\\r\\n\\t\\t\\t\\t\\t\\t<tr>\\r\\r\\n\\t\\t\\t\\t\\t\\t\\t<th scope=\"col\">상호명</th>\\r\\r\\n\\t\\t\\t\\t\\t\\t\\t<th scope=\"col\">전화번호</th>\\r\\r\\n\\t\\t\\t\\t\\t\\t\\t<th scope=\"col\">주소</th>\\r\\r\\n\\t\\t\\t\\t\\t\\t</tr>\\r\\r\\n\\t\\t\\t\\t\\t</thead>\\r\\r\\n\\t\\t\\t\\t\\t<tbody>\\r\\r\\n\\t\\t\\t\\t\\t\\t<tr>\\r\\r\\n\\t\\t\\t\\t\\t\\t\\t<th scope=\"row\">해인관광호텔</th>\\r\\r\\n\\t\\t\\t\\t\\t\\t\\t<td>055-933-2000</td>\\r\\r\\n\\t\\t\\t\\t\\t\\t\\t<td>가야면 치인리 1230-112</td>\\r\\r\\n\\t\\t\\t\\t\\t\\t</tr>\\r\\r\\n\\t\\t\\t\\t\\t\\t<tr>\\r\\r\\n\\t\\t\\t\\t\\t\\t\\t<th scope=\"row\">산장별장여관</th>\\r\\r\\n\\t\\t\\t\\t\\t\\t\\t<td>055-932-7245</td>\\r\\r\\n\\t\\t\\t\\t\\t\\t\\t<td>가야면 치인리 1230-87</td>\\r\\r\\n\\t\\t\\t\\t\\t\\t</tr>\\r\\r\\n\\t\\t\\t\\t\\t\\t\\r\\r\\n\\t\\t\\t\\t\\t</tbody>\\r\\r\\n\\t\\t\\t\\t</table>\\r\\r\\n\\t\\t\\t</div>\\r\\r\\n\\t\\t\\t<!-- 주변숙박 -->\\r\\r\\n\\r\\r\\n\\t\\t\\t<!-- 특산품 -->\\r\\r\\n\\t\\t\\t<h5>특산품</h5>\\r\\r\\n\\t\\t\\t<div class=\"edu_detail_txt\">\\r\\r\\n\\t\\t\\t\\t<table class=\"tstyle_list\">\\r\\r\\n\\t\\t\\t\\t\\t<caption>\\r\\r\\n\\t\\t\\t\\t\\t\\t<strong>합천 해인사 소리길 특산품을 안내는 표 입니다.</strong>\\r\\r\\n\\t\\t\\t\\t\\t\\t<details>\\r\\r\\n\\t\\t\\t\\t\\t\\t\\t<summary>합천 해인사 소리길 특산품 상세안내 각품명에 대한 전화번호, 판매점을 안내합니다.</summary>\\r\\r\\n\\t\\t\\t\\t\\t\\t</details>\\r\\r\\n\\t\\t\\t\\t\\t</caption>\\r\\r\\n\\t\\t\\t\\t\\t<colgroup>\\r\\r\\n\\t\\t\\t\\t\\t\\t<col style=\"width:20%\">\\r\\r\\n\\t\\t\\t\\t\\t\\t<col style=\"width:20%\">\\r\\r\\n\\t\\t\\t\\t\\t\\t<col>\\r\\r\\n\\t\\t\\t\\t\\t</colgroup>\\r\\r\\n\\t\\t\\t\\t\\t<thead>\\r\\r\\n\\t\\t\\t\\t\\t\\t<tr>\\r\\r\\n\\t\\t\\t\\t\\t\\t\\t<th scope=\"col\">품명</th>\\r\\r\\n\\t\\t\\t\\t\\t\\t\\t<th scope=\"col\">전화번호</th>\\r\\r\\n\\t\\t\\t\\t\\t\\t\\t<th scope=\"col\">판매점</th>\\r\\r\\n\\t\\t\\t\\t\\t\\t</tr>\\r\\r\\n\\t\\t\\t\\t\\t</thead>\\r\\r\\n\\t\\t\\t\\t\\t<tbody>\\r\\r\\n\\t\\t\\t\\t\\t\\t<tr>\\r\\r\\n\\t\\t\\t\\t\\t\\t\\t<th scope=\"row\">합천파프리카 </th>\\r\\r\\n\\t\\t\\t\\t\\t\\t\\t<td>011-550-1663</td>\\r\\r\\n\\t\\t\\t\\t\\t\\t\\t<td>가야산제일청정농장  </td>\\r\\r\\n\\t\\t\\t\\t\\t\\t</tr>\\r\\r\\n\\t\\t\\t\\t\\t\\t<tr>\\r\\r\\n\\t\\t\\t\\t\\t\\t\\t<th scope=\"row\">왕우렁이쌀    </th>\\r\\r\\n\\t\\t\\t\\t\\t\\t\\t<td>011-550-8798</td>\\r\\r\\n\\t\\t\\t\\t\\t\\t\\t<td>가야농협    </td>\\r\\r\\n\\t\\t\\t\\t\\t\\t</tr>\\r\\r\\n\\t\\t\\t\\t\\t\\t<tr>\\r\\r\\n\\t\\t\\t\\t\\t\\t\\t<th scope=\"row\">전통누비</th>\\r\\r\\n\\t\\t\\t\\t\\t\\t\\t<td>017-585-0460</td>\\r\\r\\n\\t\\t\\t\\t\\t\\t\\t<td>합천전통누비</td>\\r\\r\\n\\t\\t\\t\\t\\t\\t</tr>\\r\\r\\n\\t\\t\\t\\t\\t\\t<tr>\\r\\r\\n\\t\\t\\t\\t\\t\\t\\t<th scope=\"row\">세척안심딸기 </th>\\r\\r\\n\\t\\t\\t\\t\\t\\t\\t<td>055-933-2195</td>\\r\\r\\n\\t\\t\\t\\t\\t\\t\\t<td>농업협동조합합천군지부 </td>\\r\\r\\n\\t\\t\\t\\t\\t\\t</tr>\\r\\r\\n\\t\\t\\t\\t\\t\\t<tr>\\r\\r\\n\\t\\t\\t\\t\\t\\t\\t<th scope=\"row\">사포닌매실 </th>\\r\\r\\n\\t\\t\\t\\t\\t\\t\\t<td>055-930-3674</td>\\r\\r\\n\\t\\t\\t\\t\\t\\t\\t<td>류진농원 </td>\\r\\r\\n\\t\\t\\t\\t\\t\\t</tr>\\r\\r\\n\\t\\t\\t\\t\\t\\t<tr>\\r\\r\\n\\t\\t\\t\\t\\t\\t\\t<th scope=\"row\">왕골돗자리 </th>\\r\\r\\n\\t\\t\\t\\t\\t\\t\\t<td>011-813-0044 </td>\\r\\r\\n\\t\\t\\t\\t\\t\\t\\t<td>합천쌍책돗자리 </td>\\r\\r\\n\\t\\t\\t\\t\\t\\t</tr>\\r\\r\\n\\t\\t\\t\\t\\t\\t<tr>\\r\\r\\n\\t\\t\\t\\t\\t\\t\\t<th scope=\"row\">가야산뽕잎차 </th>\\r\\r\\n\\t\\t\\t\\t\\t\\t\\t<td>055-932-7387</td>\\r\\r\\n\\t\\t\\t\\t\\t\\t\\t<td>해인특산물농장  </td>\\r\\r\\n\\t\\t\\t\\t\\t\\t</tr>\\r\\r\\n\\t\\t\\t\\t\\t\\t<tr>\\r\\r\\n\\t\\t\\t\\t\\t\\t\\t<th scope=\"row\">지리산영지버섯 </th>\\r\\r\\n\\t\\t\\t\\t\\t\\t\\t<td>055-932-7387</td>\\r\\r\\n\\t\\t\\t\\t\\t\\t\\t<td>해인특산물농장 </td>\\r\\r\\n\\t\\t\\t\\t\\t\\t</tr>\\r\\r\\n\\t\\t\\t\\t\\t\\t<tr>\\r\\r\\n\\t\\t\\t\\t\\t\\t\\t<th scope=\"row\">합천황토한우   </th>\\r\\r\\n\\t\\t\\t\\t\\t\\t\\t<td>055-930-0056</td>\\r\\r\\n\\t\\t\\t\\t\\t\\t\\t<td>합천축협 </td>\\r\\r\\n\\t\\t\\t\\t\\t\\t</tr>\\r\\r\\n\\t\\t\\t\\t\\t\\t\\r\\r\\n\\t\\t\\t\\t\\t</tbody>\\r\\r\\n\\t\\t\\t\\t</table>\\r\\r\\n\\t\\t\\t</div>\\r\\r\\n\\t\\t\\t<!-- 특산품 -->\\r\\r\\n\\r\\r\\n\\t\\t\\t<!-- 재래시장 -->\\r\\r\\n\\t\\t\\t<h5>재래시장</h5>\\r\\r\\n\\t\\t\\t<div class=\"edu_detail_txt\">\\r\\r\\n\\t\\t\\t\\t<table class=\"tstyle_list\">\\r\\r\\n\\t\\t\\t\\t\\t<caption>\\r\\r\\n\\t\\t\\t\\t\\t\\t<strong>합천 해인사 소리길 재래시장을 안내는 표 입니다.</strong>\\r\\r\\n\\t\\t\\t\\t\\t\\t<details>\\r\\r\\n\\t\\t\\t\\t\\t\\t\\t<summary>합천 해인사 소리길 재래시장 상세안내 각시장에 대한 전화번호, 주소, 설명을 안내합니다.</summary>\\r\\r\\n\\t\\t\\t\\t\\t\\t</details>\\r\\r\\n\\t\\t\\t\\t\\t</caption>\\r\\r\\n\\t\\t\\t\\t\\t<colgroup>\\r\\r\\n\\t\\t\\t\\t\\t\\t<col style=\"width:20%\">\\r\\r\\n\\t\\t\\t\\t\\t\\t<col style=\"width:20%\">\\r\\r\\n\\t\\t\\t\\t\\t\\t<col>\\r\\r\\n\\t\\t\\t\\t\\t\\t<col>\\r\\r\\n\\t\\t\\t\\t\\t</colgroup>\\r\\r\\n\\t\\t\\t\\t\\t<thead>\\r\\r\\n\\t\\t\\t\\t\\t\\t<tr>\\r\\r\\n\\t\\t\\t\\t\\t\\t\\t<th scope=\"col\">시장명</th>\\r\\r\\n\\t\\t\\t\\t\\t\\t\\t<th scope=\"col\">전화번호</th>\\r\\r\\n\\t\\t\\t\\t\\t\\t\\t<th scope=\"col\">주소</th>\\r\\r\\n\\t\\t\\t\\t\\t\\t\\t<th scope=\"col\">설명</th>\\r\\r\\n\\t\\t\\t\\t\\t\\t</tr>\\r\\r\\n\\t\\t\\t\\t\\t</thead>\\r\\r\\n\\t\\t\\t\\t\\t<tbody>\\r\\r\\n\\t\\t\\t\\t\\t\\t<tr>\\r\\r\\n\\t\\t\\t\\t\\t\\t\\t<th scope=\"row\">합천시장</th>\\r\\r\\n\\t\\t\\t\\t\\t\\t\\t<td>055-932-0063</td>\\r\\r\\n\\t\\t\\t\\t\\t\\t\\t<td>경상남도 합천군 합천읍 합천리 473-1</td>\\r\\r\\n\\t\\t\\t\\t\\t\\t\\t<td>1985년 개설된 상가건물형의 중형시장으로 장날은 매월 3일, 8일 </td>\\r\\r\\n\\t\\t\\t\\t\\t\\t</tr>\\r\\r\\n\\t\\t\\t\\t\\t\\r\\r\\n\\t\\t\\t\\t\\t</tbody>\\r\\r\\n\\t\\t\\t\\t</table>\\r\\r\\n\\t\\t\\t</div>\\r\\r\\n\\t\\t\\t<!-- 재래시장 -->\\r\\r\\n\\r\\r\\n\\t\\t\\t<!-- 축제/행사 -->\\r\\r\\n\\t\\t\\t<h5>축제/행사</h5>\\r\\r\\n\\t\\t\\t<div class=\"edu_detail_txt\">\\r\\r\\n\\t\\t\\t\\t<table class=\"tstyle_list\">\\r\\r\\n\\t\\t\\t\\t\\t<caption>\\r\\r\\n\\t\\t\\t\\t\\t\\t<strong>합천 해인사 소리길  축제/행사을 안내는 표 입니다.</strong>\\r\\r\\n\\t\\t\\t\\t\\t\\t<details>\\r\\r\\n\\t\\t\\t\\t\\t\\t\\t<summary>합천 해인사 소리길  축제/행사 상세안내 각 축제명에 대한 축제기간, 장소, 홈페이지 링크를 안내 하고 있습니다.</summary>\\r\\r\\n\\t\\t\\t\\t\\t\\t</details>\\r\\r\\n\\t\\t\\t\\t\\t</caption>\\r\\r\\n\\t\\t\\t\\t\\t<colgroup>\\r\\r\\n\\t\\t\\t\\t\\t\\t<col style=\"width:20%\">\\r\\r\\n\\t\\t\\t\\t\\t\\t<col style=\"width:20%\">\\r\\r\\n\\t\\t\\t\\t\\t\\t<col>\\r\\r\\n\\t\\t\\t\\t\\t\\t<col>\\r\\r\\n\\t\\t\\t\\t\\t</colgroup>\\r\\r\\n\\t\\t\\t\\t\\t<thead>\\r\\r\\n\\t\\t\\t\\t\\t\\t<tr>\\r\\r\\n\\t\\t\\t\\t\\t\\t\\t<th scope=\"col\">축제명</th>\\r\\r\\n\\t\\t\\t\\t\\t\\t\\t<th scope=\"col\">축제기간</th>\\r\\r\\n\\t\\t\\t\\t\\t\\t\\t<th scope=\"col\">장소</th>\\r\\r\\n\\t\\t\\t\\t\\t\\t\\t<th scope=\"col\">홈페이지</th>\\r\\r\\n\\t\\t\\t\\t\\t\\t</tr>\\r\\r\\n\\t\\t\\t\\t\\t</thead>\\r\\r\\n\\t\\t\\t\\t\\t<tbody>\\r\\r\\n\\t\\t\\t\\t\\t\\t<tr>\\r\\r\\n\\t\\t\\t\\t\\t\\t\\t<th scope=\"row\">대장경 천년 세계문화축전</th>\\r\\r\\n\\t\\t\\t\\t\\t\\t\\t<td>9월~11월중 </td>\\r\\r\\n\\t\\t\\t\\t\\t\\t\\t<td>경남 합천군 해인사 등</td>\\r\\r\\n\\t\\t\\t\\t\\t\\t\\t<td><a href=\"http://culture.hc.go.kr/sub/04_01.jsp\" target=\"_blank\" title=\"대장경 천년 세계문화축전 새창열림\"> 홈페이지 바로가기</a></td>\\r\\r\\n\\t\\t\\t\\t\\t\\t</tr>\\r\\r\\n\\t\\t\\t\\t\\t\\t<tr>\\r\\r\\n\\t\\t\\t\\t\\t\\t\\t<th scope=\"row\">합천 군민의날 및 대야문화제</th>\\r\\r\\n\\t\\t\\t\\t\\t\\t\\t<td>10월중 </td>\\r\\r\\n\\t\\t\\t\\t\\t\\t\\t<td>경남 합천군 합천군민운동장 등</td>\\r\\r\\n\\t\\t\\t\\t\\t\\t\\t<td><a href=\"http://culture.hc.go.kr/sub/04_05.jsp\" target=\"_blank\" title=\"합천 군민의날 및 대야문화제 새창열림\"> 홈페이지 바로가기</a></td>\\r\\r\\n\\t\\t\\t\\t\\t\\t</tr>\\r\\r\\n\\t\\t\\t\\t\\t\\t<tr>\\r\\r\\n\\t\\t\\t\\t\\t\\t\\t<th scope=\"row\">황강레포츠축제</th>\\r\\r\\n\\t\\t\\t\\t\\t\\t\\t<td>7월말~8월초</td>\\r\\r\\n\\t\\t\\t\\t\\t\\t\\t<td>경남 합천군 황강레포츠공원 일원</td>\\r\\r\\n\\t\\t\\t\\t\\t\\t\\t<td><a href=\"http://www.합천마라톤.kr/\" target=\"_blank\" title=\"황강레포츠축제 새창열림\"> 홈페이지 바로가기</a></td>\\r\\r\\n\\t\\t\\t\\t\\t\\t</tr>\\r\\r\\n\\t\\t\\t\\t\\t</tbody>\\r\\r\\n\\t\\t\\t\\t</table>\\r\\r\\n\\t\\t\\t</div>\\r\\r\\n\\t\\t\\t<!-- 축제/행사 -->',\n",
              "  'data_title': '합천 해인사 소리길',\n",
              "  'fileurl1': 'https://www.gyeongnam.go.kr/upload_data/board_data/BBS_0002006/c54_01.jpg',\n",
              "  'fileurl2': 'https://www.gyeongnam.go.kr/upload_data/board_data/BBS_0002006/c54_02.jpg',\n",
              "  'fileurl3': 'https://www.gyeongnam.go.kr/upload_data/board_data/BBS_0002006/c54_03.jpg',\n",
              "  'fileurl4': 'https://www.gyeongnam.go.kr/upload_data/board_data/BBS_0002006/c54_04.jpg',\n",
              "  'fileurl5': 'https://www.gyeongnam.go.kr/upload_data/board_data/BBS_0002006/c54_05.jpg',\n",
              "  'insttnm': '해인사 관광안내소 : 합천군 가야면 10 T. 055-934-3000\\r\\r\\n합천군 대장경천년세계문화축전기획단 : 합천읍 동서로 109 055-930-4783',\n",
              "  'roadlength': '약 6km',\n",
              "  'roadroute': '대장경문화축전주차장 -> 대장경천년문화축전주차장',\n",
              "  'roadtime': '약 2시간',\n",
              "  'traffic': '대중교통 \\r\\r\\n- 서울(고속버스터미널) -> 대구 -> 서부시외버스터미널 -> 해인사행 버스 \\r\\r\\n- 진주(시외버스정류소) -> 해인사행 버스\\r\\r\\n자동차 \\r\\r\\n- 서울 -> 해인사IC : 중부내륙고속도로 -> 김천 -> 88고속도로(4시간 소요) \\r\\r\\n- 부산 -> 해인사IC : 남해고속도로 ？ 칠원JC -> 동고령JC -> 88고속도로(2시간 10분 소요) \\r\\r\\n- 광주 -> 해인사IC : 88고속도로 -> 거창(3시간 소요) \\r\\r\\n- 창원 -> 해인사IC : 중부내륙고속도로 -> 동고령JC -> 88고속도로(1시간 30분 소요) \\r\\r\\n* 주차가능대수 500대 이상',\n",
              "  'videoinfo': '합천의 8경 중의 하나인 홍류동 계곡을 따라 무릉교, 농산정, 낙회담 등 가야산 19경 중 16경을 볼 수 있는 테마로드를 소개합니다. \\r\\r\\n‘최치원선생이 노년을 지나다 갓과 신발만 남겨 둔채 홀연히 신선이 되어 사라졌다’는 이야기가 전해지는 홍류동 계곡에 새로운 길이 생겼습니다. \\r\\r\\n가야산 소리길은 계곡길을 걷다 귀를 기울이면 물소리. 새소리, 바람소리, 세월 가는 소리를 들을 수 있다 하여 소리길이라는 이름으로 명명하게 되었는데요.\\r\\r\\n 대장경천년관 앞을 지나 무릉교,칠성대, 홍류동계곡, 농산정, 길상암, 낙화담을 거처 해인사 성보박물관까지. \\r\\r\\n수백년된 송림 숲 속에서 뿜어나오는 신선한 공기와 웅장한 바위를 휘감아도는 청아한 물길과 폭포, 산새소리와 해인사의 풍경소리로 지친마음을 씻어내고 깊은 사색을 하기 더없이 좋은 길입니다.\\r\\r\\n 자연과 소통하며 걷는 건강한 산책. \\r\\r\\n홍류동 계곡의 비경과 자연의 숨소리를 들으며 소리길을 느껴보세요. \\r\\r\\n소중한 나를 위해, 소중한 사람에게 들려주고 싶은 소리를 찾아 합천 가야산 소리길로 떠나보세요~',\n",
              "  'videourl': 'https://www.youtube.com/embed/76ArHL8DPvg',\n",
              "  'view_count': 1352},\n",
              " {'category_name1': '의령군',\n",
              "  'courseinfo': '다양한 수목 군락지를 만날 수 있는 골골이 많은 전설을 지닌 자굴산 \\r\\r\\n둘레길은 보는 이로 하여금 찬탄을 자아내게 한다. \\r\\r\\n둘레길은 5개소의 산속 쉼터를 조성하여 바쁘게 살아가는 현대인에게 치유와 휴식을 취할 수 있도록 배려하였으며, 자굴산 둘레길에서는 다양한 수목 군락지를 만날 수가 있는데 능선부에는 자태를 뽐내고 있는 천년다지송과 희귀목인 노각나무, 사람주나무, 비목나무 등이 있다.',\n",
              "  'data_content': '<!-- 관광지정보 -->\\r\\r\\n\\t\\t\\t<h5>관광지정보</h5>\\r\\r\\n\\t\\t\\t<div class=\"edu_detail_txt\">\\r\\r\\n\\t\\t\\t\\t<table class=\"tstyle_list\">\\r\\r\\n\\t\\t\\t\\t\\t<caption>\\r\\r\\n\\t\\t\\t\\t\\t\\t<strong>의령 자굴산 둘레길 관광지정보을 안내는 표 입니다.</strong>\\r\\r\\n\\t\\t\\t\\t\\t\\t<details>\\r\\r\\n\\t\\t\\t\\t\\t\\t\\t<summary>의령 자굴산 둘레길 관광지정보 상세안내 각 관광지명에 따른 내용을 안내합니다.</summary>\\r\\r\\n\\t\\t\\t\\t\\t\\t</details>\\r\\r\\n\\t\\t\\t\\t\\t</caption>\\r\\r\\n\\t\\t\\t\\t\\t<colgroup>\\r\\r\\n\\t\\t\\t\\t\\t\\t<col style=\"width:30%\">\\r\\r\\n\\t\\t\\t\\t\\t\\t<col style=\"width:70%\">\\r\\r\\n\\t\\t\\t\\t\\t</colgroup>\\r\\r\\n\\t\\t\\t\\t\\t<thead>\\r\\r\\n\\t\\t\\t\\t\\t\\t<tr>\\r\\r\\n\\t\\t\\t\\t\\t\\t\\t<th scope=\"col\">관광지명</th>\\r\\r\\n\\t\\t\\t\\t\\t\\t\\t<th scope=\"col\">내용</th>\\r\\r\\n\\t\\t\\t\\t\\t\\t</tr>\\r\\r\\n\\t\\t\\t\\t\\t</thead>\\r\\r\\n\\t\\t\\t\\t\\t<tbody>\\r\\r\\n\\t\\t\\t\\t\\t\\t<tr>\\r\\r\\n\\t\\t\\t\\t\\t\\t\\t<th scope=\"row\">한우산 </th>\\r\\r\\n\\t\\t\\t\\t\\t\\t\\t<td>봄이면 진달래와 철쭉이 무리지어 피어나니 꽃 축제를 열어 잔치 한마당이 벌어진다.</td>\\r\\r\\n\\t\\t\\t\\t\\t\\t</tr>\\r\\r\\n\\t\\t\\t\\t\\t\\t<tr>\\r\\r\\n\\t\\t\\t\\t\\t\\t\\t<th scope=\"row\">왜가리 서식지</th>\\r\\r\\n\\t\\t\\t\\t\\t\\t\\t<td>가례마을 뒷산 일대는 왜가리 서식지로 유명한 곳이다. </td>\\r\\r\\n\\t\\t\\t\\t\\t\\t</tr>\\r\\r\\n\\t\\t\\t\\t\\t</tbody>\\r\\r\\n\\t\\t\\t\\t</table>\\r\\r\\n\\t\\t\\t</div>\\r\\r\\n\\t\\t\\t<!-- 관광지정보 -->\\r\\r\\n\\r\\r\\n\\t\\t\\t<!-- 주변맛집 -->\\r\\r\\n\\t\\t\\t<h5>주변맛집</h5>\\r\\r\\n\\t\\t\\t<div class=\"edu_detail_txt\">\\r\\r\\n\\t\\t\\t\\t<table class=\"tstyle_list\">\\r\\r\\n\\t\\t\\t\\t\\t<caption>\\r\\r\\n\\t\\t\\t\\t\\t\\t<strong>의령 자굴산 둘레길 주변맛집을 안내는 표 입니다.</strong>\\r\\r\\n\\t\\t\\t\\t\\t\\t<details>\\r\\r\\n\\t\\t\\t\\t\\t\\t\\t<summary>의령 자굴산 둘레길 주변맛집 상세안내 각상호명에 대한 전화번호를 안내합니다.</summary>\\r\\r\\n\\t\\t\\t\\t\\t\\t</details>\\r\\r\\n\\t\\t\\t\\t\\t</caption>\\r\\r\\n\\t\\t\\t\\t\\t<colgroup>\\r\\r\\n\\t\\t\\t\\t\\t\\t<col style=\"width:30%\">\\r\\r\\n\\t\\t\\t\\t\\t\\t<col style=\"width:70%\">\\r\\r\\n\\t\\t\\t\\t\\t</colgroup>\\r\\r\\n\\t\\t\\t\\t\\t<thead>\\r\\r\\n\\t\\t\\t\\t\\t\\t<tr>\\r\\r\\n\\t\\t\\t\\t\\t\\t\\t<th scope=\"col\">상호명</th>\\r\\r\\n\\t\\t\\t\\t\\t\\t\\t<th scope=\"col\">전화번호</th>\\r\\r\\n\\t\\t\\t\\t\\t\\t\\t\\t\\t\\t\\t\\t\\t</tr>\\r\\r\\n\\t\\t\\t\\t\\t</thead>\\r\\r\\n\\t\\t\\t\\t\\t<tbody>\\r\\r\\n\\t\\t\\t\\t\\t\\t<tr>\\r\\r\\n\\t\\t\\t\\t\\t\\t\\t<th scope=\"row\">초가산장 (쇠고기)</th>\\r\\r\\n\\t\\t\\t\\t\\t\\t\\t<td>055-573-4200</td>\\r\\r\\n\\t\\t\\t\\t\\t\\t</tr>\\r\\r\\n\\t\\t\\t\\t\\t\\t<tr>\\r\\r\\n\\t\\t\\t\\t\\t\\t\\t<th scope=\"row\">토종마을 (옻닭, 백숙)</th>\\r\\r\\n\\t\\t\\t\\t\\t\\t\\t<td>055-573-2341</td>\\r\\r\\n\\t\\t\\t\\t\\t\\t</tr>\\r\\r\\n\\t\\t\\t\\t\\t\\t<tr>\\r\\r\\n\\t\\t\\t\\t\\t\\t\\t<th scope=\"row\">풀내음 (메밀국수)</th>\\r\\r\\n\\t\\t\\t\\t\\t\\t\\t<td>055-572-3267</td>\\r\\r\\n\\t\\t\\t\\t\\t\\t</tr>\\r\\r\\n\\t\\t\\t\\t\\t\\t<tr>\\r\\r\\n\\t\\t\\t\\t\\t\\t\\t<th scope=\"row\">양산박식당 (장어구이, 보리밥)</th>\\r\\r\\n\\t\\t\\t\\t\\t\\t\\t<td>055-572-1323</td>\\r\\r\\n\\t\\t\\t\\t\\t\\t</tr>\\r\\r\\n\\t\\t\\t\\t\\t</tbody>\\r\\r\\n\\t\\t\\t\\t</table>\\r\\r\\n\\t\\t\\t</div>\\r\\r\\n\\t\\t\\t<!-- 주변맛집 -->\\r\\r\\n\\r\\r\\n\\t\\t\\t<!-- 주변숙박 -->\\r\\r\\n\\t\\t\\t<h5>주변숙박</h5>\\r\\r\\n\\t\\t\\t<div class=\"edu_detail_txt\">\\r\\r\\n\\t\\t\\t\\t<table class=\"tstyle_list\">\\r\\r\\n\\t\\t\\t\\t\\t<caption>\\r\\r\\n\\t\\t\\t\\t\\t\\t<strong>의령 자굴산 둘레길 주변숙박을 안내는 표 입니다.</strong>\\r\\r\\n\\t\\t\\t\\t\\t\\t<details>\\r\\r\\n\\t\\t\\t\\t\\t\\t\\t<summary>의령 자굴산 둘레길 주변숙박 상세안내 각 상호명에 따른 전화번호를 안내합니다.</summary>\\r\\r\\n\\t\\t\\t\\t\\t\\t</details>\\r\\r\\n\\t\\t\\t\\t\\t</caption>\\r\\r\\n\\t\\t\\t\\t\\t<colgroup>\\r\\r\\n\\t\\t\\t\\t\\t\\t<col style=\"width:30%\">\\r\\r\\n\\t\\t\\t\\t\\t\\t<col style=\"width:70%\">\\r\\r\\n\\t\\t\\t\\t\\t</colgroup>\\r\\r\\n\\t\\t\\t\\t\\t<thead>\\r\\r\\n\\t\\t\\t\\t\\t\\t<tr>\\r\\r\\n\\t\\t\\t\\t\\t\\t\\t<th scope=\"col\">상호명</th>\\r\\r\\n\\t\\t\\t\\t\\t\\t\\t<th scope=\"col\">전화번호</th>\\r\\r\\n\\t\\t\\t\\t\\t\\t</tr>\\r\\r\\n\\t\\t\\t\\t\\t</thead>\\r\\r\\n\\t\\t\\t\\t\\t<tbody>\\r\\r\\n\\t\\t\\t\\t\\t\\t<tr>\\r\\r\\n\\t\\t\\t\\t\\t\\t\\t<th scope=\"row\">아자촌마을</th>\\r\\r\\n\\t\\t\\t\\t\\t\\t\\t<td>055-573-4343</td>\\r\\r\\n\\t\\t\\t\\t\\t\\t</tr>\\r\\r\\n\\t\\t\\t\\t\\t\\t<tr>\\r\\r\\n\\t\\t\\t\\t\\t\\t\\t<th scope=\"row\">민들레농장</th>\\r\\r\\n\\t\\t\\t\\t\\t\\t\\t<td>055-573-0278</td>\\r\\r\\n\\t\\t\\t\\t\\t\\t</tr>\\r\\r\\n\\t\\t\\t\\t\\t\\t<tr>\\r\\r\\n\\t\\t\\t\\t\\t\\t\\t<th scope=\"row\">들찬마을</th>\\r\\r\\n\\t\\t\\t\\t\\t\\t\\t<td>055-574-1199</td>\\r\\r\\n\\t\\t\\t\\t\\t\\t</tr>\\r\\r\\n\\t\\t\\t\\t\\t\\t\\r\\r\\n\\t\\t\\t\\t\\t</tbody>\\r\\r\\n\\t\\t\\t\\t</table>\\r\\r\\n\\t\\t\\t</div>\\r\\r\\n\\t\\t\\t<!-- 주변숙박 -->\\r\\r\\n\\r\\r\\n\\t\\t\\t\\r\\r\\n\\t\\t\\t<!-- 축제/행사 -->\\r\\r\\n\\t\\t\\t<h5>축제/행사</h5>\\r\\r\\n\\t\\t\\t<div class=\"edu_detail_txt\">\\r\\r\\n\\t\\t\\t\\t<table class=\"tstyle_list\">\\r\\r\\n\\t\\t\\t\\t\\t<caption>\\r\\r\\n\\t\\t\\t\\t\\t\\t<strong>의령 자굴산 둘레길 축제/행사을 안내는 표 입니다.</strong>\\r\\r\\n\\t\\t\\t\\t\\t\\t<details>\\r\\r\\n\\t\\t\\t\\t\\t\\t\\t<summary>의령 자굴산 둘레길 축제/행사 상세안내 각 축제명에 따른 축제기간, 장소, 홈페이지링크를 제공하고 있습니다.</summary>\\r\\r\\n\\t\\t\\t\\t\\t\\t</details>\\r\\r\\n\\t\\t\\t\\t\\t</caption>\\r\\r\\n\\t\\t\\t\\t\\t<colgroup>\\r\\r\\n\\t\\t\\t\\t\\t\\t<col style=\"width:20%\">\\r\\r\\n\\t\\t\\t\\t\\t\\t<col style=\"width:20%\">\\r\\r\\n\\t\\t\\t\\t\\t\\t<col>\\r\\r\\n\\t\\t\\t\\t\\t\\t<col>\\r\\r\\n\\t\\t\\t\\t\\t</colgroup>\\r\\r\\n\\t\\t\\t\\t\\t<thead>\\r\\r\\n\\t\\t\\t\\t\\t\\t<tr>\\r\\r\\n\\t\\t\\t\\t\\t\\t\\t<th scope=\"col\">축제명</th>\\r\\r\\n\\t\\t\\t\\t\\t\\t\\t<th scope=\"col\">축제기간</th>\\r\\r\\n\\t\\t\\t\\t\\t\\t\\t<th scope=\"col\">장소</th>\\r\\r\\n\\t\\t\\t\\t\\t\\t\\t<th scope=\"col\">홈페이지</th>\\r\\r\\n\\t\\t\\t\\t\\t\\t</tr>\\r\\r\\n\\t\\t\\t\\t\\t</thead>\\r\\r\\n\\t\\t\\t\\t\\t<tbody>\\r\\r\\n\\t\\t\\t\\t\\t\\t<tr>\\r\\r\\n\\t\\t\\t\\t\\t\\t\\t<th scope=\"row\">의병제전</th>\\r\\r\\n\\t\\t\\t\\t\\t\\t\\t<td>4월중 </td>\\r\\r\\n\\t\\t\\t\\t\\t\\t\\t<td>경남 의령군 의병교, 의령군청 등</td>\\r\\r\\n\\t\\t\\t\\t\\t\\t\\t<td><a href=\"http://tour.uiryeong.go.kr/003/05/main.asp\" target=\"_blank\" title=\"의병제전 새창열림\"> 홈페이지 바로가기</a></td>\\r\\r\\n\\t\\t\\t\\t\\t\\t</tr>\\r\\r\\n\\t\\t\\t\\t\\t\\t<tr>\\r\\r\\n\\t\\t\\t\\t\\t\\t\\t<th scope=\"row\">추석맞이 의령 소싸움대회</th>\\r\\r\\n\\t\\t\\t\\t\\t\\t\\t<td>9월중 </td>\\r\\r\\n\\t\\t\\t\\t\\t\\t\\t<td>경남 의령군 전통농경문화테마파크 민속경기장</td>\\r\\r\\n\\t\\t\\t\\t\\t\\t\\t<td><a href=\"http://bull.uiryeong.go.kr/main/\" target=\"_blank\" title=\"추석맞이 의령 소싸움대회 새창열림\"> 홈페이지 바로가기</a></td>\\r\\r\\n\\t\\t\\t\\t\\t\\t</tr>\\r\\r\\n\\t\\t\\t\\t\\t\\t<tr>\\r\\r\\n\\t\\t\\t\\t\\t\\t\\t<th scope=\"row\">의령 한지 장판 병풍 축제/th>\\r\\r\\n\\t\\t\\t\\t\\t\\t\\t<td>10월중</td>\\r\\r\\n\\t\\t\\t\\t\\t\\t\\t<td>경남 의령군 신반시장 주차장</td>\\r\\r\\n\\t\\t\\t\\t\\t\\t\\t<td><a href=\"http://tour.uiryeong.go.kr/003/01/sub_07_01.asp\" target=\"_blank\" title=\"의령 한지 장판 병풍 축제 새창열림\"> 홈페이지 바로가기</a></td>\\r\\r\\n\\t\\t\\t\\t\\t\\t</tr>\\r\\r\\n\\t\\t\\t\\t\\t\\r\\r\\n\\t\\t\\t\\t\\t</tbody>\\r\\r\\n\\t\\t\\t\\t</table>\\r\\r\\n\\t\\t\\t</div>\\r\\r\\n\\t\\t\\t<!-- 축제/행사 -->',\n",
              "  'data_title': '의령 자굴산 둘레길',\n",
              "  'fileurl1': 'https://www.gyeongnam.go.kr/upload_data/board_data/BBS_0002006/53_01.jpg',\n",
              "  'fileurl2': 'https://www.gyeongnam.go.kr/upload_data/board_data/BBS_0002006/53_02.jpg',\n",
              "  'fileurl3': 'https://www.gyeongnam.go.kr/upload_data/board_data/BBS_0002006/53_03.jpg',\n",
              "  'fileurl4': 'https://www.gyeongnam.go.kr/upload_data/board_data/BBS_0002006/53_04.jpg',\n",
              "  'fileurl5': 'https://www.gyeongnam.go.kr/upload_data/board_data/BBS_0002006/53_05.jpg',\n",
              "  'insttnm': '의령군 문화체육과 : 의령군 의령읍 충익로 63 T. 055-570-2403\\r\\r\\n산림녹지과 : 의령군 의령읍 충익로 63 T. 055-570-2660',\n",
              "  'roadlength': '약 3.7km',\n",
              "  'roadroute': '쇠목재-->절터샘-->전망대--> 달분재--> 베틀바위-->자굴산 정상-->쇠목재(대중교통 불가)',\n",
              "  'roadtime': '약 3시간20분',\n",
              "  'traffic': '대중교통 : 의령시외버스터미널에서 가례면 갑을리, 칠곡면 내조리 방면농어촌마을버스 이용\\r\\r\\n자동차 : 군북IC-->의령방면 79번 국도-->의령읍--> 20번 국도--> 의령여중고 우회전-->가례면 갑을마을 또는 쇠목재(주차장 협소)',\n",
              "  'videoinfo': '해발 600m 이상 고도의 산중에 있어서 삼림욕을 즐길 수 있고 자연속의 둘레길로 건강 둘레길 의령 자굴산 둘레길을 만나 보실까요? \\r\\r\\n쇠목재에서 시작해 바람덤~절터샘~전망대~절터 구간을 거처 달분재까지 누구나 쉽게 접근하여 이용할 수 있도록 수평 개념의 등산로를 조성하여 자굴산만의 생태와 진면목을 있는 그대로 느끼며 편안하게 심신을 단련 할 수 있습니다.\\r\\r\\n 특히 자굴산 둘레길의 압권은 내려보고 올려보는 풍광 그자체 인데요. \\r\\r\\n절터 전망대에 올라서면 그림처럼 펼쳐진 칠곡면 내조리를 한눈에 담을 수 있습니다. \\r\\r\\n다양한 수목군락지를 만날 수가 있는데 능선부에는 자태를 뽐내고 있는 천년다지송과 노각나무, 사람주나무, 비목나무 등. 또한 골골이 많은 전설을 지닌 기암괴석과 풍광을 접할 수 있어 보는 이로 하여금 찬탄을 자아내는데요.\\r\\r\\n 재미있는 전설 속 이야기가 가득한 자굴산 둘레길 , 쉬엄쉬엄 산 위를 거닐어 보세요~',\n",
              "  'videourl': 'https://www.youtube.com/embed/iZs0SrPEtf4',\n",
              "  'view_count': 2163},\n",
              " {'category_name1': '합천군',\n",
              "  'courseinfo': '암자들을 하나하나 둘러보며 천년의 역사를 느낄 수 있는 곳! 가야산 남쪽 자락에 자리잡은 해인사는 불교의 불, 법, 승 ３보 가운데 법보사찰이다. 부처님의 말씀(法)인 팔만대장경을 간직하고 있는 법보(法寶) 사찰인 해인사로 가는 길은 주위에 마애불, 영지, 성철스님부도탑, 비석거리, 학사대, 외나무다리, 사명대사비등 볼거리가 풍부하며 천년의 역사를 느낄 수 있는 곳이다. 또한 해인사 주위에 자리잡고 있는 암자들을 하나하나 둘러보는 것도 여행의 재미를 배가시키는 좋은 방법이다.',\n",
              "  'data_content': '<!-- 관광지정보 -->\\r\\r\\n\\t\\t\\t<h5>관광지정보</h5>\\r\\r\\n\\t\\t\\t<div class=\"edu_detail_txt\">\\r\\r\\n\\t\\t\\t\\t<table class=\"tstyle_list\">\\r\\r\\n\\t\\t\\t\\t\\t<caption>\\r\\r\\n\\t\\t\\t\\t\\t\\t<strong>합천 해인사 천년역사길 관광지정보을 안내는 표 입니다.</strong>\\r\\r\\n\\t\\t\\t\\t\\t\\t<details>\\r\\r\\n\\t\\t\\t\\t\\t\\t\\t<summary>합천 해인사 천년역사길 관광지정보 상세안내 관광지명에 따른 내용을 안내합니다</summary>\\r\\r\\n\\t\\t\\t\\t\\t\\t</details>\\r\\r\\n\\t\\t\\t\\t\\t</caption>\\r\\r\\n\\t\\t\\t\\t\\t<colgroup>\\r\\r\\n\\t\\t\\t\\t\\t\\t<col style=\"width:30%\">\\r\\r\\n\\t\\t\\t\\t\\t\\t<col style=\"width:70%\">\\r\\r\\n\\t\\t\\t\\t\\t</colgroup>\\r\\r\\n\\t\\t\\t\\t\\t<thead>\\r\\r\\n\\t\\t\\t\\t\\t\\t<tr>\\r\\r\\n\\t\\t\\t\\t\\t\\t\\t<th scope=\"col\">관광지명</th>\\r\\r\\n\\t\\t\\t\\t\\t\\t\\t<th scope=\"col\">내용</th>\\r\\r\\n\\t\\t\\t\\t\\t\\t</tr>\\r\\r\\n\\t\\t\\t\\t\\t</thead>\\r\\r\\n\\t\\t\\t\\t\\t<tbody>\\r\\r\\n\\t\\t\\t\\t\\t\\t<tr>\\r\\r\\n\\t\\t\\t\\t\\t\\t\\t<th scope=\"row\">영지 </th>\\r\\r\\n\\t\\t\\t\\t\\t\\t\\t<td>김수로왕의 왕비가 출가한 일곱왕자를 그림자라도 보게해달라고 부처님께 기도하자 왕자들의 모습이 연못에 비쳤다고 한다. </td>\\r\\r\\n\\t\\t\\t\\t\\t\\t</tr>\\r\\r\\n\\t\\t\\t\\t\\t\\t<tr>\\r\\r\\n\\t\\t\\t\\t\\t\\t\\t<th scope=\"row\">학사대</th>\\r\\r\\n\\t\\t\\t\\t\\t\\t\\t<td>고운 최치원이 만년에 가야산에 은거하여 고운 최치원이 만년에 가야산에 은거하여 할 때 수많은 학이 날아와 경청했다고 한다.  </td>\\r\\r\\n\\t\\t\\t\\t\\t\\t</tr>\\r\\r\\n\\t\\t\\t\\t\\t</tbody>\\r\\r\\n\\t\\t\\t\\t</table>\\r\\r\\n\\t\\t\\t</div>\\r\\r\\n\\t\\t\\t<!-- 관광지정보 -->\\r\\r\\n\\r\\r\\n\\t\\t\\t<!-- 주변맛집 -->\\r\\r\\n\\t\\t\\t<h5>주변맛집</h5>\\r\\r\\n\\t\\t\\t<div class=\"edu_detail_txt\">\\r\\r\\n\\t\\t\\t\\t<table class=\"tstyle_list\">\\r\\r\\n\\t\\t\\t\\t\\t<caption>\\r\\r\\n\\t\\t\\t\\t\\t\\t<strong>합천 해인사 천년역사길 주변맛집을 안내는 표 입니다.</strong>\\r\\r\\n\\t\\t\\t\\t\\t\\t<details>\\r\\r\\n\\t\\t\\t\\t\\t\\t\\t<summary>합천 해인사 천년역사길 주변맛집 상세안내 각상호명에 따른 전화번호와 주소를 안내합니다.</summary>\\r\\r\\n\\t\\t\\t\\t\\t\\t</details>\\r\\r\\n\\t\\t\\t\\t\\t</caption>\\r\\r\\n\\t\\t\\t\\t\\t<colgroup>\\r\\r\\n\\t\\t\\t\\t\\t\\t<col style=\"width:20%\">\\r\\r\\n\\t\\t\\t\\t\\t\\t<col style=\"width:20%\">\\r\\r\\n\\t\\t\\t\\t\\t\\t<col>\\r\\r\\n\\t\\t\\t\\t\\t</colgroup>\\r\\r\\n\\t\\t\\t\\t\\t<thead>\\r\\r\\n\\t\\t\\t\\t\\t\\t<tr>\\r\\r\\n\\t\\t\\t\\t\\t\\t\\t<th scope=\"col\">상호명</th>\\r\\r\\n\\t\\t\\t\\t\\t\\t\\t<th scope=\"col\">전화번호</th>\\r\\r\\n\\t\\t\\t\\t\\t\\t\\t<th scope=\"col\">주소</th>\\r\\r\\n\\t\\t\\t\\t\\t\\t</tr>\\r\\r\\n\\t\\t\\t\\t\\t</thead>\\r\\r\\n\\t\\t\\t\\t\\t<tbody>\\r\\r\\n\\t\\t\\t\\t\\t\\t<tr>\\r\\r\\n\\t\\t\\t\\t\\t\\t\\t<th scope=\"row\">삼일식당(송이정식)</th>\\r\\r\\n\\t\\t\\t\\t\\t\\t\\t<td>055-932-7254</td>\\r\\r\\n\\t\\t\\t\\t\\t\\t\\t<td>가야면 치인리 10</td>\\r\\r\\n\\t\\t\\t\\t\\t\\t</tr>\\r\\r\\n\\t\\t\\t\\t\\t\\t<tr>\\r\\r\\n\\t\\t\\t\\t\\t\\t\\t<th scope=\"row\">고바우식당(산채한정식)</th>\\r\\r\\n\\t\\t\\t\\t\\t\\t\\t<td>055-931-7311</td>\\r\\r\\n\\t\\t\\t\\t\\t\\t\\t<td>가야면 치인리 1230</td>\\r\\r\\n\\t\\t\\t\\t\\t\\t</tr>\\r\\r\\n\\t\\t\\t\\t\\t\\t<tr>\\r\\r\\n\\t\\t\\t\\t\\t\\t\\t<th scope=\"row\">금호관(산채비빔밥)</th>\\r\\r\\n\\t\\t\\t\\t\\t\\t\\t<td>055-933-3292</td>\\r\\r\\n\\t\\t\\t\\t\\t\\t\\t<td>가야면 야천리 919-6</td>\\r\\r\\n\\t\\t\\t\\t\\t\\t</tr>\\r\\r\\n\\t\\t\\t\\t\\t\\t<tr>\\r\\r\\n\\t\\t\\t\\t\\t\\t\\t<th scope=\"row\">솔밭쉼터식당(보리밥,순두부)</th>\\r\\r\\n\\t\\t\\t\\t\\t\\t\\t<td>055-931-6606</td>\\r\\r\\n\\t\\t\\t\\t\\t\\t\\t<td>가야면 야천리 476</td>\\r\\r\\n\\t\\t\\t\\t\\t\\t</tr>\\r\\r\\n\\t\\t\\t\\t\\t\\t<tr>\\r\\r\\n\\t\\t\\t\\t\\t\\t\\t<th scope=\"row\">합천명품토종흑돼지</th>\\r\\r\\n\\t\\t\\t\\t\\t\\t\\t<td>055-932-6055</td>\\r\\r\\n\\t\\t\\t\\t\\t\\t\\t<td>가야면 야천리 465-4</td>\\r\\r\\n\\t\\t\\t\\t\\t\\t</tr>\\r\\r\\n\\r\\r\\n\\t\\t\\t\\t\\t</tbody>\\r\\r\\n\\t\\t\\t\\t</table>\\r\\r\\n\\t\\t\\t</div>\\r\\r\\n\\t\\t\\t<!-- 주변맛집 -->\\r\\r\\n\\r\\r\\n\\t\\t\\t<!-- 주변숙박 -->\\r\\r\\n\\t\\t\\t<h5>주변숙박</h5>\\r\\r\\n\\t\\t\\t<div class=\"edu_detail_txt\">\\r\\r\\n\\t\\t\\t\\t<table class=\"tstyle_list\">\\r\\r\\n\\t\\t\\t\\t\\t<caption>\\r\\r\\n\\t\\t\\t\\t\\t\\t<strong>합천 해인사 천년역사길 주변숙박을 안내는 표 입니다.</strong>\\r\\r\\n\\t\\t\\t\\t\\t\\t<details>\\r\\r\\n\\t\\t\\t\\t\\t\\t\\t<summary>합천 해인사 천년역사길 주변숙박 상세안내 각상호명에 대한 전화번호와 주소를 안내합니다.</summary>\\r\\r\\n\\t\\t\\t\\t\\t\\t</details>\\r\\r\\n\\t\\t\\t\\t\\t</caption>\\r\\r\\n\\t\\t\\t\\t\\t<colgroup>\\r\\r\\n\\t\\t\\t\\t\\t\\t<col style=\"width:20%\">\\r\\r\\n\\t\\t\\t\\t\\t\\t<col style=\"width:20%\">\\r\\r\\n\\t\\t\\t\\t\\t\\t<col>\\r\\r\\n\\t\\t\\t\\t\\t\\t<col>\\r\\r\\n\\t\\t\\t\\t\\t</colgroup>\\r\\r\\n\\t\\t\\t\\t\\t<thead>\\r\\r\\n\\t\\t\\t\\t\\t\\t<tr>\\r\\r\\n\\t\\t\\t\\t\\t\\t\\t<th scope=\"col\">상호명</th>\\r\\r\\n\\t\\t\\t\\t\\t\\t\\t<th scope=\"col\">전화번호</th>\\r\\r\\n\\t\\t\\t\\t\\t\\t\\t<th scope=\"col\">주소</th>\\r\\r\\n\\t\\t\\t\\t\\t\\t</tr>\\r\\r\\n\\t\\t\\t\\t\\t</thead>\\r\\r\\n\\t\\t\\t\\t\\t<tbody>\\r\\r\\n\\t\\t\\t\\t\\t\\t<tr>\\r\\r\\n\\t\\t\\t\\t\\t\\t\\t<th scope=\"row\">해인사관광호텔</th>\\r\\r\\n\\t\\t\\t\\t\\t\\t\\t<td>055-933-2000</td>\\r\\r\\n\\t\\t\\t\\t\\t\\t\\t<td>가야면 치인리</td>\\r\\r\\n\\t\\t\\t\\t\\t\\t</tr>\\r\\r\\n\\t\\t\\t\\t\\t\\t<tr>\\r\\r\\n\\t\\t\\t\\t\\t\\t\\t<th scope=\"row\">산장별장여관 </th>\\r\\r\\n\\t\\t\\t\\t\\t\\t\\t<td>055-930-7245</td>\\r\\r\\n\\t\\t\\t\\t\\t\\t\\t<td>가야면 치인리</td>\\r\\r\\n\\t\\t\\t\\t\\t\\t</tr>\\r\\r\\n\\t\\t\\t\\t\\t\\t<tr>\\r\\r\\n\\t\\t\\t\\t\\t\\t\\t<th scope=\"row\">남산장모텔</th>\\r\\r\\n\\t\\t\\t\\t\\t\\t\\t<td>055-932-5813</td>\\r\\r\\n\\t\\t\\t\\t\\t\\t\\t<td>가야면 야천리 477-24</td>\\r\\r\\n\\t\\t\\t\\t\\t\\t</tr>\\r\\r\\n\\t\\t\\t\\t\\t\\t<tr>\\r\\r\\n\\t\\t\\t\\t\\t\\t\\t<th scope=\"row\">국일장모텔</th>\\r\\r\\n\\t\\t\\t\\t\\t\\t\\t<td>055-931-9000</td>\\r\\r\\n\\t\\t\\t\\t\\t\\t\\t<td>가야면 야천리 888-7 </td>\\r\\r\\n\\t\\t\\t\\t\\t\\t</tr>\\r\\r\\n\\t\\t\\t\\t\\t\\r\\r\\n\\t\\t\\t\\t\\t</tbody>\\r\\r\\n\\t\\t\\t\\t</table>\\r\\r\\n\\t\\t\\t</div>\\r\\r\\n\\t\\t\\t<!-- 주변숙박 -->\\r\\r\\n\\r\\r\\n\\t\\t\\t<!-- 특산품 -->\\r\\r\\n\\t\\t\\t<h5>특산품</h5>\\r\\r\\n\\t\\t\\t<div class=\"edu_detail_txt\">\\r\\r\\n\\t\\t\\t\\t<table class=\"tstyle_list\">\\r\\r\\n\\t\\t\\t\\t\\t<caption>\\r\\r\\n\\t\\t\\t\\t\\t\\t<strong>합천 해인사 천년역사길 특산품을 안내는 표 입니다.</strong>\\r\\r\\n\\t\\t\\t\\t\\t\\t<details>\\r\\r\\n\\t\\t\\t\\t\\t\\t\\t<summary>합천 해인사 천년역사길 특산품 상세안내 각품명에 따른 전화번호와 판매점을 안내합니다.</summary>\\r\\r\\n\\t\\t\\t\\t\\t\\t</details>\\r\\r\\n\\t\\t\\t\\t\\t</caption>\\r\\r\\n\\t\\t\\t\\t\\t<colgroup>\\r\\r\\n\\t\\t\\t\\t\\t\\t<col style=\"width:20%\">\\r\\r\\n\\t\\t\\t\\t\\t\\t<col style=\"width:20%\">\\r\\r\\n\\t\\t\\t\\t\\t\\t<col>\\r\\r\\n\\t\\t\\t\\t\\t</colgroup>\\r\\r\\n\\t\\t\\t\\t\\t<thead>\\r\\r\\n\\t\\t\\t\\t\\t\\t<tr>\\r\\r\\n\\t\\t\\t\\t\\t\\t\\t<th scope=\"col\">품명</th>\\r\\r\\n\\t\\t\\t\\t\\t\\t\\t<th scope=\"col\">전화번호</th>\\r\\r\\n\\t\\t\\t\\t\\t\\t\\t<th scope=\"col\">판매점</th>\\r\\r\\n\\t\\t\\t\\t\\t\\t</tr>\\r\\r\\n\\t\\t\\t\\t\\t</thead>\\r\\r\\n\\t\\t\\t\\t\\t<tbody>\\r\\r\\n\\t\\t\\t\\t\\t\\t<tr>\\r\\r\\n\\t\\t\\t\\t\\t\\t\\t<th scope=\"row\">합천파프리카</th>\\r\\r\\n\\t\\t\\t\\t\\t\\t\\t<td>011-550-1663</td>\\r\\r\\n\\t\\t\\t\\t\\t\\t\\t<td>가야산제일청정농장</td>\\r\\r\\n\\t\\t\\t\\t\\t\\t</tr>\\r\\r\\n\\t\\t\\t\\t\\t\\t<tr>\\r\\r\\n\\t\\t\\t\\t\\t\\t\\t<th scope=\"row\">왕우렁이쌀  </th>\\r\\r\\n\\t\\t\\t\\t\\t\\t\\t<td>011-550-8798</td>\\r\\r\\n\\t\\t\\t\\t\\t\\t\\t<td>가야농협  </td>\\r\\r\\n\\t\\t\\t\\t\\t\\t</tr>\\r\\r\\n\\t\\t\\t\\t\\t\\t<tr>\\r\\r\\n\\t\\t\\t\\t\\t\\t\\t<th scope=\"row\">전통누비  </th>\\r\\r\\n\\t\\t\\t\\t\\t\\t\\t<td>017-585-0460</td>\\r\\r\\n\\t\\t\\t\\t\\t\\t\\t<td>합천전통누비 </td>\\r\\r\\n\\t\\t\\t\\t\\t\\t</tr>\\r\\r\\n\\t\\t\\t\\t\\t\\t<tr>\\r\\r\\n\\t\\t\\t\\t\\t\\t\\t<th scope=\"row\">세척안심딸기 </th>\\r\\r\\n\\t\\t\\t\\t\\t\\t\\t<td>055-933-2195</td>\\r\\r\\n\\t\\t\\t\\t\\t\\t\\t<td>농업협동조합합천군지부   </td>\\r\\r\\n\\t\\t\\t\\t\\t\\t</tr>\\r\\r\\n\\t\\t\\t\\t\\t\\t<tr>\\r\\r\\n\\t\\t\\t\\t\\t\\t\\t<th scope=\"row\">사포닌매실  </th>\\r\\r\\n\\t\\t\\t\\t\\t\\t\\t<td>055-930-3674</td>\\r\\r\\n\\t\\t\\t\\t\\t\\t\\t<td>류진농원  </td>\\r\\r\\n\\t\\t\\t\\t\\t\\t</tr>\\r\\r\\n\\t\\t\\t\\t\\t\\t<tr>\\r\\r\\n\\t\\t\\t\\t\\t\\t\\t<th scope=\"row\">왕골돗자리 </th>\\r\\r\\n\\t\\t\\t\\t\\t\\t\\t<td>011-813-0044</td>\\r\\r\\n\\t\\t\\t\\t\\t\\t\\t<td>합천쌍책돗자리 </td>\\r\\r\\n\\t\\t\\t\\t\\t\\t</tr>\\r\\r\\n\\t\\t\\t\\t\\t\\t<tr>\\r\\r\\n\\t\\t\\t\\t\\t\\t\\t<th scope=\"row\">가야산뽕잎차</th>\\r\\r\\n\\t\\t\\t\\t\\t\\t\\t<td>055-932-7387</td>\\r\\r\\n\\t\\t\\t\\t\\t\\t\\t<td>해인특산물농장 </td>\\r\\r\\n\\t\\t\\t\\t\\t\\t</tr>\\r\\r\\n\\t\\t\\t\\t\\t\\t<tr>\\r\\r\\n\\t\\t\\t\\t\\t\\t\\t<th scope=\"row\">지리산영지버섯  </th>\\r\\r\\n\\t\\t\\t\\t\\t\\t\\t<td>055-932-7387</td>\\r\\r\\n\\t\\t\\t\\t\\t\\t\\t<td>해인특산물농장  </td>\\r\\r\\n\\t\\t\\t\\t\\t\\t</tr>\\r\\r\\n\\t\\t\\t\\t\\t\\t<tr>\\r\\r\\n\\t\\t\\t\\t\\t\\t\\t<th scope=\"row\">합천황토한우  </th>\\r\\r\\n\\t\\t\\t\\t\\t\\t\\t<td>055-930-0056</td>\\r\\r\\n\\t\\t\\t\\t\\t\\t\\t<td>합천축협</td>\\r\\r\\n\\t\\t\\t\\t\\t\\t</tr>\\r\\r\\n\\t\\t\\t\\t\\r\\r\\n\\t\\t\\t\\t\\r\\r\\n\\t\\t\\t\\t\\t</tbody>\\r\\r\\n\\t\\t\\t\\t</table>\\r\\r\\n\\t\\t\\t</div>\\r\\r\\n\\t\\t\\t<!-- 특산품 -->\\r\\r\\n\\r\\r\\n\\t\\t\\t<!-- 재래시장 -->\\r\\r\\n\\t\\t\\t<h5>재래시장</h5>\\r\\r\\n\\t\\t\\t<div class=\"edu_detail_txt\">\\r\\r\\n\\t\\t\\t\\t<table class=\"tstyle_list\">\\r\\r\\n\\t\\t\\t\\t\\t<caption>\\r\\r\\n\\t\\t\\t\\t\\t\\t<strong>합천 해인사 천년역사길 재래시장을 안내는 표 입니다.</strong>\\r\\r\\n\\t\\t\\t\\t\\t\\t<details>\\r\\r\\n\\t\\t\\t\\t\\t\\t\\t<summary>합천 해인사 천년역사길 재래시장 상세안내 합천시장에 대한 전화번호, 주소, 설명을 안내합니다.</summary>\\r\\r\\n\\t\\t\\t\\t\\t\\t</details>\\r\\r\\n\\t\\t\\t\\t\\t</caption>\\r\\r\\n\\t\\t\\t\\t\\t<colgroup>\\r\\r\\n\\t\\t\\t\\t\\t\\t<col style=\"width:20%\">\\r\\r\\n\\t\\t\\t\\t\\t\\t<col style=\"width:20%\">\\r\\r\\n\\t\\t\\t\\t\\t\\t<col>\\r\\r\\n\\t\\t\\t\\t\\t\\t<col>\\r\\r\\n\\t\\t\\t\\t\\t</colgroup>\\r\\r\\n\\t\\t\\t\\t\\t<thead>\\r\\r\\n\\t\\t\\t\\t\\t\\t<tr>\\r\\r\\n\\t\\t\\t\\t\\t\\t\\t<th scope=\"col\">시장명</th>\\r\\r\\n\\t\\t\\t\\t\\t\\t\\t<th scope=\"col\">전화번호</th>\\r\\r\\n\\t\\t\\t\\t\\t\\t\\t<th scope=\"col\">주소</th>\\r\\r\\n\\t\\t\\t\\t\\t\\t\\t<th scope=\"col\">설명</th>\\r\\r\\n\\t\\t\\t\\t\\t\\t</tr>\\r\\r\\n\\t\\t\\t\\t\\t</thead>\\r\\r\\n\\t\\t\\t\\t\\t<tbody>\\r\\r\\n\\t\\t\\t\\t\\t\\t<tr>\\r\\r\\n\\t\\t\\t\\t\\t\\t\\t<th scope=\"row\">합천시장</th>\\r\\r\\n\\t\\t\\t\\t\\t\\t\\t<td>055-932-0063</td>\\r\\r\\n\\t\\t\\t\\t\\t\\t\\t<td>경상남도 합천군 합천읍 합천리 473-1</td>\\r\\r\\n\\t\\t\\t\\t\\t\\t\\t<td>1985년 개설된 상가건물형의 중형시장으로 장날은 매월 3일, 8일 </td>\\r\\r\\n\\t\\t\\t\\t\\t\\t</tr>\\r\\r\\n\\t\\t\\t\\t\\t\\r\\r\\n\\t\\t\\t\\t\\t</tbody>\\r\\r\\n\\t\\t\\t\\t</table>\\r\\r\\n\\t\\t\\t</div>\\r\\r\\n\\t\\t\\t<!-- 재래시장 -->\\r\\r\\n\\r\\r\\n\\t\\t\\t<!-- 축제/행사 -->\\r\\r\\n\\t\\t\\t<h5>축제/행사</h5>\\r\\r\\n\\t\\t\\t<div class=\"edu_detail_txt\">\\r\\r\\n\\t\\t\\t\\t<table class=\"tstyle_list\">\\r\\r\\n\\t\\t\\t\\t\\t<caption>\\r\\r\\n\\t\\t\\t\\t\\t\\t<strong>합천 해인사 천년역사길 축제/행사을 안내는 표 입니다.</strong>\\r\\r\\n\\t\\t\\t\\t\\t\\t<details>\\r\\r\\n\\t\\t\\t\\t\\t\\t\\t<summary>합천 해인사 천년역사길 축제/행사 상세안내 각 축제명에 따른 축제기간, 장소, 홈페이지링크를 안내합니다.</summary>\\r\\r\\n\\t\\t\\t\\t\\t\\t</details>\\r\\r\\n\\t\\t\\t\\t\\t</caption>\\r\\r\\n\\t\\t\\t\\t\\t<colgroup>\\r\\r\\n\\t\\t\\t\\t\\t\\t<col style=\"width:20%\">\\r\\r\\n\\t\\t\\t\\t\\t\\t<col style=\"width:20%\">\\r\\r\\n\\t\\t\\t\\t\\t\\t<col>\\r\\r\\n\\t\\t\\t\\t\\t\\t<col>\\r\\r\\n\\t\\t\\t\\t\\t</colgroup>\\r\\r\\n\\t\\t\\t\\t\\t<thead>\\r\\r\\n\\t\\t\\t\\t\\t\\t<tr>\\r\\r\\n\\t\\t\\t\\t\\t\\t\\t<th scope=\"col\">축제명</th>\\r\\r\\n\\t\\t\\t\\t\\t\\t\\t<th scope=\"col\">축제기간</th>\\r\\r\\n\\t\\t\\t\\t\\t\\t\\t<th scope=\"col\">장소</th>\\r\\r\\n\\t\\t\\t\\t\\t\\t\\t<th scope=\"col\">홈페이지</th>\\r\\r\\n\\t\\t\\t\\t\\t\\t</tr>\\r\\r\\n\\t\\t\\t\\t\\t</thead>\\r\\r\\n\\t\\t\\t\\t\\t<tbody>\\r\\r\\n\\t\\t\\t\\t\\t\\t<tr>\\r\\r\\n\\t\\t\\t\\t\\t\\t\\t<th scope=\"row\">대장경 천년 세계문화축전</th>\\r\\r\\n\\t\\t\\t\\t\\t\\t\\t<td>9월~11월중 </td>\\r\\r\\n\\t\\t\\t\\t\\t\\t\\t<td>경남 합천군 해인사 등</td>\\r\\r\\n\\t\\t\\t\\t\\t\\t\\t<td><a href=\"http://culture.hc.go.kr/sub/04_01.jsp\" target=\"_blank\" title=\"대장경 천년 세계문화축전 새창열림\"> 홈페이지 바로가기</a></td>\\r\\r\\n\\t\\t\\t\\t\\t\\t</tr>\\r\\r\\n\\t\\t\\t\\t\\t\\t<tr>\\r\\r\\n\\t\\t\\t\\t\\t\\t\\t<th scope=\"row\">합천 군민의날 및 대야문화제</th>\\r\\r\\n\\t\\t\\t\\t\\t\\t\\t<td>10월중 </td>\\r\\r\\n\\t\\t\\t\\t\\t\\t\\t<td>경남 합천군 합천군민운동장 등</td>\\r\\r\\n\\t\\t\\t\\t\\t\\t\\t<td><a href=\"http://culture.hc.go.kr/main/\" target=\"_blank\" title=\"합천 군민의날 및 대야문화제 새창열림\"> 홈페이지 바로가기</a></td>\\r\\r\\n\\t\\t\\t\\t\\t\\t</tr>\\r\\r\\n\\t\\t\\t\\t\\t\\t<tr>\\r\\r\\n\\t\\t\\t\\t\\t\\t\\t<th scope=\"row\">황강레포츠축제</th>\\r\\r\\n\\t\\t\\t\\t\\t\\t\\t<td>7월말~8월초</td>\\r\\r\\n\\t\\t\\t\\t\\t\\t\\t<td>경남 합천군 황강레포츠공원 일원</td>\\r\\r\\n\\t\\t\\t\\t\\t\\t\\t<td><a href=\"http://www.합천마라톤.kr/\" target=\"_blank\" title=\"황강레포츠축제 새창열림\"> 홈페이지 바로가기</a></td>\\r\\r\\n\\t\\t\\t\\t\\t\\t</tr>\\r\\r\\n\\t\\t\\t\\t\\t\\t<tr>\\r\\r\\n\\t\\t\\t\\t\\t\\t\\t<th scope=\"row\">황매산 철쭉제</th>\\r\\r\\n\\t\\t\\t\\t\\t\\t\\t<td>5월중</td>\\r\\r\\n\\t\\t\\t\\t\\t\\t\\t<td>경남 산청군 황매산 일원</td>\\r\\r\\n\\t\\t\\t\\t\\t\\t\\t<td><a href=\"http://culture.hc.go.kr/sub/04_02.jsp\" target=\"_blank\" title=\"황매산 철쭉제 새창열림\"> 홈페이지 바로가기</a></td>\\r\\r\\n\\t\\t\\t\\t\\t\\t</tr>\\r\\r\\n\\t\\t\\t\\t\\t</tbody>\\r\\r\\n\\t\\t\\t\\t</table>\\r\\r\\n\\t\\t\\t</div>\\r\\r\\n\\t\\t\\t<!-- 축제/행사 -->',\n",
              "  'data_title': '합천 해인사 천년역사길',\n",
              "  'fileurl1': 'https://www.gyeongnam.go.kr/upload_data/board_data/BBS_0002006/25_01.jpg',\n",
              "  'fileurl2': 'https://www.gyeongnam.go.kr/upload_data/board_data/BBS_0002006/25_02.jpg',\n",
              "  'fileurl3': 'https://www.gyeongnam.go.kr/upload_data/board_data/BBS_0002006/25_03.jpg',\n",
              "  'fileurl4': 'https://www.gyeongnam.go.kr/upload_data/board_data/BBS_0002006/25_04.jpg',\n",
              "  'fileurl5': 'https://www.gyeongnam.go.kr/upload_data/board_data/BBS_0002006/25_05.jpg',\n",
              "  'insttnm': '가야산 국립공원 관리사무소 : 합천군 가야면 10 T. 055-932-7538\\r\\r\\n\\r\\r\\n 합천군 관광개발사업단 : 합천읍 합천리 T. 055-930-3757\\r\\r\\n 가야면사무소 : 가야면 야천리 465-6 T. 055-930-4041',\n",
              "  'roadlength': '약 16km',\n",
              "  'roadroute': '대장경천년문화축전주행사장 (주차장) -> 홍제암 -> 가야산대피소 -> 학사대 -> 일주문 -> 영지 -> 성철스님사리함 -> 백련암 -> 대장경천년문화축전주행사장 (주차장)',\n",
              "  'roadtime': '약 5시간 20분',\n",
              "  'traffic': '대중교통\\r\\r\\n서울 (고속버스터미널)(수시) → 대구 → 서부시외버스터미널에서 해인사행 승차 \\r\\r\\n서울 (남부시외버스터미널) → 고령 → 해인사행 승차 \\r\\r\\n대전 (시외버스터미널) → 해인사 하루 세 번 (07:10 12:05 17:45) \\r\\r\\n부산 (고속/시외버스)(수시) → 대구 → 서부시외버스터미널에서 해인사행 승차 \\r\\r\\n광주 (시외버스터미널)(수시) → 거창/대구 → 거창/대구에서 해인사행 버스승차 \\r\\r\\n마산(고속/시외버스)(수시) → 고령/대구 → 고령/대구에서 해인사행 버스승차 \\r\\r\\n진주(시외버스정류소) → 해인사 하루 세 번 (09:30 13:10 17:40)',\n",
              "  'videoinfo': '천년이 흘러도 닳지 않는 자부심을 간직하고 있는 곳,합천 해인사가 품은 천년역사길로여러분을 안내합니다. 해인사는 창건된 지 1200년이 넘은 법보사찰로, 그 유구한역사만큼이나 발길을 멈추게 하는 곳도 많은데요. 부처님의 말씀인 팔만대장경 앞에서는 굳이 국보 제32호란 이름을 떠올리지 않더라도, 그 유구함과 찬란함 앞에 절로 고개가 숙여집니다. 해인사는 장구한 역사만큼, 이곳에서 정진하고 또 인연을 맺은 선승이 많기로도 명망이 높은데요. 길 따라 만날 수 있는 16곳의 암자 곳곳에 고승들의 숨결과 발자취가 고스란히 배어 있습니다. 홍제문에는 매섭고 엄혹했던 임진왜란, 불심으로 나라를 구한 사명대사의 흔적이. 백련암에는, 무소유의 청빈한 삶을 몸소 실천한 성철스님의 자취가 그대로 남아있는데요. 성철스님이 남긴 ‘산은 산이요, 물은 물이다’를 외며 나긋나긋 걷는 길이, 마치 열반에 오르는 듯 편안합니다. 걸을수록 몸과 마음이 정갈해지는 곳, 합천 천년역사길 위에서 청아한 기운, 마음 깊이 담뿍 담고 가세요.',\n",
              "  'videourl': 'https://www.youtube.com/embed/Kott3cR05-I',\n",
              "  'view_count': 653},\n",
              " {'category_name1': '거창군',\n",
              "  'courseinfo': '남덕유산 삿갓골샘 아랫마을, 황점마을에서 이어지는 이 길은 월성계곡의 아름다운 풍광이 펼쳐지는 곳. 달빛이 곱고 별빛이 곱다는 월성계곡은 거창의 소금강으로 신선들이 바둑을 두었다는 전설을 품고 있는 사선대, 각종 체험프로그램과 민박 등 농촌체험마을로 운영되는 월성마을,신라와 백제의 전투가 벌어졌던 장군바위, 청정함을 뽐내며 시원한 물줄기를 자랑하는 분설담,명경지수에 빠지고 싶은 강선대 등 재미있는 이야기와 절경을 즐길 수 있는 코스이다.',\n",
              "  'data_content': '<!-- 관광지정보 -->\\r\\r\\n\\t\\t\\t<h5>관광지정보</h5>\\r\\r\\n\\t\\t\\t<div class=\"edu_detail_txt\">\\r\\r\\n\\t\\t\\t\\t<table class=\"tstyle_list\">\\r\\r\\n\\t\\t\\t\\t\\t<caption>\\r\\r\\n\\t\\t\\t\\t\\t\\t<strong>거창 서출동류의 물줄기와 함께 가는길 관광지정보을 안내는 표 입니다.</strong>\\r\\r\\n\\t\\t\\t\\t\\t\\t<details>\\r\\r\\n\\t\\t\\t\\t\\t\\t\\t<summary>거창 서출동류의 물줄기와 함께 가는길 관광지정보 상세안내 각 관광지명에 따른 내용을 안내합니다</summary>\\r\\r\\n\\t\\t\\t\\t\\t\\t</details>\\r\\r\\n\\t\\t\\t\\t\\t</caption>\\r\\r\\n\\t\\t\\t\\t\\t<colgroup>\\r\\r\\n\\t\\t\\t\\t\\t\\t<col style=\"width:30%\">\\r\\r\\n\\t\\t\\t\\t\\t\\t<col style=\"width:70%\">\\r\\r\\n\\t\\t\\t\\t\\t</colgroup>\\r\\r\\n\\t\\t\\t\\t\\t<thead>\\r\\r\\n\\t\\t\\t\\t\\t\\t<tr>\\r\\r\\n\\t\\t\\t\\t\\t\\t\\t<th scope=\"col\">관광지명</th>\\r\\r\\n\\t\\t\\t\\t\\t\\t\\t<th scope=\"col\">내용</th>\\r\\r\\n\\t\\t\\t\\t\\t\\t</tr>\\r\\r\\n\\t\\t\\t\\t\\t</thead>\\r\\r\\n\\t\\t\\t\\t\\t<tbody>\\r\\r\\n\\t\\t\\t\\t\\t\\t<tr>\\r\\r\\n\\t\\t\\t\\t\\t\\t\\t<th scope=\"row\">월성계곡</th>\\r\\r\\n\\t\\t\\t\\t\\t\\t\\t<td>주변 산세가 워낙 거대해 수량이 풍부한 편이다. 계곡 물놀이와 더불어 젖은 옷과몸을 말리기에도 좋은 바위들이 있다. </td>\\r\\r\\n\\t\\t\\t\\t\\t\\t</tr>\\r\\r\\n\\t\\t\\t\\t\\t\\t<tr>\\r\\r\\n\\t\\t\\t\\t\\t\\t\\t<th scope=\"row\">강선대</th>\\r\\r\\n\\t\\t\\t\\t\\t\\t\\t<td>병곡천과 성천이 만나는 두물머리 아래 운청폭포, 덕산정 등이 월성계곡의 관문으로서 백미를 이룬다.  </td>\\r\\r\\n\\t\\t\\t\\t\\t\\t</tr>\\r\\r\\n\\t\\t\\t\\t\\t</tbody>\\r\\r\\n\\t\\t\\t\\t</table>\\r\\r\\n\\t\\t\\t</div>\\r\\r\\n\\t\\t\\t<!-- 관광지정보 -->\\r\\r\\n\\r\\r\\n\\t\\t\\t<!-- 주변맛집 -->\\r\\r\\n\\t\\t\\t<h5>주변맛집</h5>\\r\\r\\n\\t\\t\\t<div class=\"edu_detail_txt\">\\r\\r\\n\\t\\t\\t\\t<table class=\"tstyle_list\">\\r\\r\\n\\t\\t\\t\\t\\t<caption>\\r\\r\\n\\t\\t\\t\\t\\t\\t<strong>거창 서출동류의 물줄기와 함께 가는길 주변맛집을 안내는 표 입니다.</strong>\\r\\r\\n\\t\\t\\t\\t\\t\\t<details>\\r\\r\\n\\t\\t\\t\\t\\t\\t\\t<summary>거창 서출동류의 물줄기와 함께 가는길 주변맛집 상세안내 각상호명에 따른 전화번호와 주소를 안내합니다.</summary>\\r\\r\\n\\t\\t\\t\\t\\t\\t</details>\\r\\r\\n\\t\\t\\t\\t\\t</caption>\\r\\r\\n\\t\\t\\t\\t\\t<colgroup>\\r\\r\\n\\t\\t\\t\\t\\t\\t<col style=\"width:20%\">\\r\\r\\n\\t\\t\\t\\t\\t\\t<col style=\"width:20%\">\\r\\r\\n\\t\\t\\t\\t\\t\\t<col>\\r\\r\\n\\t\\t\\t\\t\\t</colgroup>\\r\\r\\n\\t\\t\\t\\t\\t<thead>\\r\\r\\n\\t\\t\\t\\t\\t\\t<tr>\\r\\r\\n\\t\\t\\t\\t\\t\\t\\t<th scope=\"col\">상호명</th>\\r\\r\\n\\t\\t\\t\\t\\t\\t\\t<th scope=\"col\">전화번호</th>\\r\\r\\n\\t\\t\\t\\t\\t\\t\\t<th scope=\"col\">주소</th>\\r\\r\\n\\t\\t\\t\\t\\t\\t</tr>\\r\\r\\n\\t\\t\\t\\t\\t</thead>\\r\\r\\n\\t\\t\\t\\t\\t<tbody>\\r\\r\\n\\t\\t\\t\\t\\t\\t<tr>\\r\\r\\n\\t\\t\\t\\t\\t\\t\\t<th scope=\"row\">민들레울</th>\\r\\r\\n\\t\\t\\t\\t\\t\\t\\t<td>011-509-1225</td>\\r\\r\\n\\t\\t\\t\\t\\t\\t\\t<td>북상면 농산리586</td>\\r\\r\\n\\t\\t\\t\\t\\t\\t</tr>\\r\\r\\n\\t\\t\\t\\t\\t\\t<tr>\\r\\r\\n\\t\\t\\t\\t\\t\\t\\t<th scope=\"row\">옥계촌</th>\\r\\r\\n\\t\\t\\t\\t\\t\\t\\t<td>055-942-5197</td>\\r\\r\\n\\t\\t\\t\\t\\t\\t\\t<td>북상면 창선리30</td>\\r\\r\\n\\t\\t\\t\\t\\t\\t</tr>\\r\\r\\n\\t\\t\\t\\t\\t\\t<tr>\\r\\r\\n\\t\\t\\t\\t\\t\\t\\t<th scope=\"row\">남덕유산대표산나물집</th>\\r\\r\\n\\t\\t\\t\\t\\t\\t\\t<td>055-944-5351</td>\\r\\r\\n\\t\\t\\t\\t\\t\\t\\t<td>북상면 월성리1710-2</td>\\r\\r\\n\\t\\t\\t\\t\\t\\t</tr>\\r\\r\\n\\t\\t\\t\\t\\t\\t<tr>\\r\\r\\n\\t\\t\\t\\t\\t\\t\\t<th scope=\"row\">아우라지가든</th>\\r\\r\\n\\t\\t\\t\\t\\t\\t\\t<td>055-942-0080</td>\\r\\r\\n\\t\\t\\t\\t\\t\\t\\t<td>북산면 농산리98-3</td>\\r\\r\\n\\t\\t\\t\\t\\t\\t</tr>\\r\\r\\n\\t\\t\\t\\t\\t\\t<tr>\\r\\r\\n\\t\\t\\t\\t\\t\\t\\t<th scope=\"row\">용회네가든</th>\\r\\r\\n\\t\\t\\t\\t\\t\\t\\t<td>055-945-0072</td>\\r\\r\\n\\t\\t\\t\\t\\t\\t\\t<td>북상면 월성리1631</td>\\r\\r\\n\\t\\t\\t\\t\\t\\t</tr>\\r\\r\\n\\r\\r\\n\\t\\t\\t\\t\\t</tbody>\\r\\r\\n\\t\\t\\t\\t</table>\\r\\r\\n\\t\\t\\t</div>\\r\\r\\n\\t\\t\\t<!-- 주변맛집 -->\\r\\r\\n\\r\\r\\n\\t\\t\\t<!-- 주변숙박 -->\\r\\r\\n\\t\\t\\t<h5>주변숙박</h5>\\r\\r\\n\\t\\t\\t<div class=\"edu_detail_txt\">\\r\\r\\n\\t\\t\\t\\t<table class=\"tstyle_list\">\\r\\r\\n\\t\\t\\t\\t\\t<caption>\\r\\r\\n\\t\\t\\t\\t\\t\\t<strong>거창 서출동류의 물줄기와 함께 가는길 주변숙박을 안내는 표 입니다.</strong>\\r\\r\\n\\t\\t\\t\\t\\t\\t<details>\\r\\r\\n\\t\\t\\t\\t\\t\\t\\t<summary>거창 서출동류의 물줄기와 함께 가는길 주변숙박 상세안내 각상호명에 따른 전화번호와 주소를 안내합니다.</summary>\\r\\r\\n\\t\\t\\t\\t\\t\\t</details>\\r\\r\\n\\t\\t\\t\\t\\t</caption>\\r\\r\\n\\t\\t\\t\\t\\t<colgroup>\\r\\r\\n\\t\\t\\t\\t\\t\\t<col style=\"width:20%\">\\r\\r\\n\\t\\t\\t\\t\\t\\t<col style=\"width:20%\">\\r\\r\\n\\t\\t\\t\\t\\t\\t<col>\\r\\r\\n\\t\\t\\t\\t\\t</colgroup>\\r\\r\\n\\t\\t\\t\\t\\t<thead>\\r\\r\\n\\t\\t\\t\\t\\t\\t<tr>\\r\\r\\n\\t\\t\\t\\t\\t\\t\\t<th scope=\"col\">상호명</th>\\r\\r\\n\\t\\t\\t\\t\\t\\t\\t<th scope=\"col\">전화번호</th>\\r\\r\\n\\t\\t\\t\\t\\t\\t\\t<th scope=\"col\">주소</th>\\r\\r\\n\\t\\t\\t\\t\\t\\t</tr>\\r\\r\\n\\t\\t\\t\\t\\t</thead>\\r\\r\\n\\t\\t\\t\\t\\t<tbody>\\r\\r\\n\\t\\t\\t\\t\\t\\t<tr>\\r\\r\\n\\t\\t\\t\\t\\t\\t\\t<th scope=\"row\">민들레울</th>\\r\\r\\n\\t\\t\\t\\t\\t\\t\\t<td>055-942-5006</td>\\r\\r\\n\\t\\t\\t\\t\\t\\t\\t<td>북상면 농산리586-1 </td>\\r\\r\\n\\t\\t\\t\\t\\t\\t</tr>\\r\\r\\n\\t\\t\\t\\t\\t\\t<tr>\\r\\r\\n\\t\\t\\t\\t\\t\\t\\t<th scope=\"row\">정편선 </th>\\r\\r\\n\\t\\t\\t\\t\\t\\t\\t<td>010-2855-0806</td>\\r\\r\\n\\t\\t\\t\\t\\t\\t\\t<td>북상면 농산리685-5</td>\\r\\r\\n\\t\\t\\t\\t\\t\\t</tr>\\r\\r\\n\\t\\t\\t\\t\\t\\t<tr>\\r\\r\\n\\t\\t\\t\\t\\t\\t\\t<th scope=\"row\">사선대향토펜션</th>\\r\\r\\n\\t\\t\\t\\t\\t\\t\\t<td>010-3568-4811</td>\\r\\r\\n\\t\\t\\t\\t\\t\\t\\t<td>북상면 월성리1643-6</td>\\r\\r\\n\\t\\t\\t\\t\\t\\t</tr>\\r\\r\\n\\t\\t\\t\\t\\t\\t<tr>\\r\\r\\n\\t\\t\\t\\t\\t\\t\\t<th scope=\"row\">주은자연휴양림</th>\\r\\r\\n\\t\\t\\t\\t\\t\\t\\t<td>055-944-5141</td>\\r\\r\\n\\t\\t\\t\\t\\t\\t\\t<td>북상면 월성리산96-1</td>\\r\\r\\n\\t\\t\\t\\t\\t\\t</tr>\\r\\r\\n\\t\\t\\t\\t\\t\\t<tr>\\r\\r\\n\\t\\t\\t\\t\\t\\t\\t<th scope=\"row\">하늘정원</th>\\r\\r\\n\\t\\t\\t\\t\\t\\t\\t<td>016-523-5267</td>\\r\\r\\n\\t\\t\\t\\t\\t\\t\\t<td>북상면 월성리1602</td>\\r\\r\\n\\t\\t\\t\\t\\t\\t</tr>\\r\\r\\n\\t\\t\\t\\t\\t</tbody>\\r\\r\\n\\t\\t\\t\\t</table>\\r\\r\\n\\t\\t\\t</div>\\r\\r\\n\\t\\t\\t<!-- 주변숙박 -->\\r\\r\\n\\r\\r\\n\\t\\t\\t<!-- 특산품 -->\\r\\r\\n\\t\\t\\t<h5>특산품</h5>\\r\\r\\n\\t\\t\\t<div class=\"edu_detail_txt\">\\r\\r\\n\\t\\t\\t\\t<table class=\"tstyle_list\">\\r\\r\\n\\t\\t\\t\\t\\t<caption>\\r\\r\\n\\t\\t\\t\\t\\t\\t<strong>거창 서출동류의 물줄기와 함께 가는길 특산품을 안내는 표 입니다.</strong>\\r\\r\\n\\t\\t\\t\\t\\t\\t<details>\\r\\r\\n\\t\\t\\t\\t\\t\\t\\t<summary>거창 서출동류의 물줄기와 함께 가는길 특산품 상세안내 각 품명에 따른 전화번호와 판매점을 안내합니다.</summary>\\r\\r\\n\\t\\t\\t\\t\\t\\t</details>\\r\\r\\n\\t\\t\\t\\t\\t</caption>\\r\\r\\n\\t\\t\\t\\t\\t<colgroup>\\r\\r\\n\\t\\t\\t\\t\\t\\t<col style=\"width:20%\">\\r\\r\\n\\t\\t\\t\\t\\t\\t<col style=\"width:20%\">\\r\\r\\n\\t\\t\\t\\t\\t\\t<col>\\r\\r\\n\\t\\t\\t\\t\\t</colgroup>\\r\\r\\n\\t\\t\\t\\t\\t<thead>\\r\\r\\n\\t\\t\\t\\t\\t\\t<tr>\\r\\r\\n\\t\\t\\t\\t\\t\\t\\t<th scope=\"col\">품명</th>\\r\\r\\n\\t\\t\\t\\t\\t\\t\\t<th scope=\"col\">전화번호</th>\\r\\r\\n\\t\\t\\t\\t\\t\\t\\t<th scope=\"col\">판매점</th>\\r\\r\\n\\t\\t\\t\\t\\t\\t</tr>\\r\\r\\n\\t\\t\\t\\t\\t</thead>\\r\\r\\n\\t\\t\\t\\t\\t<tbody>\\r\\r\\n\\t\\t\\t\\t\\t\\t<tr>\\r\\r\\n\\t\\t\\t\\t\\t\\t\\t<th scope=\"row\">못난사과</th>\\r\\r\\n\\t\\t\\t\\t\\t\\t\\t<td>055-942-0668</td>\\r\\r\\n\\t\\t\\t\\t\\t\\t\\t<td>가남운영위원회</td>\\r\\r\\n\\t\\t\\t\\t\\t\\t</tr>\\r\\r\\n\\t\\t\\t\\t\\t\\t<tr>\\r\\r\\n\\t\\t\\t\\t\\t\\t\\t<th scope=\"row\">가조미부인쌀 </th>\\r\\r\\n\\t\\t\\t\\t\\t\\t\\t<td>055-942-9884</td>\\r\\r\\n\\t\\t\\t\\t\\t\\t\\t<td>가조 가북농업협동조합 </td>\\r\\r\\n\\t\\t\\t\\t\\t\\t</tr>\\r\\r\\n\\t\\t\\t\\t\\t\\t<tr>\\r\\r\\n\\t\\t\\t\\t\\t\\t\\t<th scope=\"row\">딸기 </th>\\r\\r\\n\\t\\t\\t\\t\\t\\t\\t<td>055-940-3467</td>\\r\\r\\n\\t\\t\\t\\t\\t\\t\\t<td>거창군청 농정과  </td>\\r\\r\\n\\t\\t\\t\\t\\t\\t</tr>\\r\\r\\n\\t\\t\\t\\t\\t\\t<tr>\\r\\r\\n\\t\\t\\t\\t\\t\\t\\t<th scope=\"row\">녹용  </th>\\r\\r\\n\\t\\t\\t\\t\\t\\t\\t<td>055-940-3840</td>\\r\\r\\n\\t\\t\\t\\t\\t\\t\\t<td>가남작목반  </td>\\r\\r\\n\\t\\t\\t\\t\\t\\t</tr>\\r\\r\\n\\t\\t\\t\\t\\t\\t<tr>\\r\\r\\n\\t\\t\\t\\t\\t\\t\\t<th scope=\"row\">거창화훼 </th>\\r\\r\\n\\t\\t\\t\\t\\t\\t\\t<td>055-942-0446</td>\\r\\r\\n\\t\\t\\t\\t\\t\\t\\t<td>가조원우회영농조합 </td>\\r\\r\\n\\t\\t\\t\\t\\t\\t</tr>\\r\\r\\n\\t\\t\\t\\t\\t\\t<tr>\\r\\r\\n\\t\\t\\t\\t\\t\\t\\t<th scope=\"row\">애우(한우) </th>\\r\\r\\n\\t\\t\\t\\t\\t\\t\\t<td>055-943-9598</td>\\r\\r\\n\\t\\t\\t\\t\\t\\t\\t<td>거창축협   </td>\\r\\r\\n\\t\\t\\t\\t\\t\\t</tr>\\r\\r\\n\\t\\t\\t\\t\\t\\t<tr>\\r\\r\\n\\t\\t\\t\\t\\t\\t\\t<th scope=\"row\">황토삼백초  </th>\\r\\r\\n\\t\\t\\t\\t\\t\\t\\t<td>055-945-0075</td>\\r\\r\\n\\t\\t\\t\\t\\t\\t\\t<td>삼부농산   </td>\\r\\r\\n\\t\\t\\t\\t\\t\\t</tr>\\r\\r\\n\\t\\t\\t\\t\\t\\t<tr>\\r\\r\\n\\t\\t\\t\\t\\t\\t\\t<th scope=\"row\">명주이불솜 </th>\\r\\r\\n\\t\\t\\t\\t\\t\\t\\t<td>055-945-1333</td>\\r\\r\\n\\t\\t\\t\\t\\t\\t\\t<td>효성물산 </td>\\r\\r\\n\\t\\t\\t\\t\\t\\t</tr>\\r\\r\\n\\t\\t\\t\\t\\r\\r\\n\\t\\t\\t\\t\\t</tbody>\\r\\r\\n\\t\\t\\t\\t</table>\\r\\r\\n\\t\\t\\t</div>\\r\\r\\n\\t\\t\\t<!-- 특산품 -->\\r\\r\\n\\r\\r\\n\\t\\t\\t<!-- 재래시장 -->\\r\\r\\n\\t\\t\\t<h5>재래시장</h5>\\r\\r\\n\\t\\t\\t<div class=\"edu_detail_txt\">\\r\\r\\n\\t\\t\\t\\t<table class=\"tstyle_list\">\\r\\r\\n\\t\\t\\t\\t\\t<caption>\\r\\r\\n\\t\\t\\t\\t\\t\\t<strong>거창 서출동류의 물줄기와 함께 가는길 재래시장을 안내는 표 입니다.</strong>\\r\\r\\n\\t\\t\\t\\t\\t\\t<details>\\r\\r\\n\\t\\t\\t\\t\\t\\t\\t<summary>거창 서출동류의 물줄기와 함께 가는길 재래시장 상세안내 거창시장에 따른 전화번호, 주소, 설명을 안내합니다.</summary>\\r\\r\\n\\t\\t\\t\\t\\t\\t</details>\\r\\r\\n\\t\\t\\t\\t\\t</caption>\\r\\r\\n\\t\\t\\t\\t\\t<colgroup>\\r\\r\\n\\t\\t\\t\\t\\t\\t<col style=\"width:20%\">\\r\\r\\n\\t\\t\\t\\t\\t\\t<col style=\"width:20%\">\\r\\r\\n\\t\\t\\t\\t\\t\\t<col>\\r\\r\\n\\t\\t\\t\\t\\t\\t<col>\\r\\r\\n\\t\\t\\t\\t\\t</colgroup>\\r\\r\\n\\t\\t\\t\\t\\t<thead>\\r\\r\\n\\t\\t\\t\\t\\t\\t<tr>\\r\\r\\n\\t\\t\\t\\t\\t\\t\\t<th scope=\"col\">시장명</th>\\r\\r\\n\\t\\t\\t\\t\\t\\t\\t<th scope=\"col\">전화번호</th>\\r\\r\\n\\t\\t\\t\\t\\t\\t\\t<th scope=\"col\">주소</th>\\r\\r\\n\\t\\t\\t\\t\\t\\t\\t<th scope=\"col\">설명</th>\\r\\r\\n\\t\\t\\t\\t\\t\\t</tr>\\r\\r\\n\\t\\t\\t\\t\\t</thead>\\r\\r\\n\\t\\t\\t\\t\\t<tbody>\\r\\r\\n\\t\\t\\t\\t\\t\\t<tr>\\r\\r\\n\\t\\t\\t\\t\\t\\t\\t<th scope=\"row\">거창시장</th>\\r\\r\\n\\t\\t\\t\\t\\t\\t\\t<td>055-934-2581</td>\\r\\r\\n\\t\\t\\t\\t\\t\\t\\t<td>경상남도 거창군 거창읍 중앙리 122-1 </td>\\r\\r\\n\\t\\t\\t\\t\\t\\t\\t<td>1982년 개설된 상가건물형의 중형시장으로 장날은 매월 1일, 6일.</td>\\r\\r\\n\\t\\t\\t\\t\\t\\t</tr>\\r\\r\\n\\t\\t\\t\\t\\t\\r\\r\\n\\t\\t\\t\\t\\t</tbody>\\r\\r\\n\\t\\t\\t\\t</table>\\r\\r\\n\\t\\t\\t</div>\\r\\r\\n\\t\\t\\t<!-- 재래시장 -->\\r\\r\\n\\r\\r\\n\\t\\t\\t<!-- 축제/행사 -->\\r\\r\\n\\t\\t\\t<h5>축제/행사</h5>\\r\\r\\n\\t\\t\\t<div class=\"edu_detail_txt\">\\r\\r\\n\\t\\t\\t\\t<table class=\"tstyle_list\">\\r\\r\\n\\t\\t\\t\\t\\t<caption>\\r\\r\\n\\t\\t\\t\\t\\t\\t<strong>거창 서출동류의 물줄기와 함께 가는길 축제/행사을 안내는 표 입니다.</strong>\\r\\r\\n\\t\\t\\t\\t\\t\\t<details>\\r\\r\\n\\t\\t\\t\\t\\t\\t\\t<summary>거창 서출동류의 물줄기와 함께 가는길 축제/행사 상세안내 각 축제명에 따른 축제기간, 장소, 홈페이지링크를 안내합니다.</summary>\\r\\r\\n\\t\\t\\t\\t\\t\\t</details>\\r\\r\\n\\t\\t\\t\\t\\t</caption>\\r\\r\\n\\t\\t\\t\\t\\t<colgroup>\\r\\r\\n\\t\\t\\t\\t\\t\\t<col style=\"width:20%\">\\r\\r\\n\\t\\t\\t\\t\\t\\t<col style=\"width:20%\">\\r\\r\\n\\t\\t\\t\\t\\t\\t<col>\\r\\r\\n\\t\\t\\t\\t\\t\\t<col>\\r\\r\\n\\t\\t\\t\\t\\t</colgroup>\\r\\r\\n\\t\\t\\t\\t\\t<thead>\\r\\r\\n\\t\\t\\t\\t\\t\\t<tr>\\r\\r\\n\\t\\t\\t\\t\\t\\t\\t<th scope=\"col\">축제명</th>\\r\\r\\n\\t\\t\\t\\t\\t\\t\\t<th scope=\"col\">축제기간</th>\\r\\r\\n\\t\\t\\t\\t\\t\\t\\t<th scope=\"col\">장소</th>\\r\\r\\n\\t\\t\\t\\t\\t\\t\\t<th scope=\"col\">홈페이지</th>\\r\\r\\n\\t\\t\\t\\t\\t\\t</tr>\\r\\r\\n\\t\\t\\t\\t\\t</thead>\\r\\r\\n\\t\\t\\t\\t\\t<tbody>\\r\\r\\n\\t\\t\\t\\t\\t\\t<tr>\\r\\r\\n\\t\\t\\t\\t\\t\\t\\t<th scope=\"row\">거창사과마라톤대회</th>\\r\\r\\n\\t\\t\\t\\t\\t\\t\\t<td>10월중 </td>\\r\\r\\n\\t\\t\\t\\t\\t\\t\\t<td>경남 거창군 거창스포츠파크 주경기장</td>\\r\\r\\n\\t\\t\\t\\t\\t\\t\\t<td><a href=\"http://www.gafmarathon.com/\" target=\"_blank\" title=\"거창사과마라톤대회 새창열림\"> 홈페이지 바로가기</a></td>\\r\\r\\n\\t\\t\\t\\t\\t\\t</tr>\\r\\r\\n\\t\\t\\t\\t\\t\\t<tr>\\r\\r\\n\\t\\t\\t\\t\\t\\t\\t<th scope=\"row\">거창국제연극제</th>\\r\\r\\n\\t\\t\\t\\t\\t\\t\\t<td>7월~8월중 </td>\\r\\r\\n\\t\\t\\t\\t\\t\\t\\t<td>경남 거창군 수승대 일원 야외극장 등</td>\\r\\r\\n\\t\\t\\t\\t\\t\\t\\t<td><a href=\"http://www.kift.or.kr/\" target=\"_blank\" title=\"거창국제연극제 새창열림\"> 홈페이지 바로가기</a></td>\\r\\r\\n\\t\\t\\t\\t\\t\\t</tr>\\r\\r\\n\\t\\t\\t\\t\\t\\t<tr>\\r\\r\\n\\t\\t\\t\\t\\t\\t\\t<th scope=\"row\">거창덕유산하늘마을고로쇠축제</th>\\r\\r\\n\\t\\t\\t\\t\\t\\t\\t<td>3월중</td>\\r\\r\\n\\t\\t\\t\\t\\t\\t\\t<td>경남 거창군 북상초등학교</td>\\r\\r\\n\\t\\t\\t\\t\\t\\t\\t<td><a href=\"http://www.gorosoe.or.kr/\" target=\"_blank\" title=\"거창덕유산하늘마을고로쇠축제 새창열림\"> 홈페이지 바로가기</a></td>\\r\\r\\n\\t\\t\\t\\t\\t\\t</tr>\\r\\r\\n\\t\\t\\t\\t\\t\\t<tr>\\r\\r\\n\\t\\t\\t\\t\\t\\t\\t<th scope=\"row\">금원산고로쇠축제</th>\\r\\r\\n\\t\\t\\t\\t\\t\\t\\t<td>3월중</td>\\r\\r\\n\\t\\t\\t\\t\\t\\t\\t<td>경남 거창군 금원산자연휴양림</td>\\r\\r\\n\\t\\t\\t\\t\\t\\t\\t<td><a href=\"http://www.greencamp.go.kr/Board/BoardRead.asp?bid=Board_Notice&amp;no=47\" target=\"_blank\" title=\"금원산고로쇠축제 새창열림\"> 홈페이지 바로가기</a></td>\\r\\r\\n\\t\\t\\t\\t\\t\\t</tr>\\r\\r\\n\\t\\t\\t\\t\\t</tbody>\\r\\r\\n\\t\\t\\t\\t</table>\\r\\r\\n\\t\\t\\t</div>\\r\\r\\n\\t\\t\\t<!-- 축제/행사 -->',\n",
              "  'data_title': '거창 서출동류의 물줄기와 함께 가는길',\n",
              "  'fileurl1': 'https://www.gyeongnam.go.kr/upload_data/board_data/BBS_0002006/24_01.jpg',\n",
              "  'fileurl2': 'https://www.gyeongnam.go.kr/upload_data/board_data/BBS_0002006/24_02.jpg',\n",
              "  'fileurl3': 'https://www.gyeongnam.go.kr/upload_data/board_data/BBS_0002006/24_03.jpg',\n",
              "  'fileurl4': 'https://www.gyeongnam.go.kr/upload_data/board_data/BBS_0002006/24_04.jpg',\n",
              "  'fileurl5': 'https://www.gyeongnam.go.kr/upload_data/board_data/BBS_0002006/24_06.jpg',\n",
              "  'insttnm': '거창 관광안내소 : 거창읍 대평리 1298-1 T. 055-944-5599 \\r\\r\\n거창군 문화관광과 : 거창읍 중앙로 103 T. 055-940-3420',\n",
              "  'roadlength': '약 11km',\n",
              "  'roadroute': '북상면사무소 -> 숲옛마을 -> 민들레올 -> 분설담 -> 주은자연휴양림 -> 사선대 -> 북상면 황점마을',\n",
              "  'roadtime': '약 3~4시간',\n",
              "  'traffic': '대중교통 : 거창시내버스터미널 위천. 북상방면 버스이용\\r\\r\\n자동차 : 88고속도로 --> 거창IC --> 3번국도 마리방향 --> 위천(수승대) --> 북상면 사무소',\n",
              "  'videoinfo': '덕유산 삿갓골 샘에서 발원한 물줄기가 이색적이게도 서쪽에서 동쪽으로 굽이치는 곳, 거창 서출동류 물줄기와 함께하는 길로 떠나볼까요? 길의 중심에는 해발 600미터, 달빛과 별빛마저 마을로 내려온다는 월성마을이 자리하고 있는데요. 마을 품 안으로는 거창의 소금강이라고 불리는 월성계곡이 관통하고 있어, 자연 속으로 더욱 깊이 다가갈 수 있습니다. 그 옛날, 화가들의 걸음을 멈추게 했던 절경은 지금도 변함없이 방문객들의 시선을 붙드는데요. 계곡 마디마디마다 신선이 노닐다 갔다는 전설이 풍성하게 흘러 넘칠 만큼, 빼어난 풍광을 자랑합니다. 특히, 너럭바위가 인상적인 사선대는 신선이 바둑을 두었다고 할 만큼 신비함과 호젓함을 동시에 품고 있는 최고의 명소인데요. (물 흐르는 모양이 마치 눈이 흩날리는 모습 같다 해서 이름 붙여진 분설담, 그 위쪽으로 당당한 위풍의 장군바위도 방문객들을 반깁니다.) 자연이 빚고, 신선이 노닐었던, 이제는 사람의 발길을 기다리는 곳. 거창 서출동류의 물줄기와 함께 하는 길에서, 깊고 진한 휴식을 맛보세요.',\n",
              "  'videourl': 'https://www.youtube.com/embed/sgWqB2K9H1c',\n",
              "  'view_count': 607}]"
            ]
          },
          "metadata": {},
          "execution_count": 13
        }
      ]
    },
    {
      "cell_type": "code",
      "source": [
        "import pandas as pd"
      ],
      "metadata": {
        "id": "Uhs4ofUq6n2c"
      },
      "execution_count": 14,
      "outputs": []
    },
    {
      "cell_type": "code",
      "source": [
        "courseinfo = [item['courseinfo']for item in items]\n",
        "roadlength = [item['roadlength']for item in items]\n",
        "roadroute = [item['roadroute']for item in items]\n",
        "roadtime = [item['roadtime']for item in items]\n",
        "\n",
        "courseinfo = pd.Series(courseinfo)\n",
        "roadlength = pd.Series(roadlength)\n",
        "roadroute = pd.Series(roadroute)\n",
        "roadtime = pd.Series(roadtime)\n",
        "\n",
        "df = pd.DataFrame({ 'courseinfo': courseinfo, 'roadlength': roadlength, 'roadroute': roadroute, 'roadtime': roadtime})"
      ],
      "metadata": {
        "id": "mBCAYxxI3Z0W"
      },
      "execution_count": 35,
      "outputs": []
    },
    {
      "cell_type": "code",
      "source": [
        "df"
      ],
      "metadata": {
        "colab": {
          "base_uri": "https://localhost:8080/",
          "height": 288
        },
        "id": "MQmBaQW06uxJ",
        "outputId": "9b1087ae-76e3-4967-da6f-8b192995da31"
      },
      "execution_count": 29,
      "outputs": [
        {
          "output_type": "execute_result",
          "data": {
            "text/plain": [
              "                                          courseinfo roadlength  \\\n",
              "0  홍류동 계곡의 비경과 자연의 숨소리를 들으며 소리길을 느껴보세요. \\r\\r\\n‘해인...      약 6km   \n",
              "1  다양한 수목 군락지를 만날 수 있는 골골이 많은 전설을 지닌 자굴산 \\r\\r\\n둘레...    약 3.7km   \n",
              "2  암자들을 하나하나 둘러보며 천년의 역사를 느낄 수 있는 곳! 가야산 남쪽 자락에 자...     약 16km   \n",
              "3  남덕유산 삿갓골샘 아랫마을, 황점마을에서 이어지는 이 길은 월성계곡의 아름다운 풍광...     약 11km   \n",
              "\n",
              "                                           roadroute   roadtime  \\\n",
              "0                         대장경문화축전주차장 -> 대장경천년문화축전주차장      약 2시간   \n",
              "1  쇠목재-->절터샘-->전망대--> 달분재--> 베틀바위-->자굴산 정상-->쇠목재(...   약 3시간20분   \n",
              "2  대장경천년문화축전주행사장 (주차장) -> 홍제암 -> 가야산대피소 -> 학사대 ->...  약 5시간 20분   \n",
              "3  북상면사무소 -> 숲옛마을 -> 민들레올 -> 분설담 -> 주은자연휴양림 -> 사선...    약 3~4시간   \n",
              "\n",
              "                                             traffic  \n",
              "0  대중교통 \\r\\r\\n- 서울(고속버스터미널) -> 대구 -> 서부시외버스터미널 ->...  \n",
              "1  대중교통 : 의령시외버스터미널에서 가례면 갑을리, 칠곡면 내조리 방면농어촌마을버스 ...  \n",
              "2  대중교통\\r\\r\\n서울 (고속버스터미널)(수시) → 대구 → 서부시외버스터미널에서 ...  \n",
              "3  대중교통 : 거창시내버스터미널 위천. 북상방면 버스이용\\r\\r\\n자동차 : 88고속...  "
            ],
            "text/html": [
              "\n",
              "  <div id=\"df-e82c959e-898a-4371-9877-16ac38da9d1d\">\n",
              "    <div class=\"colab-df-container\">\n",
              "      <div>\n",
              "<style scoped>\n",
              "    .dataframe tbody tr th:only-of-type {\n",
              "        vertical-align: middle;\n",
              "    }\n",
              "\n",
              "    .dataframe tbody tr th {\n",
              "        vertical-align: top;\n",
              "    }\n",
              "\n",
              "    .dataframe thead th {\n",
              "        text-align: right;\n",
              "    }\n",
              "</style>\n",
              "<table border=\"1\" class=\"dataframe\">\n",
              "  <thead>\n",
              "    <tr style=\"text-align: right;\">\n",
              "      <th></th>\n",
              "      <th>courseinfo</th>\n",
              "      <th>roadlength</th>\n",
              "      <th>roadroute</th>\n",
              "      <th>roadtime</th>\n",
              "      <th>traffic</th>\n",
              "    </tr>\n",
              "  </thead>\n",
              "  <tbody>\n",
              "    <tr>\n",
              "      <th>0</th>\n",
              "      <td>홍류동 계곡의 비경과 자연의 숨소리를 들으며 소리길을 느껴보세요. \\r\\r\\n‘해인...</td>\n",
              "      <td>약 6km</td>\n",
              "      <td>대장경문화축전주차장 -&gt; 대장경천년문화축전주차장</td>\n",
              "      <td>약 2시간</td>\n",
              "      <td>대중교통 \\r\\r\\n- 서울(고속버스터미널) -&gt; 대구 -&gt; 서부시외버스터미널 -&gt;...</td>\n",
              "    </tr>\n",
              "    <tr>\n",
              "      <th>1</th>\n",
              "      <td>다양한 수목 군락지를 만날 수 있는 골골이 많은 전설을 지닌 자굴산 \\r\\r\\n둘레...</td>\n",
              "      <td>약 3.7km</td>\n",
              "      <td>쇠목재--&gt;절터샘--&gt;전망대--&gt; 달분재--&gt; 베틀바위--&gt;자굴산 정상--&gt;쇠목재(...</td>\n",
              "      <td>약 3시간20분</td>\n",
              "      <td>대중교통 : 의령시외버스터미널에서 가례면 갑을리, 칠곡면 내조리 방면농어촌마을버스 ...</td>\n",
              "    </tr>\n",
              "    <tr>\n",
              "      <th>2</th>\n",
              "      <td>암자들을 하나하나 둘러보며 천년의 역사를 느낄 수 있는 곳! 가야산 남쪽 자락에 자...</td>\n",
              "      <td>약 16km</td>\n",
              "      <td>대장경천년문화축전주행사장 (주차장) -&gt; 홍제암 -&gt; 가야산대피소 -&gt; 학사대 -&gt;...</td>\n",
              "      <td>약 5시간 20분</td>\n",
              "      <td>대중교통\\r\\r\\n서울 (고속버스터미널)(수시) → 대구 → 서부시외버스터미널에서 ...</td>\n",
              "    </tr>\n",
              "    <tr>\n",
              "      <th>3</th>\n",
              "      <td>남덕유산 삿갓골샘 아랫마을, 황점마을에서 이어지는 이 길은 월성계곡의 아름다운 풍광...</td>\n",
              "      <td>약 11km</td>\n",
              "      <td>북상면사무소 -&gt; 숲옛마을 -&gt; 민들레올 -&gt; 분설담 -&gt; 주은자연휴양림 -&gt; 사선...</td>\n",
              "      <td>약 3~4시간</td>\n",
              "      <td>대중교통 : 거창시내버스터미널 위천. 북상방면 버스이용\\r\\r\\n자동차 : 88고속...</td>\n",
              "    </tr>\n",
              "  </tbody>\n",
              "</table>\n",
              "</div>\n",
              "      <button class=\"colab-df-convert\" onclick=\"convertToInteractive('df-e82c959e-898a-4371-9877-16ac38da9d1d')\"\n",
              "              title=\"Convert this dataframe to an interactive table.\"\n",
              "              style=\"display:none;\">\n",
              "        \n",
              "  <svg xmlns=\"http://www.w3.org/2000/svg\" height=\"24px\"viewBox=\"0 0 24 24\"\n",
              "       width=\"24px\">\n",
              "    <path d=\"M0 0h24v24H0V0z\" fill=\"none\"/>\n",
              "    <path d=\"M18.56 5.44l.94 2.06.94-2.06 2.06-.94-2.06-.94-.94-2.06-.94 2.06-2.06.94zm-11 1L8.5 8.5l.94-2.06 2.06-.94-2.06-.94L8.5 2.5l-.94 2.06-2.06.94zm10 10l.94 2.06.94-2.06 2.06-.94-2.06-.94-.94-2.06-.94 2.06-2.06.94z\"/><path d=\"M17.41 7.96l-1.37-1.37c-.4-.4-.92-.59-1.43-.59-.52 0-1.04.2-1.43.59L10.3 9.45l-7.72 7.72c-.78.78-.78 2.05 0 2.83L4 21.41c.39.39.9.59 1.41.59.51 0 1.02-.2 1.41-.59l7.78-7.78 2.81-2.81c.8-.78.8-2.07 0-2.86zM5.41 20L4 18.59l7.72-7.72 1.47 1.35L5.41 20z\"/>\n",
              "  </svg>\n",
              "      </button>\n",
              "      \n",
              "  <style>\n",
              "    .colab-df-container {\n",
              "      display:flex;\n",
              "      flex-wrap:wrap;\n",
              "      gap: 12px;\n",
              "    }\n",
              "\n",
              "    .colab-df-convert {\n",
              "      background-color: #E8F0FE;\n",
              "      border: none;\n",
              "      border-radius: 50%;\n",
              "      cursor: pointer;\n",
              "      display: none;\n",
              "      fill: #1967D2;\n",
              "      height: 32px;\n",
              "      padding: 0 0 0 0;\n",
              "      width: 32px;\n",
              "    }\n",
              "\n",
              "    .colab-df-convert:hover {\n",
              "      background-color: #E2EBFA;\n",
              "      box-shadow: 0px 1px 2px rgba(60, 64, 67, 0.3), 0px 1px 3px 1px rgba(60, 64, 67, 0.15);\n",
              "      fill: #174EA6;\n",
              "    }\n",
              "\n",
              "    [theme=dark] .colab-df-convert {\n",
              "      background-color: #3B4455;\n",
              "      fill: #D2E3FC;\n",
              "    }\n",
              "\n",
              "    [theme=dark] .colab-df-convert:hover {\n",
              "      background-color: #434B5C;\n",
              "      box-shadow: 0px 1px 3px 1px rgba(0, 0, 0, 0.15);\n",
              "      filter: drop-shadow(0px 1px 2px rgba(0, 0, 0, 0.3));\n",
              "      fill: #FFFFFF;\n",
              "    }\n",
              "  </style>\n",
              "\n",
              "      <script>\n",
              "        const buttonEl =\n",
              "          document.querySelector('#df-e82c959e-898a-4371-9877-16ac38da9d1d button.colab-df-convert');\n",
              "        buttonEl.style.display =\n",
              "          google.colab.kernel.accessAllowed ? 'block' : 'none';\n",
              "\n",
              "        async function convertToInteractive(key) {\n",
              "          const element = document.querySelector('#df-e82c959e-898a-4371-9877-16ac38da9d1d');\n",
              "          const dataTable =\n",
              "            await google.colab.kernel.invokeFunction('convertToInteractive',\n",
              "                                                     [key], {});\n",
              "          if (!dataTable) return;\n",
              "\n",
              "          const docLinkHtml = 'Like what you see? Visit the ' +\n",
              "            '<a target=\"_blank\" href=https://colab.research.google.com/notebooks/data_table.ipynb>data table notebook</a>'\n",
              "            + ' to learn more about interactive tables.';\n",
              "          element.innerHTML = '';\n",
              "          dataTable['output_type'] = 'display_data';\n",
              "          await google.colab.output.renderOutput(dataTable, element);\n",
              "          const docLink = document.createElement('div');\n",
              "          docLink.innerHTML = docLinkHtml;\n",
              "          element.appendChild(docLink);\n",
              "        }\n",
              "      </script>\n",
              "    </div>\n",
              "  </div>\n",
              "  "
            ]
          },
          "metadata": {},
          "execution_count": 29
        }
      ]
    },
    {
      "cell_type": "code",
      "source": [
        "!pip install gradio\n",
        "import gradio as gr"
      ],
      "metadata": {
        "colab": {
          "base_uri": "https://localhost:8080/"
        },
        "id": "_TH6Mbws629s",
        "outputId": "51328a01-0d13-4617-c707-d745d13a7bdc"
      },
      "execution_count": 30,
      "outputs": [
        {
          "output_type": "stream",
          "name": "stdout",
          "text": [
            "Requirement already satisfied: gradio in /usr/local/lib/python3.7/dist-packages (2.9.1)\n",
            "Requirement already satisfied: pydub in /usr/local/lib/python3.7/dist-packages (from gradio) (0.25.1)\n",
            "Requirement already satisfied: uvicorn in /usr/local/lib/python3.7/dist-packages (from gradio) (0.17.6)\n",
            "Requirement already satisfied: pandas in /usr/local/lib/python3.7/dist-packages (from gradio) (1.3.5)\n",
            "Requirement already satisfied: analytics-python in /usr/local/lib/python3.7/dist-packages (from gradio) (1.4.0)\n",
            "Requirement already satisfied: pillow in /usr/local/lib/python3.7/dist-packages (from gradio) (7.1.2)\n",
            "Requirement already satisfied: numpy in /usr/local/lib/python3.7/dist-packages (from gradio) (1.21.5)\n",
            "Requirement already satisfied: python-multipart in /usr/local/lib/python3.7/dist-packages (from gradio) (0.0.5)\n",
            "Requirement already satisfied: markdown-it-py[linkify,plugins] in /usr/local/lib/python3.7/dist-packages (from gradio) (2.0.1)\n",
            "Requirement already satisfied: fastapi in /usr/local/lib/python3.7/dist-packages (from gradio) (0.75.1)\n",
            "Requirement already satisfied: requests in /usr/local/lib/python3.7/dist-packages (from gradio) (2.23.0)\n",
            "Requirement already satisfied: aiohttp in /usr/local/lib/python3.7/dist-packages (from gradio) (3.8.1)\n",
            "Requirement already satisfied: matplotlib in /usr/local/lib/python3.7/dist-packages (from gradio) (3.2.2)\n",
            "Requirement already satisfied: pycryptodome in /usr/local/lib/python3.7/dist-packages (from gradio) (3.14.1)\n",
            "Requirement already satisfied: ffmpy in /usr/local/lib/python3.7/dist-packages (from gradio) (0.3.0)\n",
            "Requirement already satisfied: orjson in /usr/local/lib/python3.7/dist-packages (from gradio) (3.6.7)\n",
            "Requirement already satisfied: paramiko in /usr/local/lib/python3.7/dist-packages (from gradio) (2.10.3)\n",
            "Requirement already satisfied: asynctest==0.13.0 in /usr/local/lib/python3.7/dist-packages (from aiohttp->gradio) (0.13.0)\n",
            "Requirement already satisfied: attrs>=17.3.0 in /usr/local/lib/python3.7/dist-packages (from aiohttp->gradio) (21.4.0)\n",
            "Requirement already satisfied: typing-extensions>=3.7.4 in /usr/local/lib/python3.7/dist-packages (from aiohttp->gradio) (3.10.0.2)\n",
            "Requirement already satisfied: yarl<2.0,>=1.0 in /usr/local/lib/python3.7/dist-packages (from aiohttp->gradio) (1.7.2)\n",
            "Requirement already satisfied: async-timeout<5.0,>=4.0.0a3 in /usr/local/lib/python3.7/dist-packages (from aiohttp->gradio) (4.0.2)\n",
            "Requirement already satisfied: aiosignal>=1.1.2 in /usr/local/lib/python3.7/dist-packages (from aiohttp->gradio) (1.2.0)\n",
            "Requirement already satisfied: multidict<7.0,>=4.5 in /usr/local/lib/python3.7/dist-packages (from aiohttp->gradio) (6.0.2)\n",
            "Requirement already satisfied: charset-normalizer<3.0,>=2.0 in /usr/local/lib/python3.7/dist-packages (from aiohttp->gradio) (2.0.12)\n",
            "Requirement already satisfied: frozenlist>=1.1.1 in /usr/local/lib/python3.7/dist-packages (from aiohttp->gradio) (1.3.0)\n",
            "Requirement already satisfied: idna>=2.0 in /usr/local/lib/python3.7/dist-packages (from yarl<2.0,>=1.0->aiohttp->gradio) (2.10)\n",
            "Requirement already satisfied: monotonic>=1.5 in /usr/local/lib/python3.7/dist-packages (from analytics-python->gradio) (1.6)\n",
            "Requirement already satisfied: backoff==1.10.0 in /usr/local/lib/python3.7/dist-packages (from analytics-python->gradio) (1.10.0)\n",
            "Requirement already satisfied: six>=1.5 in /usr/local/lib/python3.7/dist-packages (from analytics-python->gradio) (1.15.0)\n",
            "Requirement already satisfied: python-dateutil>2.1 in /usr/local/lib/python3.7/dist-packages (from analytics-python->gradio) (2.8.2)\n",
            "Requirement already satisfied: chardet<4,>=3.0.2 in /usr/local/lib/python3.7/dist-packages (from requests->gradio) (3.0.4)\n",
            "Requirement already satisfied: urllib3!=1.25.0,!=1.25.1,<1.26,>=1.21.1 in /usr/local/lib/python3.7/dist-packages (from requests->gradio) (1.24.3)\n",
            "Requirement already satisfied: certifi>=2017.4.17 in /usr/local/lib/python3.7/dist-packages (from requests->gradio) (2021.10.8)\n",
            "Requirement already satisfied: pydantic!=1.7,!=1.7.1,!=1.7.2,!=1.7.3,!=1.8,!=1.8.1,<2.0.0,>=1.6.2 in /usr/local/lib/python3.7/dist-packages (from fastapi->gradio) (1.9.0)\n",
            "Requirement already satisfied: starlette==0.17.1 in /usr/local/lib/python3.7/dist-packages (from fastapi->gradio) (0.17.1)\n",
            "Requirement already satisfied: anyio<4,>=3.0.0 in /usr/local/lib/python3.7/dist-packages (from starlette==0.17.1->fastapi->gradio) (3.5.0)\n",
            "Requirement already satisfied: sniffio>=1.1 in /usr/local/lib/python3.7/dist-packages (from anyio<4,>=3.0.0->starlette==0.17.1->fastapi->gradio) (1.2.0)\n",
            "Requirement already satisfied: mdurl~=0.1 in /usr/local/lib/python3.7/dist-packages (from markdown-it-py[linkify,plugins]->gradio) (0.1.0)\n",
            "Requirement already satisfied: linkify-it-py~=1.0 in /usr/local/lib/python3.7/dist-packages (from markdown-it-py[linkify,plugins]->gradio) (1.0.3)\n",
            "Requirement already satisfied: mdit-py-plugins in /usr/local/lib/python3.7/dist-packages (from markdown-it-py[linkify,plugins]->gradio) (0.3.0)\n",
            "Requirement already satisfied: uc-micro-py in /usr/local/lib/python3.7/dist-packages (from linkify-it-py~=1.0->markdown-it-py[linkify,plugins]->gradio) (1.0.1)\n",
            "Requirement already satisfied: kiwisolver>=1.0.1 in /usr/local/lib/python3.7/dist-packages (from matplotlib->gradio) (1.4.0)\n",
            "Requirement already satisfied: cycler>=0.10 in /usr/local/lib/python3.7/dist-packages (from matplotlib->gradio) (0.11.0)\n",
            "Requirement already satisfied: pyparsing!=2.0.4,!=2.1.2,!=2.1.6,>=2.0.1 in /usr/local/lib/python3.7/dist-packages (from matplotlib->gradio) (3.0.7)\n",
            "Requirement already satisfied: pytz>=2017.3 in /usr/local/lib/python3.7/dist-packages (from pandas->gradio) (2018.9)\n",
            "Requirement already satisfied: bcrypt>=3.1.3 in /usr/local/lib/python3.7/dist-packages (from paramiko->gradio) (3.2.0)\n",
            "Requirement already satisfied: cryptography>=2.5 in /usr/local/lib/python3.7/dist-packages (from paramiko->gradio) (36.0.2)\n",
            "Requirement already satisfied: pynacl>=1.0.1 in /usr/local/lib/python3.7/dist-packages (from paramiko->gradio) (1.5.0)\n",
            "Requirement already satisfied: cffi>=1.1 in /usr/local/lib/python3.7/dist-packages (from bcrypt>=3.1.3->paramiko->gradio) (1.15.0)\n",
            "Requirement already satisfied: pycparser in /usr/local/lib/python3.7/dist-packages (from cffi>=1.1->bcrypt>=3.1.3->paramiko->gradio) (2.21)\n",
            "Requirement already satisfied: asgiref>=3.4.0 in /usr/local/lib/python3.7/dist-packages (from uvicorn->gradio) (3.5.0)\n",
            "Requirement already satisfied: h11>=0.8 in /usr/local/lib/python3.7/dist-packages (from uvicorn->gradio) (0.13.0)\n",
            "Requirement already satisfied: click>=7.0 in /usr/local/lib/python3.7/dist-packages (from uvicorn->gradio) (7.1.2)\n"
          ]
        }
      ]
    },
    {
      "cell_type": "code",
      "source": [
        "def test(도) : \n",
        "  URL = ('http://apis.data.go.kr/6480000/gyeongnamwalklikeroad/gyeongnamwalklikeroadlist?numOfRows=4&pageNo=4&resultType=JSON&serviceKey=AO81GUzjo2gtReYyN8KfVO86KyonMF4a7NXwz6n8pEzlRZuQbf84pfK6kazp8B0TPkJUWI%2FqbHND%2F40PbDwUVg%3D%3D')\n",
        "\n",
        "  response = requests.get(URL)\n",
        "  r = response.json()\n",
        "  items = r['gyeongnamwalklikeroadlist']['item']\n",
        "\n",
        "  courseinfo = [item['courseinfo']for item in items]\n",
        "  roadlength = [item['roadlength']for item in items]\n",
        "  roadroute = [item['roadroute']for item in items]\n",
        "  roadtime = [item['roadtime']for item in items]\n",
        "\n",
        "  courseinfo = pd.Series(courseinfo)\n",
        "  roadlength = pd.Series(roadlength)\n",
        "  roadroute = pd.Series(roadroute)\n",
        "  roadtime = pd.Series(roadtime)\n",
        "\n",
        "  df = pd.DataFrame({ 'courseinfo': courseinfo, 'roadlength': roadlength, 'roadroute': roadroute, 'roadtime': roadtime})\n",
        "  return df\n"
      ],
      "metadata": {
        "id": "NjcHYFoT74ng"
      },
      "execution_count": 39,
      "outputs": []
    },
    {
      "cell_type": "code",
      "source": [
        "df"
      ],
      "metadata": {
        "colab": {
          "base_uri": "https://localhost:8080/",
          "height": 174
        },
        "id": "Rcbu-5Cj-2RT",
        "outputId": "e0e99e97-cd2b-4eea-928a-8dccb33794fc"
      },
      "execution_count": 40,
      "outputs": [
        {
          "output_type": "execute_result",
          "data": {
            "text/plain": [
              "                                          courseinfo roadlength  \\\n",
              "0  홍류동 계곡의 비경과 자연의 숨소리를 들으며 소리길을 느껴보세요. \\r\\r\\n‘해인...      약 6km   \n",
              "1  다양한 수목 군락지를 만날 수 있는 골골이 많은 전설을 지닌 자굴산 \\r\\r\\n둘레...    약 3.7km   \n",
              "2  암자들을 하나하나 둘러보며 천년의 역사를 느낄 수 있는 곳! 가야산 남쪽 자락에 자...     약 16km   \n",
              "3  남덕유산 삿갓골샘 아랫마을, 황점마을에서 이어지는 이 길은 월성계곡의 아름다운 풍광...     약 11km   \n",
              "\n",
              "                                           roadroute   roadtime  \n",
              "0                         대장경문화축전주차장 -> 대장경천년문화축전주차장      약 2시간  \n",
              "1  쇠목재-->절터샘-->전망대--> 달분재--> 베틀바위-->자굴산 정상-->쇠목재(...   약 3시간20분  \n",
              "2  대장경천년문화축전주행사장 (주차장) -> 홍제암 -> 가야산대피소 -> 학사대 ->...  약 5시간 20분  \n",
              "3  북상면사무소 -> 숲옛마을 -> 민들레올 -> 분설담 -> 주은자연휴양림 -> 사선...    약 3~4시간  "
            ],
            "text/html": [
              "\n",
              "  <div id=\"df-12eb4f56-fd83-4755-a235-942ec24d124b\">\n",
              "    <div class=\"colab-df-container\">\n",
              "      <div>\n",
              "<style scoped>\n",
              "    .dataframe tbody tr th:only-of-type {\n",
              "        vertical-align: middle;\n",
              "    }\n",
              "\n",
              "    .dataframe tbody tr th {\n",
              "        vertical-align: top;\n",
              "    }\n",
              "\n",
              "    .dataframe thead th {\n",
              "        text-align: right;\n",
              "    }\n",
              "</style>\n",
              "<table border=\"1\" class=\"dataframe\">\n",
              "  <thead>\n",
              "    <tr style=\"text-align: right;\">\n",
              "      <th></th>\n",
              "      <th>courseinfo</th>\n",
              "      <th>roadlength</th>\n",
              "      <th>roadroute</th>\n",
              "      <th>roadtime</th>\n",
              "    </tr>\n",
              "  </thead>\n",
              "  <tbody>\n",
              "    <tr>\n",
              "      <th>0</th>\n",
              "      <td>홍류동 계곡의 비경과 자연의 숨소리를 들으며 소리길을 느껴보세요. \\r\\r\\n‘해인...</td>\n",
              "      <td>약 6km</td>\n",
              "      <td>대장경문화축전주차장 -&gt; 대장경천년문화축전주차장</td>\n",
              "      <td>약 2시간</td>\n",
              "    </tr>\n",
              "    <tr>\n",
              "      <th>1</th>\n",
              "      <td>다양한 수목 군락지를 만날 수 있는 골골이 많은 전설을 지닌 자굴산 \\r\\r\\n둘레...</td>\n",
              "      <td>약 3.7km</td>\n",
              "      <td>쇠목재--&gt;절터샘--&gt;전망대--&gt; 달분재--&gt; 베틀바위--&gt;자굴산 정상--&gt;쇠목재(...</td>\n",
              "      <td>약 3시간20분</td>\n",
              "    </tr>\n",
              "    <tr>\n",
              "      <th>2</th>\n",
              "      <td>암자들을 하나하나 둘러보며 천년의 역사를 느낄 수 있는 곳! 가야산 남쪽 자락에 자...</td>\n",
              "      <td>약 16km</td>\n",
              "      <td>대장경천년문화축전주행사장 (주차장) -&gt; 홍제암 -&gt; 가야산대피소 -&gt; 학사대 -&gt;...</td>\n",
              "      <td>약 5시간 20분</td>\n",
              "    </tr>\n",
              "    <tr>\n",
              "      <th>3</th>\n",
              "      <td>남덕유산 삿갓골샘 아랫마을, 황점마을에서 이어지는 이 길은 월성계곡의 아름다운 풍광...</td>\n",
              "      <td>약 11km</td>\n",
              "      <td>북상면사무소 -&gt; 숲옛마을 -&gt; 민들레올 -&gt; 분설담 -&gt; 주은자연휴양림 -&gt; 사선...</td>\n",
              "      <td>약 3~4시간</td>\n",
              "    </tr>\n",
              "  </tbody>\n",
              "</table>\n",
              "</div>\n",
              "      <button class=\"colab-df-convert\" onclick=\"convertToInteractive('df-12eb4f56-fd83-4755-a235-942ec24d124b')\"\n",
              "              title=\"Convert this dataframe to an interactive table.\"\n",
              "              style=\"display:none;\">\n",
              "        \n",
              "  <svg xmlns=\"http://www.w3.org/2000/svg\" height=\"24px\"viewBox=\"0 0 24 24\"\n",
              "       width=\"24px\">\n",
              "    <path d=\"M0 0h24v24H0V0z\" fill=\"none\"/>\n",
              "    <path d=\"M18.56 5.44l.94 2.06.94-2.06 2.06-.94-2.06-.94-.94-2.06-.94 2.06-2.06.94zm-11 1L8.5 8.5l.94-2.06 2.06-.94-2.06-.94L8.5 2.5l-.94 2.06-2.06.94zm10 10l.94 2.06.94-2.06 2.06-.94-2.06-.94-.94-2.06-.94 2.06-2.06.94z\"/><path d=\"M17.41 7.96l-1.37-1.37c-.4-.4-.92-.59-1.43-.59-.52 0-1.04.2-1.43.59L10.3 9.45l-7.72 7.72c-.78.78-.78 2.05 0 2.83L4 21.41c.39.39.9.59 1.41.59.51 0 1.02-.2 1.41-.59l7.78-7.78 2.81-2.81c.8-.78.8-2.07 0-2.86zM5.41 20L4 18.59l7.72-7.72 1.47 1.35L5.41 20z\"/>\n",
              "  </svg>\n",
              "      </button>\n",
              "      \n",
              "  <style>\n",
              "    .colab-df-container {\n",
              "      display:flex;\n",
              "      flex-wrap:wrap;\n",
              "      gap: 12px;\n",
              "    }\n",
              "\n",
              "    .colab-df-convert {\n",
              "      background-color: #E8F0FE;\n",
              "      border: none;\n",
              "      border-radius: 50%;\n",
              "      cursor: pointer;\n",
              "      display: none;\n",
              "      fill: #1967D2;\n",
              "      height: 32px;\n",
              "      padding: 0 0 0 0;\n",
              "      width: 32px;\n",
              "    }\n",
              "\n",
              "    .colab-df-convert:hover {\n",
              "      background-color: #E2EBFA;\n",
              "      box-shadow: 0px 1px 2px rgba(60, 64, 67, 0.3), 0px 1px 3px 1px rgba(60, 64, 67, 0.15);\n",
              "      fill: #174EA6;\n",
              "    }\n",
              "\n",
              "    [theme=dark] .colab-df-convert {\n",
              "      background-color: #3B4455;\n",
              "      fill: #D2E3FC;\n",
              "    }\n",
              "\n",
              "    [theme=dark] .colab-df-convert:hover {\n",
              "      background-color: #434B5C;\n",
              "      box-shadow: 0px 1px 3px 1px rgba(0, 0, 0, 0.15);\n",
              "      filter: drop-shadow(0px 1px 2px rgba(0, 0, 0, 0.3));\n",
              "      fill: #FFFFFF;\n",
              "    }\n",
              "  </style>\n",
              "\n",
              "      <script>\n",
              "        const buttonEl =\n",
              "          document.querySelector('#df-12eb4f56-fd83-4755-a235-942ec24d124b button.colab-df-convert');\n",
              "        buttonEl.style.display =\n",
              "          google.colab.kernel.accessAllowed ? 'block' : 'none';\n",
              "\n",
              "        async function convertToInteractive(key) {\n",
              "          const element = document.querySelector('#df-12eb4f56-fd83-4755-a235-942ec24d124b');\n",
              "          const dataTable =\n",
              "            await google.colab.kernel.invokeFunction('convertToInteractive',\n",
              "                                                     [key], {});\n",
              "          if (!dataTable) return;\n",
              "\n",
              "          const docLinkHtml = 'Like what you see? Visit the ' +\n",
              "            '<a target=\"_blank\" href=https://colab.research.google.com/notebooks/data_table.ipynb>data table notebook</a>'\n",
              "            + ' to learn more about interactive tables.';\n",
              "          element.innerHTML = '';\n",
              "          dataTable['output_type'] = 'display_data';\n",
              "          await google.colab.output.renderOutput(dataTable, element);\n",
              "          const docLink = document.createElement('div');\n",
              "          docLink.innerHTML = docLinkHtml;\n",
              "          element.appendChild(docLink);\n",
              "        }\n",
              "      </script>\n",
              "    </div>\n",
              "  </div>\n",
              "  "
            ]
          },
          "metadata": {},
          "execution_count": 40
        }
      ]
    },
    {
      "cell_type": "code",
      "source": [
        "iface = gr.Interface(test, gr.inputs.Dropdown(['경상남도']), outputs=['dataframe'])\n",
        "iface.launch(debug=True)"
      ],
      "metadata": {
        "colab": {
          "base_uri": "https://localhost:8080/",
          "height": 665
        },
        "id": "irPL-abD7Nv0",
        "outputId": "b245ac83-7c8d-43a9-c480-bc3409c67df0"
      },
      "execution_count": 41,
      "outputs": [
        {
          "output_type": "stream",
          "name": "stdout",
          "text": [
            "Colab notebook detected. This cell will run indefinitely so that you can see errors and logs. To turn off, set debug=False in launch().\n",
            "Running on public URL: https://43625.gradio.app\n",
            "\n",
            "This share link expires in 72 hours. For free permanent hosting, check out Spaces (https://huggingface.co/spaces)\n"
          ]
        },
        {
          "output_type": "display_data",
          "data": {
            "text/plain": [
              "<IPython.lib.display.IFrame at 0x7f4323ab0ad0>"
            ],
            "text/html": [
              "\n",
              "        <iframe\n",
              "            width=\"900\"\n",
              "            height=\"500\"\n",
              "            src=\"https://43625.gradio.app\"\n",
              "            frameborder=\"0\"\n",
              "            allowfullscreen\n",
              "        ></iframe>\n",
              "        "
            ]
          },
          "metadata": {}
        },
        {
          "output_type": "stream",
          "name": "stdout",
          "text": [
            "Keyboard interruption in main thread... closing server.\n"
          ]
        },
        {
          "output_type": "execute_result",
          "data": {
            "text/plain": [
              "(<fastapi.applications.FastAPI at 0x7f43259f8550>,\n",
              " 'http://127.0.0.1:7860/',\n",
              " 'https://43625.gradio.app')"
            ]
          },
          "metadata": {},
          "execution_count": 41
        }
      ]
    }
  ]
}